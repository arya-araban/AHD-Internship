{
  "nbformat": 4,
  "nbformat_minor": 0,
  "metadata": {
    "colab": {
      "name": "AHD_HW3.ipynb",
      "provenance": [],
      "collapsed_sections": [],
      "toc_visible": true
    },
    "kernelspec": {
      "name": "python3",
      "display_name": "Python 3"
    },
    "language_info": {
      "name": "python"
    }
  },
  "cells": [
    {
      "cell_type": "markdown",
      "metadata": {
        "id": "3vJOP00EitZV"
      },
      "source": [
        "**Q - when should we use MSE, and when should we use Cross-Entropy as a means to evaluate our model?**"
      ]
    },
    {
      "cell_type": "markdown",
      "metadata": {
        "id": "CWwZkyEOeljk"
      },
      "source": [
        "cross entropy is a measure of difference between two discrete probability distributions. In particular the categorical cross entropy is used as the loss function where the target variable is binary (0, 1) with some probability (0..1). This measure is mainly used in **classification tasks**\n",
        "\n",
        "\n",
        "The mean squared error is a measure of distance (expressed as the variance) between two sets of real (continuous) values (-inf .. +inf), and is mostly useful for linear regression, where we have a dataset which outputs a continous value, and we are looking to predict continous values"
      ]
    },
    {
      "cell_type": "markdown",
      "metadata": {
        "id": "3L9Vn3uKzz_s"
      },
      "source": [
        "**Q - when do we use the Softmax activation function?**"
      ]
    },
    {
      "cell_type": "markdown",
      "metadata": {
        "id": "7PHcIMqI0V-c"
      },
      "source": [
        "The softmax activation function is usually used as the activation function of the final layer of neural networks to be able to give a human interpretable probability among the final layer's neurons, where all the nuerons sum up to become the value 1, usually the highest value neuron is \"fired\", outputing the value 1, whereas the other nuerons output the value 0. By this we can understand that Softmax is usually used for cases where we want to only select one class among many classes (>2). in classification tasks where we pick only have two classes, or for multi-label classification tasks, the sigmoid activation function is used instead of softmax. "
      ]
    },
    {
      "cell_type": "markdown",
      "metadata": {
        "id": "m9WW-NND_RAM"
      },
      "source": [
        "**Q - What's the difference between incremental learning and batch learning?**"
      ]
    },
    {
      "cell_type": "markdown",
      "metadata": {
        "id": "reordZ-EATul"
      },
      "source": [
        "Incremental learning, also known as Online learning, is a machine learning method in which the system learns “incrementally” with an updating algorithm, and the system’s knowledge is updated every time, Meaning this method is constantly updating its weights, its error calculation (and thus gradient estimation) uses different weights for each input sample.\n",
        "\n",
        "In the Bach based method, it takes less time to process the data that comes in bulk, and it’s updated once the data chunk is processed. In this method, the learning happens only when the batch processing is completed. This means that this method keeps the system weights constant while computing the error associated with each sample in the input. Note that the batch can either be the entire data we have at hand, or the data can be split throughout equal sized batches. One entire iteration of the data is known as an epoch\n",
        "\n",
        "Most of the ML learning algorithms follow the Batch method. "
      ]
    },
    {
      "cell_type": "code",
      "metadata": {
        "id": "oM83ovwFiBri"
      },
      "source": [
        "import pandas as pd\n",
        "import tensorflow as tf\n",
        "from tensorflow import keras\n",
        "from tensorflow.keras import layers\n",
        "from keras.models import Sequential\n",
        "from keras.layers import LeakyReLU\n",
        "from keras.layers import Activation, Dense,Dropout\n",
        "import numpy as np\n",
        "import matplotlib.pyplot as plt\n",
        "import sklearn\n",
        "from sklearn.preprocessing import normalize\n",
        "from sklearn.preprocessing import MinMaxScaler\n",
        "from sklearn.model_selection import train_test_split"
      ],
      "execution_count": null,
      "outputs": []
    },
    {
      "cell_type": "code",
      "metadata": {
        "colab": {
          "base_uri": "https://localhost:8080/"
        },
        "id": "Lk39sDIB36ZK",
        "outputId": "b604379e-f85c-41a4-b04a-a19eed849f05"
      },
      "source": [
        "!pip install utilspie\n",
        "\n",
        "from utilspie import iterutils"
      ],
      "execution_count": null,
      "outputs": [
        {
          "output_type": "stream",
          "text": [
            "Collecting utilspie\n",
            "  Downloading utilspie-0.1.0-py2.py3-none-any.whl (10 kB)\n",
            "Installing collected packages: utilspie\n",
            "Successfully installed utilspie-0.1.0\n"
          ],
          "name": "stdout"
        }
      ]
    },
    {
      "cell_type": "code",
      "metadata": {
        "colab": {
          "base_uri": "https://localhost:8080/"
        },
        "id": "uUQWf_i_iZar",
        "outputId": "704e914e-beee-47b8-cd89-5e146e24e8e7"
      },
      "source": [
        "from google.colab import drive\n",
        "drive.mount('/content/drive')"
      ],
      "execution_count": null,
      "outputs": [
        {
          "output_type": "stream",
          "text": [
            "Mounted at /content/drive\n"
          ],
          "name": "stdout"
        }
      ]
    },
    {
      "cell_type": "code",
      "metadata": {
        "id": "wb4emX5_ijsj"
      },
      "source": [
        "main_df = pd.read_excel('/content/drive/MyDrive/datasets/Temperature.xlsx')"
      ],
      "execution_count": null,
      "outputs": []
    },
    {
      "cell_type": "markdown",
      "metadata": {
        "id": "hTfpimLSdB70"
      },
      "source": [
        "lets normalize the dataset with a min-max scaler"
      ]
    },
    {
      "cell_type": "code",
      "metadata": {
        "id": "AY2QR9w54P36"
      },
      "source": [
        " scaler = MinMaxScaler()\n",
        " main_df[['دما']] = scaler.fit_transform(main_df[['دما']]) #first normalize the entire dataset"
      ],
      "execution_count": null,
      "outputs": []
    },
    {
      "cell_type": "markdown",
      "metadata": {
        "id": "UF6Xi2gc5Ns6"
      },
      "source": [
        "#Exercise part 1 - Building the datasets"
      ]
    },
    {
      "cell_type": "code",
      "metadata": {
        "id": "TVMBwhx1nqgH"
      },
      "source": [
        "'''\n",
        "This function takes in a window_size, and splits the main dataframes tempature \n",
        "column into the input and output columns the question expects.\n",
        "\n",
        "\n",
        "'''\n",
        "def create_df(window_size):\n",
        "  df = pd.DataFrame(columns=('temp_in', 'temp_out'))\n",
        "  #enumerating on equal size chunks of window_size+1\n",
        "  for i, lst in enumerate(list(iterutils.get_chunks(list(main_df['دما']), window_size+1))): \n",
        "    try:\n",
        "      df = df.append({'temp_in':np.array(lst[0:window_size]), 'temp_out':lst[window_size]}, ignore_index=True)\n",
        "    except IndexError:\n",
        "      break\n",
        "  return df"
      ],
      "execution_count": null,
      "outputs": []
    },
    {
      "cell_type": "code",
      "metadata": {
        "id": "CXLCgwYyumxa"
      },
      "source": [
        "df1=create_df(3)\n",
        "df2=create_df(5)\n",
        "df3= create_df(10)"
      ],
      "execution_count": null,
      "outputs": []
    },
    {
      "cell_type": "markdown",
      "metadata": {
        "id": "Ux76U-aF-JKY"
      },
      "source": [
        ""
      ]
    },
    {
      "cell_type": "code",
      "metadata": {
        "id": "F7wsKUXs3kD-"
      },
      "source": [
        "# df1['temp_in'] = MinMaxScaler().fit_transform(np.array(df1['temp_in']).tolist()).tolist()\n",
        "# df2['temp_in'] = MinMaxScaler().fit_transform(np.array(df2['temp_in']).tolist()).tolist()\n",
        "# df3['temp_in'] = MinMaxScaler().fit_transform(np.array(df3['temp_in']).tolist()).tolist()"
      ],
      "execution_count": null,
      "outputs": []
    },
    {
      "cell_type": "code",
      "metadata": {
        "colab": {
          "base_uri": "https://localhost:8080/",
          "height": 419
        },
        "id": "OH-A0r2KOI3D",
        "outputId": "27cf62ee-9e1e-465d-8bba-770e4d22caf0"
      },
      "source": [
        "df1"
      ],
      "execution_count": null,
      "outputs": [
        {
          "output_type": "execute_result",
          "data": {
            "text/html": [
              "<div>\n",
              "<style scoped>\n",
              "    .dataframe tbody tr th:only-of-type {\n",
              "        vertical-align: middle;\n",
              "    }\n",
              "\n",
              "    .dataframe tbody tr th {\n",
              "        vertical-align: top;\n",
              "    }\n",
              "\n",
              "    .dataframe thead th {\n",
              "        text-align: right;\n",
              "    }\n",
              "</style>\n",
              "<table border=\"1\" class=\"dataframe\">\n",
              "  <thead>\n",
              "    <tr style=\"text-align: right;\">\n",
              "      <th></th>\n",
              "      <th>temp_in</th>\n",
              "      <th>temp_out</th>\n",
              "    </tr>\n",
              "  </thead>\n",
              "  <tbody>\n",
              "    <tr>\n",
              "      <th>0</th>\n",
              "      <td>[0.4070796460176991, 0.3893805309734513, 0.453...</td>\n",
              "      <td>0.573451</td>\n",
              "    </tr>\n",
              "    <tr>\n",
              "      <th>1</th>\n",
              "      <td>[0.584070796460177, 0.4672566371681416, 0.4424...</td>\n",
              "      <td>0.417699</td>\n",
              "    </tr>\n",
              "    <tr>\n",
              "      <th>2</th>\n",
              "      <td>[0.44601769911504424, 0.46017699115044247, 0.5...</td>\n",
              "      <td>0.467257</td>\n",
              "    </tr>\n",
              "    <tr>\n",
              "      <th>3</th>\n",
              "      <td>[0.4424778761061947, 0.4247787610619469, 0.417...</td>\n",
              "      <td>0.407080</td>\n",
              "    </tr>\n",
              "    <tr>\n",
              "      <th>4</th>\n",
              "      <td>[0.39292035398230085, 0.31504424778761064, 0.3...</td>\n",
              "      <td>0.414159</td>\n",
              "    </tr>\n",
              "    <tr>\n",
              "      <th>...</th>\n",
              "      <td>...</td>\n",
              "      <td>...</td>\n",
              "    </tr>\n",
              "    <tr>\n",
              "      <th>7268</th>\n",
              "      <td>[0.5274336283185841, 0.5575221238938053, 0.4]</td>\n",
              "      <td>0.323894</td>\n",
              "    </tr>\n",
              "    <tr>\n",
              "      <th>7269</th>\n",
              "      <td>[0.2778761061946903, 0.25486725663716814, 0.21...</td>\n",
              "      <td>0.470796</td>\n",
              "    </tr>\n",
              "    <tr>\n",
              "      <th>7270</th>\n",
              "      <td>[0.5433628318584071, 0.5469026548672566, 0.384...</td>\n",
              "      <td>0.292035</td>\n",
              "    </tr>\n",
              "    <tr>\n",
              "      <th>7271</th>\n",
              "      <td>[0.27079646017699116, 0.22654867256637168, 0.2...</td>\n",
              "      <td>0.453097</td>\n",
              "    </tr>\n",
              "    <tr>\n",
              "      <th>7272</th>\n",
              "      <td>[0.5309734513274336, 0.5575221238938053, 0.396...</td>\n",
              "      <td>0.345133</td>\n",
              "    </tr>\n",
              "  </tbody>\n",
              "</table>\n",
              "<p>7273 rows × 2 columns</p>\n",
              "</div>"
            ],
            "text/plain": [
              "                                                temp_in  temp_out\n",
              "0     [0.4070796460176991, 0.3893805309734513, 0.453...  0.573451\n",
              "1     [0.584070796460177, 0.4672566371681416, 0.4424...  0.417699\n",
              "2     [0.44601769911504424, 0.46017699115044247, 0.5...  0.467257\n",
              "3     [0.4424778761061947, 0.4247787610619469, 0.417...  0.407080\n",
              "4     [0.39292035398230085, 0.31504424778761064, 0.3...  0.414159\n",
              "...                                                 ...       ...\n",
              "7268      [0.5274336283185841, 0.5575221238938053, 0.4]  0.323894\n",
              "7269  [0.2778761061946903, 0.25486725663716814, 0.21...  0.470796\n",
              "7270  [0.5433628318584071, 0.5469026548672566, 0.384...  0.292035\n",
              "7271  [0.27079646017699116, 0.22654867256637168, 0.2...  0.453097\n",
              "7272  [0.5309734513274336, 0.5575221238938053, 0.396...  0.345133\n",
              "\n",
              "[7273 rows x 2 columns]"
            ]
          },
          "metadata": {},
          "execution_count": 9
        }
      ]
    },
    {
      "cell_type": "markdown",
      "metadata": {
        "id": "Eb5o7JjnzJQd"
      },
      "source": [
        "#Exercise part 2 - creating and testing NN's"
      ]
    },
    {
      "cell_type": "markdown",
      "metadata": {
        "id": "IqPX8mNFU2aZ"
      },
      "source": [
        "we'll be tuning our NN by basing one of the datasets, and then create seperate models (with the tuned parameters) for each of the datasets"
      ]
    },
    {
      "cell_type": "code",
      "metadata": {
        "id": "hWn6886XUDg9"
      },
      "source": [
        "xtrain1, xtest1, ytrain1, ytest1 = train_test_split(df1['temp_in'].apply(pd.Series), df1['temp_out'], test_size=0.25)\n",
        "xtrain2, xtest2, ytrain2, ytest2 = train_test_split(df2['temp_in'].apply(pd.Series), df2['temp_out'], test_size=0.25)\n",
        "xtrain3, xtest3, ytrain3, ytest3 = train_test_split(df3['temp_in'].apply(pd.Series), df3['temp_out'], test_size=0.25)"
      ],
      "execution_count": null,
      "outputs": []
    },
    {
      "cell_type": "code",
      "metadata": {
        "colab": {
          "base_uri": "https://localhost:8080/"
        },
        "id": "Fusd9ireeg-e",
        "outputId": "e496594a-4326-481d-dfa9-0d943573d7b8"
      },
      "source": [
        "print(xtrain1)"
      ],
      "execution_count": null,
      "outputs": [
        {
          "output_type": "stream",
          "text": [
            "             0         1         2\n",
            "3057  0.500885  0.417699  0.334513\n",
            "3484  0.566372  0.601770  0.796460\n",
            "724   0.265487  0.223009  0.343363\n",
            "1101  0.934513  0.881416  0.771681\n",
            "6711  0.391150  0.488496  0.569912\n",
            "...        ...       ...       ...\n",
            "4364  0.362832  0.460177  0.456637\n",
            "5629  0.575221  0.548673  0.550442\n",
            "2524  0.623009  0.660177  0.732743\n",
            "99    0.513274  0.400000  0.361062\n",
            "6393  0.486726  0.743363  0.794690\n",
            "\n",
            "[5454 rows x 3 columns]\n"
          ],
          "name": "stdout"
        }
      ]
    },
    {
      "cell_type": "code",
      "metadata": {
        "id": "SX4IymDeZwJS"
      },
      "source": [
        "NUM_HIDDEN_LAYERS = 1\n",
        "LAYER_SIZE = 145\n",
        "LEARNING_RATE = 0.01\n",
        "ACTIVATION_FUNC = 'relu'"
      ],
      "execution_count": null,
      "outputs": []
    },
    {
      "cell_type": "code",
      "metadata": {
        "id": "KZjBTfyi5t8I"
      },
      "source": [
        "def get_model(n_inputs, n_outputs):\n",
        "  model = Sequential()\n",
        "  model.add(Dense(LAYER_SIZE, input_dim=n_inputs, kernel_initializer='normal', activation=ACTIVATION_FUNC))\n",
        "  for _ in range(NUM_HIDDEN_LAYERS-1): \n",
        "    model.add(Dense(LAYER_SIZE, kernel_initializer='normal', activation=ACTIVATION_FUNC))\n",
        "  model.add(Dense(1, kernel_initializer='normal'))\n",
        "  # Compile model\n",
        "  opt = keras.optimizers.Adam(learning_rate=LEARNING_RATE)\n",
        "  model.compile(loss='mean_squared_error', optimizer=opt)\n",
        "  return model\n",
        " \n",
        "\n",
        "n_inputs, n_outputs = xtrain1.shape[1], 1\n",
        "\n",
        "\n",
        "model = get_model(n_inputs, n_outputs)\n",
        "history= model.fit(xtrain1, ytrain1, verbose=0, epochs=30,validation_split = 0.1)"
      ],
      "execution_count": null,
      "outputs": []
    },
    {
      "cell_type": "code",
      "metadata": {
        "colab": {
          "base_uri": "https://localhost:8080/",
          "height": 279
        },
        "id": "u5I8IZbqDjWY",
        "outputId": "6ecf5d2b-0465-4deb-eb34-5268bfbfe161"
      },
      "source": [
        "loss_values = history.history['loss']\n",
        "vlloss_values = history.history['val_loss']\n",
        "epochs = range(1, len(loss_values)+1)\n",
        "\n",
        "plt.plot(epochs, loss_values, label='Training Loss')\n",
        "plt.plot(vlloss_values, label='Validation Loss')\n",
        "plt.xlabel('Epochs')\n",
        "plt.ylabel('Loss')\n",
        "plt.legend()\n",
        "\n",
        "plt.show()"
      ],
      "execution_count": null,
      "outputs": [
        {
          "output_type": "display_data",
          "data": {
            "image/png": "[encoded data removed]",
            "text/plain": [
              "<Figure size 432x288 with 1 Axes>"
            ]
          },
          "metadata": {
            "needs_background": "light"
          }
        }
      ]
    },
    {
      "cell_type": "code",
      "metadata": {
        "colab": {
          "base_uri": "https://localhost:8080/"
        },
        "id": "gKshWbB5EIFG",
        "outputId": "8bc41feb-64a1-4fe5-bdc2-52e48c80451f"
      },
      "source": [
        "model1 = get_model(3, 1)\n",
        "model1.fit(xtrain1, ytrain1, verbose=0, epochs=15)\n",
        "\n",
        "model2 = get_model(5, 1)\n",
        "model2.fit(xtrain2, ytrain2, verbose=0, epochs=15)\n",
        "\n",
        "print(\"verbose for third model: \")\n",
        "model3 = get_model(10, 1)\n",
        "model3.fit(xtrain3, ytrain3, verbose=1, epochs=15)\n",
        "\n"
      ],
      "execution_count": null,
      "outputs": [
        {
          "output_type": "stream",
          "text": [
            "verbose for third model: \n",
            "Epoch 1/15\n",
            "62/62 [==============================] - 0s 2ms/step - loss: 0.0237\n",
            "Epoch 2/15\n",
            "62/62 [==============================] - 0s 1ms/step - loss: 0.0030\n",
            "Epoch 3/15\n",
            "62/62 [==============================] - 0s 1ms/step - loss: 0.0022\n",
            "Epoch 4/15\n",
            "62/62 [==============================] - 0s 2ms/step - loss: 0.0019\n",
            "Epoch 5/15\n",
            "62/62 [==============================] - 0s 2ms/step - loss: 0.0019\n",
            "Epoch 6/15\n",
            "62/62 [==============================] - 0s 1ms/step - loss: 0.0015\n",
            "Epoch 7/15\n",
            "62/62 [==============================] - 0s 2ms/step - loss: 0.0015\n",
            "Epoch 8/15\n",
            "62/62 [==============================] - 0s 2ms/step - loss: 0.0016\n",
            "Epoch 9/15\n",
            "62/62 [==============================] - 0s 1ms/step - loss: 0.0016\n",
            "Epoch 10/15\n",
            "62/62 [==============================] - 0s 1ms/step - loss: 0.0014\n",
            "Epoch 11/15\n",
            "62/62 [==============================] - 0s 2ms/step - loss: 0.0015\n",
            "Epoch 12/15\n",
            "62/62 [==============================] - 0s 2ms/step - loss: 0.0014\n",
            "Epoch 13/15\n",
            "62/62 [==============================] - 0s 2ms/step - loss: 0.0013\n",
            "Epoch 14/15\n",
            "62/62 [==============================] - 0s 2ms/step - loss: 0.0012\n",
            "Epoch 15/15\n",
            "62/62 [==============================] - 0s 2ms/step - loss: 0.0014\n"
          ],
          "name": "stdout"
        },
        {
          "output_type": "execute_result",
          "data": {
            "text/plain": [
              "<keras.callbacks.History at 0x7f57fc4b4750>"
            ]
          },
          "metadata": {},
          "execution_count": 87
        }
      ]
    },
    {
      "cell_type": "code",
      "metadata": {
        "id": "_kvziYjsIJxb"
      },
      "source": [
        "ypred1 = model1.predict(xtest1)\n",
        "ypred2 = model2.predict(xtest2)\n",
        "ypred3 = model3.predict(xtest3)"
      ],
      "execution_count": null,
      "outputs": []
    },
    {
      "cell_type": "code",
      "metadata": {
        "colab": {
          "base_uri": "https://localhost:8080/"
        },
        "id": "nf8bc6wDLQXA",
        "outputId": "093d1490-5e94-40c8-8afa-68780e84291b"
      },
      "source": [
        "print (\"***** R2 SCORE *****\")\n",
        "print(f\"database 1 : {sklearn.metrics.r2_score(ytest1,ypred1)}\")\n",
        "print(f\"database 2: {sklearn.metrics.r2_score(ytest2,ypred2)}\")\n",
        "print(f\"database 3: {sklearn.metrics.r2_score(ytest3,ypred3)}\")\n",
        "\n",
        "print(\"\\n\\n\")\n",
        "\n",
        "print (\"***** Mean Squeard Error *****\")\n",
        "print(f\"database 1 : {sklearn.metrics.mean_squared_error(ytest1,ypred1)}\")\n",
        "print(f\"database 2: {sklearn.metrics.mean_squared_error(ytest2,ypred2)}\")\n",
        "print(f\"database 3: {sklearn.metrics.mean_squared_error(ytest3,ypred3)}\")"
      ],
      "execution_count": null,
      "outputs": [
        {
          "output_type": "stream",
          "text": [
            "***** R2 SCORE *****\n",
            "database 1 : 0.8752122313834875\n",
            "database 2: 0.9314291586817531\n",
            "database 3: 0.9690746839112283\n",
            "\n",
            "\n",
            "\n",
            "***** Mean Squeard Error *****\n",
            "database 1 : 0.004579657547498688\n",
            "database 2: 0.002500762516705793\n",
            "database 3: 0.0012169487073048278\n"
          ],
          "name": "stdout"
        }
      ]
    },
    {
      "cell_type": "markdown",
      "metadata": {
        "id": "TNL_OgFxrnKA"
      },
      "source": [
        "after tuning the hyperparameters based on one of the datasets, and creating a seperate model for each of the datasesets with these tuned parameters, we seem to be getting good results for each of the databases. \n",
        "\n",
        "for tuning the hyperparameters I tried many different variations, until I reached a variation which gave me the best results among them all.\n",
        "\n",
        "For example, I tried creating a deep network, but I saw that not only wasn't I getting better results, but the results were slightly worse.\n",
        "Or that having a small number of neurons for the hidden layers wasn't giving good results, but by picking a moderate number, I got acceptable results. As for the activation function, the Relu function seemed to be giving the best result "
      ]
    }
  ]
}