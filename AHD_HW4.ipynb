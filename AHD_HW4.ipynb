{
  "nbformat": 4,
  "nbformat_minor": 0,
  "metadata": {
    "colab": {
      "name": "AHD_HW4.ipynb",
      "provenance": [],
      "collapsed_sections": []
    },
    "kernelspec": {
      "name": "python3",
      "display_name": "Python 3"
    },
    "language_info": {
      "name": "python"
    }
  },
  "cells": [
    {
      "cell_type": "code",
      "metadata": {
        "colab": {
          "base_uri": "https://localhost:8080/"
        },
        "id": "hdvj3htTijzp",
        "outputId": "46023b41-1356-4e1a-8d38-c3385a604aaf"
      },
      "source": [
        "!pip install --upgrade scikit-learn\n",
        "!pip install fasttext"
      ],
      "execution_count": null,
      "outputs": [
        {
          "output_type": "stream",
          "name": "stdout",
          "text": [
            "Requirement already satisfied: scikit-learn in /usr/local/lib/python3.7/dist-packages (0.24.2)\n",
            "Requirement already satisfied: scipy>=0.19.1 in /usr/local/lib/python3.7/dist-packages (from scikit-learn) (1.4.1)\n",
            "Requirement already satisfied: numpy>=1.13.3 in /usr/local/lib/python3.7/dist-packages (from scikit-learn) (1.19.5)\n",
            "Requirement already satisfied: threadpoolctl>=2.0.0 in /usr/local/lib/python3.7/dist-packages (from scikit-learn) (2.2.0)\n",
            "Requirement already satisfied: joblib>=0.11 in /usr/local/lib/python3.7/dist-packages (from scikit-learn) (1.0.1)\n",
            "\u001b[31mERROR: Operation cancelled by user\u001b[0m\n",
            "Traceback (most recent call last):\n",
            "  File \"/usr/local/lib/python3.7/dist-packages/pip/_vendor/pkg_resources/__init__.py\", line 3021, in _dep_map\n",
            "    return self.__dep_map\n",
            "  File \"/usr/local/lib/python3.7/dist-packages/pip/_vendor/pkg_resources/__init__.py\", line 2815, in __getattr__\n",
            "    raise AttributeError(attr)\n",
            "AttributeError: _DistInfoDistribution__dep_map\n",
            "\n",
            "During handling of the above exception, another exception occurred:\n",
            "\n",
            "Traceback (most recent call last):\n",
            "  File \"/usr/local/lib/python3.7/dist-packages/pip/_internal/cli/base_command.py\", line 180, in _main\n",
            "    status = self.run(options, args)\n",
            "  File \"/usr/local/lib/python3.7/dist-packages/pip/_internal/cli/req_command.py\", line 199, in wrapper\n",
            "    return func(self, options, args)\n",
            "  File \"/usr/local/lib/python3.7/dist-packages/pip/_internal/commands/install.py\", line 385, in run\n",
            "    conflicts = self._determine_conflicts(to_install)\n",
            "  File \"/usr/local/lib/python3.7/dist-packages/pip/_internal/commands/install.py\", line 515, in _determine_conflicts\n",
            "    return check_install_conflicts(to_install)\n",
            "  File \"/usr/local/lib/python3.7/dist-packages/pip/_internal/operations/check.py\", line 103, in check_install_conflicts\n",
            "    package_set, _ = create_package_set_from_installed()\n",
            "  File \"/usr/local/lib/python3.7/dist-packages/pip/_internal/operations/check.py\", line 45, in create_package_set_from_installed\n",
            "    package_set[name] = PackageDetails(dist.version, dist.requires())\n",
            "  File \"/usr/local/lib/python3.7/dist-packages/pip/_vendor/pkg_resources/__init__.py\", line 2736, in requires\n",
            "    dm = self._dep_map\n",
            "  File \"/usr/local/lib/python3.7/dist-packages/pip/_vendor/pkg_resources/__init__.py\", line 3023, in _dep_map\n",
            "    self.__dep_map = self._compute_dependencies()\n",
            "  File \"/usr/local/lib/python3.7/dist-packages/pip/_vendor/pkg_resources/__init__.py\", line 3033, in _compute_dependencies\n",
            "    reqs.extend(parse_requirements(req))\n",
            "  File \"/usr/local/lib/python3.7/dist-packages/pip/_vendor/pkg_resources/__init__.py\", line 3094, in parse_requirements\n",
            "    yield Requirement(line)\n",
            "  File \"/usr/local/lib/python3.7/dist-packages/pip/_vendor/pkg_resources/__init__.py\", line 3101, in __init__\n",
            "    super(Requirement, self).__init__(requirement_string)\n",
            "  File \"/usr/local/lib/python3.7/dist-packages/pip/_vendor/packaging/requirements.py\", line 113, in __init__\n",
            "    req = REQUIREMENT.parseString(requirement_string)\n",
            "  File \"/usr/local/lib/python3.7/dist-packages/pip/_vendor/pyparsing.py\", line 1943, in parseString\n",
            "    loc, tokens = self._parse(instring, 0)\n",
            "  File \"/usr/local/lib/python3.7/dist-packages/pip/_vendor/pyparsing.py\", line 1683, in _parseNoCache\n",
            "    loc, tokens = self.parseImpl(instring, preloc, doActions)\n",
            "  File \"/usr/local/lib/python3.7/dist-packages/pip/_vendor/pyparsing.py\", line 4069, in parseImpl\n",
            "    loc, exprtokens = e._parse(instring, loc, doActions)\n",
            "  File \"/usr/local/lib/python3.7/dist-packages/pip/_vendor/pyparsing.py\", line 1683, in _parseNoCache\n",
            "    loc, tokens = self.parseImpl(instring, preloc, doActions)\n",
            "  File \"/usr/local/lib/python3.7/dist-packages/pip/_vendor/pyparsing.py\", line 4254, in parseImpl\n",
            "    ret = e._parse(instring, loc, doActions)\n",
            "  File \"/usr/local/lib/python3.7/dist-packages/pip/_vendor/pyparsing.py\", line 1683, in _parseNoCache\n",
            "    loc, tokens = self.parseImpl(instring, preloc, doActions)\n",
            "  File \"/usr/local/lib/python3.7/dist-packages/pip/_vendor/pyparsing.py\", line 4069, in parseImpl\n",
            "    loc, exprtokens = e._parse(instring, loc, doActions)\n",
            "  File \"/usr/local/lib/python3.7/dist-packages/pip/_vendor/pyparsing.py\", line 1683, in _parseNoCache\n",
            "    loc, tokens = self.parseImpl(instring, preloc, doActions)\n",
            "  File \"/usr/local/lib/python3.7/dist-packages/pip/_vendor/pyparsing.py\", line 4849, in parseImpl\n",
            "    loc, tokens = self.expr._parse(instring, loc, doActions, callPreParse=False)\n",
            "  File \"/usr/local/lib/python3.7/dist-packages/pip/_vendor/pyparsing.py\", line 1683, in _parseNoCache\n",
            "    loc, tokens = self.parseImpl(instring, preloc, doActions)\n",
            "  File \"/usr/local/lib/python3.7/dist-packages/pip/_vendor/pyparsing.py\", line 4069, in parseImpl\n",
            "    loc, exprtokens = e._parse(instring, loc, doActions)\n",
            "  File \"/usr/local/lib/python3.7/dist-packages/pip/_vendor/pyparsing.py\", line 1716, in _parseNoCache\n",
            "    tokens = fn(instring, tokensStart, retTokens)\n",
            "  File \"/usr/local/lib/python3.7/dist-packages/pip/_vendor/pyparsing.py\", line 1316, in wrapper\n",
            "    ret = func(*args[limit[0]:])\n",
            "  File \"/usr/local/lib/python3.7/dist-packages/pip/_vendor/packaging/requirements.py\", line 81, in <lambda>\n",
            "    lambda s, l, t: Marker(s[t._original_start : t._original_end])\n",
            "  File \"/usr/local/lib/python3.7/dist-packages/pip/_vendor/packaging/markers.py\", line 307, in __init__\n",
            "    self._markers = _coerce_parse_result(MARKER.parseString(marker))\n",
            "  File \"/usr/local/lib/python3.7/dist-packages/pip/_vendor/pyparsing.py\", line 1943, in parseString\n",
            "    loc, tokens = self._parse(instring, 0)\n",
            "  File \"/usr/local/lib/python3.7/dist-packages/pip/_vendor/pyparsing.py\", line 1683, in _parseNoCache\n",
            "    loc, tokens = self.parseImpl(instring, preloc, doActions)\n",
            "  File \"/usr/local/lib/python3.7/dist-packages/pip/_vendor/pyparsing.py\", line 4069, in parseImpl\n",
            "    loc, exprtokens = e._parse(instring, loc, doActions)\n",
            "  File \"/usr/local/lib/python3.7/dist-packages/pip/_vendor/pyparsing.py\", line 1683, in _parseNoCache\n",
            "    loc, tokens = self.parseImpl(instring, preloc, doActions)\n",
            "  File \"/usr/local/lib/python3.7/dist-packages/pip/_vendor/pyparsing.py\", line 4462, in parseImpl\n",
            "    return self.expr._parse(instring, loc, doActions, callPreParse=False)\n",
            "  File \"/usr/local/lib/python3.7/dist-packages/pip/_vendor/pyparsing.py\", line 1683, in _parseNoCache\n",
            "    loc, tokens = self.parseImpl(instring, preloc, doActions)\n",
            "  File \"/usr/local/lib/python3.7/dist-packages/pip/_vendor/pyparsing.py\", line 4052, in parseImpl\n",
            "    loc, resultlist = self.exprs[0]._parse(instring, loc, doActions, callPreParse=False)\n",
            "  File \"/usr/local/lib/python3.7/dist-packages/pip/_vendor/pyparsing.py\", line 1683, in _parseNoCache\n",
            "    loc, tokens = self.parseImpl(instring, preloc, doActions)\n",
            "  File \"/usr/local/lib/python3.7/dist-packages/pip/_vendor/pyparsing.py\", line 4254, in parseImpl\n",
            "    ret = e._parse(instring, loc, doActions)\n",
            "  File \"/usr/local/lib/python3.7/dist-packages/pip/_vendor/pyparsing.py\", line 1683, in _parseNoCache\n",
            "    loc, tokens = self.parseImpl(instring, preloc, doActions)\n",
            "  File \"/usr/local/lib/python3.7/dist-packages/pip/_vendor/pyparsing.py\", line 4462, in parseImpl\n",
            "    return self.expr._parse(instring, loc, doActions, callPreParse=False)\n",
            "  File \"/usr/local/lib/python3.7/dist-packages/pip/_vendor/pyparsing.py\", line 1683, in _parseNoCache\n",
            "    loc, tokens = self.parseImpl(instring, preloc, doActions)\n",
            "  File \"/usr/local/lib/python3.7/dist-packages/pip/_vendor/pyparsing.py\", line 4069, in parseImpl\n",
            "    loc, exprtokens = e._parse(instring, loc, doActions)\n",
            "  File \"/usr/local/lib/python3.7/dist-packages/pip/_vendor/pyparsing.py\", line 1687, in _parseNoCache\n",
            "    loc, tokens = self.parseImpl(instring, preloc, doActions)\n",
            "  File \"/usr/local/lib/python3.7/dist-packages/pip/_vendor/pyparsing.py\", line 4462, in parseImpl\n",
            "    return self.expr._parse(instring, loc, doActions, callPreParse=False)\n",
            "  File \"/usr/local/lib/python3.7/dist-packages/pip/_vendor/pyparsing.py\", line 1691, in _parseNoCache\n",
            "    retTokens = ParseResults(tokens, self.resultsName, asList=self.saveAsList, modal=self.modalResults)\n",
            "  File \"/usr/local/lib/python3.7/dist-packages/pip/_vendor/pyparsing.py\", line 561, in __init__\n",
            "    self.__modal = modal\n",
            "KeyboardInterrupt\n",
            "\n",
            "During handling of the above exception, another exception occurred:\n",
            "\n",
            "Traceback (most recent call last):\n",
            "  File \"/usr/local/bin/pip3\", line 8, in <module>\n",
            "    sys.exit(main())\n",
            "  File \"/usr/local/lib/python3.7/dist-packages/pip/_internal/cli/main.py\", line 71, in main\n",
            "    return command.main(cmd_args)\n",
            "  File \"/usr/local/lib/python3.7/dist-packages/pip/_internal/cli/base_command.py\", line 104, in main\n",
            "    return self._main(args)\n",
            "  File \"/usr/local/lib/python3.7/dist-packages/pip/_internal/cli/base_command.py\", line 213, in _main\n",
            "    logger.debug(\"Exception information:\", exc_info=True)\n",
            "  File \"/usr/lib/python3.7/logging/__init__.py\", line 1366, in debug\n",
            "    self._log(DEBUG, msg, args, **kwargs)\n",
            "  File \"/usr/lib/python3.7/logging/__init__.py\", line 1514, in _log\n",
            "    self.handle(record)\n",
            "  File \"/usr/lib/python3.7/logging/__init__.py\", line 1524, in handle\n",
            "    self.callHandlers(record)\n",
            "  File \"/usr/lib/python3.7/logging/__init__.py\", line 1586, in callHandlers\n",
            "    hdlr.handle(record)\n",
            "  File \"/usr/lib/python3.7/logging/__init__.py\", line 894, in handle\n",
            "    self.emit(record)\n",
            "  File \"/usr/lib/python3.7/logging/handlers.py\", line 71, in emit\n",
            "    logging.FileHandler.emit(self, record)\n",
            "  File \"/usr/lib/python3.7/logging/__init__.py\", line 1127, in emit\n",
            "    StreamHandler.emit(self, record)\n",
            "  File \"/usr/lib/python3.7/logging/__init__.py\", line 1025, in emit\n",
            "    msg = self.format(record)\n",
            "  File \"/usr/lib/python3.7/logging/__init__.py\", line 869, in format\n",
            "    return fmt.format(record)\n",
            "  File \"/usr/local/lib/python3.7/dist-packages/pip/_internal/utils/logging.py\", line 130, in format\n",
            "    formatted = super().format(record)\n",
            "  File \"/usr/lib/python3.7/logging/__init__.py\", line 616, in format\n",
            "    record.exc_text = self.formatException(record.exc_info)\n",
            "  File \"/usr/lib/python3.7/logging/__init__.py\", line 566, in formatException\n",
            "    traceback.print_exception(ei[0], ei[1], tb, None, sio)\n",
            "  File \"/usr/lib/python3.7/traceback.py\", line 104, in print_exception\n",
            "    type(value), value, tb, limit=limit).format(chain=chain):\n",
            "  File \"/usr/lib/python3.7/traceback.py\", line 508, in __init__\n",
            "    capture_locals=capture_locals)\n",
            "  File \"/usr/lib/python3.7/traceback.py\", line 357, in extract\n",
            "    filename, lineno, name, lookup_line=False, locals=f_locals))\n",
            "  File \"/usr/lib/python3.7/traceback.py\", line 243, in __init__\n",
            "    def __init__(self, filename, lineno, name, *, lookup_line=True,\n",
            "KeyboardInterrupt\n",
            "Requirement already satisfied: fasttext in /usr/local/lib/python3.7/dist-packages (0.9.2)\n",
            "Requirement already satisfied: numpy in /usr/local/lib/python3.7/dist-packages (from fasttext) (1.19.5)\n",
            "Requirement already satisfied: pybind11>=2.2 in /usr/local/lib/python3.7/dist-packages (from fasttext) (2.7.1)\n",
            "Requirement already satisfied: setuptools>=0.7.0 in /usr/local/lib/python3.7/dist-packages (from fasttext) (57.4.0)\n",
            "\u001b[31mERROR: Operation cancelled by user\u001b[0m\n"
          ]
        }
      ]
    },
    {
      "cell_type": "code",
      "metadata": {
        "id": "eLHjObsbqy-m"
      },
      "source": [
        "import pandas as pd\n",
        "import json\n",
        "import csv\n",
        "import matplotlib.pyplot as plt\n",
        "import matplotlib.cm as cm\n",
        "import string\n",
        "import unicodedata as ud\n",
        "import nltk\n",
        "from collections import Counter\n",
        "from nltk import ngrams\n",
        "import numpy as np\n",
        "import csv \n",
        "import heapq \n",
        "\n",
        "from gensim.models import KeyedVectors\n",
        "from sklearn.cluster import MiniBatchKMeans\n",
        "from sklearn.feature_extraction.text import TfidfVectorizer\n",
        "from sklearn.decomposition import PCA\n",
        "from sklearn.manifold import TSNE\n",
        "from scipy.sparse import csr_matrix\n",
        "from sklearn import metrics\n",
        "from sklearn.metrics.cluster import rand_score\n",
        "import fasttext.util"
      ],
      "execution_count": null,
      "outputs": []
    },
    {
      "cell_type": "code",
      "metadata": {
        "colab": {
          "base_uri": "https://localhost:8080/"
        },
        "id": "qgAgQRiUcBoc",
        "outputId": "cd47c3cd-5c99-47ce-f174-717791c8e9be"
      },
      "source": [
        "#!wget https://dl.fbaipublicfiles.com/fasttext/vectors-crawl/cc.fa.300.vec.gz\n",
        "#!gunzip cc.fa.300.vec.gz\n",
        "\n",
        "#model = KeyedVectors.load_word2vec_format('/content/cc.fa.300.vec')\n",
        "ft = fasttext.load_model('/content/cc.fa.300.bin')"
      ],
      "execution_count": null,
      "outputs": [
        {
          "output_type": "stream",
          "name": "stderr",
          "text": [
            "Warning : `load_model` does not return WordVectorModel or SupervisedModel any more, but a `FastText` object which is very similar.\n"
          ]
        }
      ]
    },
    {
      "cell_type": "code",
      "metadata": {
        "colab": {
          "base_uri": "https://localhost:8080/"
        },
        "id": "KvIe0__LlpBD",
        "outputId": "2cd32643-c04a-4e7b-a11f-ff52fc1f36bc"
      },
      "source": [
        "ft.get_sentence_vector('سلام. خوبی؟')"
      ],
      "execution_count": null,
      "outputs": [
        {
          "output_type": "execute_result",
          "data": {
            "text/plain": [
              "array([ 4.46390770e-02,  9.14884731e-02, -2.17681564e-03,  3.05158403e-02,\n",
              "       -3.59201841e-02,  2.30084769e-02,  1.17653841e-03,  1.50187671e-01,\n",
              "        2.69644223e-02,  6.58949539e-02, -2.30077673e-02, -2.56974529e-02,\n",
              "       -1.48193672e-01, -4.51525748e-02, -2.11028457e-02,  2.68160887e-02,\n",
              "        2.88886484e-03, -1.02544740e-01,  2.67798435e-02, -1.88407991e-02,\n",
              "       -8.54757279e-02, -8.03066492e-02,  4.34189923e-02,  6.11039344e-04,\n",
              "       -1.82951298e-02, -4.87942621e-02,  1.01548165e-01,  1.56933144e-02,\n",
              "        3.63216288e-02, -2.63688788e-02,  2.01615077e-02, -6.61402866e-02,\n",
              "       -6.38605282e-02, -2.03885278e-03,  6.42974153e-02, -1.78391412e-02,\n",
              "        1.14118844e-01, -5.20883091e-02, -1.09068174e-02,  4.47030365e-02,\n",
              "       -2.33971830e-02,  1.51762580e-02,  1.77545026e-02, -1.09804049e-02,\n",
              "       -9.71593522e-03, -2.28045136e-03, -1.00102285e-02,  2.05299072e-03,\n",
              "       -1.29775545e-02,  2.37601120e-02,  3.99635127e-03,  1.27144977e-01,\n",
              "       -1.07865939e-02, -1.75074562e-02, -2.96596680e-02,  8.63964669e-03,\n",
              "        1.84681825e-02, -2.52549201e-02, -9.55598131e-02,  3.78320590e-02,\n",
              "        7.95808155e-03, -3.35729010e-02, -6.50812685e-02, -4.46263254e-02,\n",
              "        2.55878977e-02, -3.11829266e-03,  1.01255281e-02, -2.11720970e-02,\n",
              "        8.00670385e-02,  3.48911956e-02,  3.74613628e-02, -3.64784598e-02,\n",
              "       -3.12981345e-02,  7.58384839e-02,  7.69560039e-03,  3.96481752e-02,\n",
              "       -2.10742354e-02,  3.64451073e-02, -4.50847559e-02,  1.07743870e-02,\n",
              "       -4.93246056e-02, -2.83331238e-02, -1.32049415e-02,  1.43813744e-01,\n",
              "       -7.69649297e-02,  8.96860287e-03, -2.39477530e-02, -3.51910442e-02,\n",
              "       -2.09495053e-03, -2.21432019e-02, -3.43810096e-02,  5.55032641e-02,\n",
              "       -1.32085621e-01, -1.15902238e-02,  2.98475716e-02, -7.56765390e-03,\n",
              "        7.10646957e-02,  5.28112426e-03,  2.51013599e-02, -3.87276188e-02,\n",
              "        3.40729184e-03, -1.45380236e-02, -2.69195288e-02,  3.61966714e-02,\n",
              "        4.23613228e-02,  1.65141411e-02, -1.67963486e-02, -2.72632800e-02,\n",
              "       -5.09990007e-02, -2.29506046e-02, -1.72232836e-02,  5.37906308e-05,\n",
              "        6.43345490e-02,  1.16361873e-02, -3.63212451e-02,  1.62531752e-02,\n",
              "       -5.71931005e-02,  4.62244265e-03, -4.15062048e-02,  2.17682160e-02,\n",
              "       -4.09756005e-02, -2.20111571e-02, -2.85442397e-02,  3.56406681e-02,\n",
              "       -2.97504105e-02, -5.32265939e-03, -2.08454095e-02, -2.57785954e-02,\n",
              "        1.68871265e-02, -6.39505535e-02, -1.87374689e-02,  4.92715836e-02,\n",
              "       -1.38722155e-02,  1.61682349e-03,  1.27675524e-02,  5.32942452e-02,\n",
              "        2.53207702e-02, -8.99690483e-03,  3.24956551e-02,  3.15137431e-02,\n",
              "       -5.76897226e-02, -5.34472503e-02,  2.69482993e-02,  4.63123666e-04,\n",
              "       -1.01254387e-02, -2.13548671e-02,  7.02194721e-02,  1.43636446e-02,\n",
              "       -1.89095084e-02, -1.98288634e-02,  1.70705393e-02,  5.63350618e-02,\n",
              "       -5.08940816e-02,  1.88257117e-02, -4.64797541e-02, -1.84937008e-02,\n",
              "       -1.18726470e-01, -3.82048544e-03, -4.97116223e-02, -7.92617351e-03,\n",
              "       -2.29933392e-02,  1.08635416e-02,  2.08099559e-02, -1.39578462e-01,\n",
              "       -6.65598549e-04,  1.16417352e-02, -3.52718085e-02,  5.80142858e-03,\n",
              "       -3.81950624e-02,  1.11037679e-02,  1.75927486e-03, -2.13568248e-02,\n",
              "       -1.06139435e-02,  7.39114359e-04,  1.49626080e-02, -7.39777982e-02,\n",
              "        5.24332747e-04, -3.26604396e-03, -3.23693976e-02,  1.14275441e-02,\n",
              "        1.40896253e-02,  2.64454633e-03,  7.45301396e-02,  1.24240126e-02,\n",
              "        9.94659401e-03, -3.47165130e-02,  2.03599688e-03,  1.03423730e-01,\n",
              "        6.24926481e-03, -5.42059839e-02, -8.16645175e-02,  7.73224756e-02,\n",
              "       -2.41260007e-02,  3.65168005e-02,  6.04581572e-02,  1.14721477e-01,\n",
              "       -1.88090689e-02,  5.52992597e-02,  8.01947117e-02, -8.78634956e-03,\n",
              "       -8.16153288e-02,  3.83152626e-02, -1.04234731e-02,  2.74335276e-02,\n",
              "        2.37317681e-02, -1.56405270e-02, -3.40029970e-02, -2.32070815e-02,\n",
              "       -3.33509929e-02,  1.57282520e-02, -1.59522481e-02, -5.59925213e-02,\n",
              "       -5.59483990e-02, -1.13441413e-02, -1.74702182e-02,  9.55717266e-02,\n",
              "       -5.74800074e-02, -1.19841397e-02, -1.12146102e-02,  2.76571326e-02,\n",
              "       -8.92556980e-02, -2.45077573e-02,  8.43702704e-02,  1.65936723e-03,\n",
              "        3.92546505e-02, -3.46308835e-02,  5.00470959e-02,  5.86041249e-02,\n",
              "       -1.02398926e-02, -6.85899332e-02,  5.91661269e-03,  2.59242579e-03,\n",
              "       -1.39556602e-02, -2.72486378e-02, -1.18574202e-01,  2.71981210e-02,\n",
              "       -5.30804731e-02,  1.05235903e-02,  5.42061776e-02,  4.49899212e-03,\n",
              "       -5.50792646e-03, -4.62178886e-02,  1.35961603e-02, -5.91312833e-02,\n",
              "       -6.16716873e-03,  9.05761421e-02, -2.65961085e-02,  5.95049597e-02,\n",
              "        2.39698663e-02, -3.96633074e-02,  3.93036641e-02, -1.09789893e-03,\n",
              "        4.10801470e-02, -2.83839293e-02,  1.58807542e-03,  4.54580318e-03,\n",
              "       -4.13973220e-02,  1.39975986e-02, -4.50773276e-02,  5.58171608e-03,\n",
              "       -9.04110353e-03, -9.54890624e-02, -9.55269672e-03, -2.69242898e-02,\n",
              "       -3.90910618e-02, -3.07415146e-04, -1.92076359e-02, -4.01053578e-03,\n",
              "        3.40795442e-02, -1.98679790e-02,  9.05576255e-03, -3.46671343e-02,\n",
              "       -3.85188907e-02,  3.53247151e-02,  9.34639126e-02, -6.30635247e-02,\n",
              "       -5.40471859e-02,  2.86504235e-02, -5.00925295e-02, -3.98018584e-02,\n",
              "       -5.84966019e-02, -2.31125634e-02,  6.89328834e-02,  2.70152111e-02,\n",
              "       -5.33080660e-02,  5.53716384e-02, -5.11095077e-02, -8.26576874e-02,\n",
              "        4.58579697e-02, -4.03156318e-02,  1.90517828e-01,  7.93658197e-03,\n",
              "        5.77634666e-04, -1.83363333e-02,  2.53155828e-04, -1.52092390e-02,\n",
              "       -1.09233903e-02,  3.51032093e-02,  6.84427097e-03,  4.48527858e-02],\n",
              "      dtype=float32)"
            ]
          },
          "metadata": {},
          "execution_count": 121
        }
      ]
    },
    {
      "cell_type": "code",
      "metadata": {
        "colab": {
          "base_uri": "https://localhost:8080/",
          "height": 698
        },
        "id": "q2JBiK4ClHa4",
        "outputId": "c3d95eff-b251-4bf5-e405-88ae70b22a33"
      },
      "source": [
        "\n",
        "!pip install hazm\n",
        "!pip install python-docx \n",
        "\n",
        "from docx import Document\n",
        "from hazm import *"
      ],
      "execution_count": null,
      "outputs": [
        {
          "output_type": "stream",
          "name": "stdout",
          "text": [
            "Collecting hazm\n",
            "  Downloading hazm-0.7.0-py3-none-any.whl (316 kB)\n",
            "\u001b[K     |████████████████████████████████| 316 kB 5.1 MB/s \n",
            "\u001b[?25hCollecting nltk==3.3\n",
            "  Downloading nltk-3.3.0.zip (1.4 MB)\n",
            "\u001b[K     |████████████████████████████████| 1.4 MB 55.2 MB/s \n",
            "\u001b[?25hCollecting libwapiti>=0.2.1\n",
            "  Downloading libwapiti-0.2.1.tar.gz (233 kB)\n",
            "\u001b[K     |████████████████████████████████| 233 kB 61.0 MB/s \n",
            "\u001b[?25hRequirement already satisfied: six in /usr/local/lib/python3.7/dist-packages (from nltk==3.3->hazm) (1.15.0)\n",
            "Building wheels for collected packages: nltk, libwapiti\n",
            "  Building wheel for nltk (setup.py) ... \u001b[?25l\u001b[?25hdone\n",
            "  Created wheel for nltk: filename=nltk-3.3-py3-none-any.whl size=1394486 sha256=db753909d971233babf1648389f372d92298f9e1adee2c18cec59a73fa4a8c4d\n",
            "  Stored in directory: /root/.cache/pip/wheels/9b/fd/0c/d92302c876e5de87ebd7fc0979d82edb93e2d8d768bf71fac4\n",
            "  Building wheel for libwapiti (setup.py) ... \u001b[?25l\u001b[?25hdone\n",
            "  Created wheel for libwapiti: filename=libwapiti-0.2.1-cp37-cp37m-linux_x86_64.whl size=154678 sha256=eeafcb2a8b83327f692f180e37e07b0b43f09c24f37dd2ed96ab3ffd509616b8\n",
            "  Stored in directory: /root/.cache/pip/wheels/ab/b2/5b/0fe4b8f5c0e65341e8ea7bb3f4a6ebabfe8b1ac31322392dbf\n",
            "Successfully built nltk libwapiti\n",
            "Installing collected packages: nltk, libwapiti, hazm\n",
            "  Attempting uninstall: nltk\n",
            "    Found existing installation: nltk 3.2.5\n",
            "    Uninstalling nltk-3.2.5:\n",
            "      Successfully uninstalled nltk-3.2.5\n",
            "Successfully installed hazm-0.7.0 libwapiti-0.2.1 nltk-3.3\n"
          ]
        },
        {
          "output_type": "display_data",
          "data": {
            "application/vnd.colab-display-data+json": {
              "pip_warning": {
                "packages": [
                  "nltk"
                ]
              }
            }
          },
          "metadata": {}
        },
        {
          "output_type": "stream",
          "name": "stdout",
          "text": [
            "Collecting python-docx\n",
            "  Downloading python-docx-0.8.11.tar.gz (5.6 MB)\n",
            "\u001b[K     |████████████████████████████████| 5.6 MB 5.3 MB/s \n",
            "\u001b[?25hRequirement already satisfied: lxml>=2.3.2 in /usr/local/lib/python3.7/dist-packages (from python-docx) (4.2.6)\n",
            "Building wheels for collected packages: python-docx\n",
            "  Building wheel for python-docx (setup.py) ... \u001b[?25l\u001b[?25hdone\n",
            "  Created wheel for python-docx: filename=python_docx-0.8.11-py3-none-any.whl size=184508 sha256=af444e14c6bc5d96f7755b620f96cfde5427de7f7ff31426cedbcf6d08c7acc2\n",
            "  Stored in directory: /root/.cache/pip/wheels/f6/6f/b9/d798122a8b55b74ad30b5f52b01482169b445fbb84a11797a6\n",
            "Successfully built python-docx\n",
            "Installing collected packages: python-docx\n",
            "Successfully installed python-docx-0.8.11\n"
          ]
        }
      ]
    },
    {
      "cell_type": "code",
      "metadata": {
        "colab": {
          "base_uri": "https://localhost:8080/"
        },
        "id": "HKA_hmpAonmg",
        "outputId": "414ad601-a8e0-47fb-bdcf-985c07a353e6"
      },
      "source": [
        "from google.colab import drive\n",
        "drive.mount('/content/drive')"
      ],
      "execution_count": null,
      "outputs": [
        {
          "output_type": "stream",
          "name": "stdout",
          "text": [
            "Mounted at /content/drive\n"
          ]
        }
      ]
    },
    {
      "cell_type": "code",
      "metadata": {
        "colab": {
          "base_uri": "https://localhost:8080/"
        },
        "id": "NXYN5RDHpCbR",
        "outputId": "59da7353-5071-406b-fe04-ed2b674cbb25"
      },
      "source": [
        "!unrar x \"/content/drive/MyDrive/ferdowsi-data.rar\""
      ],
      "execution_count": null,
      "outputs": [
        {
          "output_type": "stream",
          "name": "stdout",
          "text": [
            "\n",
            "UNRAR 5.50 freeware      Copyright (c) 1993-2017 Alexander Roshal\n",
            "\n",
            "\n",
            "Extracting from /content/drive/MyDrive/ferdowsi-data.rar\n",
            "\n",
            "Creating    Spad                                                      OK\n",
            "Extracting  Spad/ferdowsi-data.txt                                       \b\b\b\b  0%\b\b\b\b  1%\b\b\b\b  2%\b\b\b\b  3%\b\b\b\b  4%\b\b\b\b  5%\b\b\b\b  6%\b\b\b\b  7%\b\b\b\b  8%\b\b\b\b  9%\b\b\b\b 10%\b\b\b\b 11%\b\b\b\b 12%\b\b\b\b 13%\b\b\b\b 14%\b\b\b\b 15%\b\b\b\b 16%\b\b\b\b 17%\b\b\b\b 18%\b\b\b\b 19%\b\b\b\b 20%\b\b\b\b 21%\b\b\b\b 22%\b\b\b\b 23%\b\b\b\b 24%\b\b\b\b 25%\b\b\b\b 26%\b\b\b\b 27%\b\b\b\b 28%\b\b\b\b 29%\b\b\b\b 30%\b\b\b\b 31%\b\b\b\b 32%\b\b\b\b 33%\b\b\b\b 34%\b\b\b\b 35%\b\b\b\b 36%\b\b\b\b 37%\b\b\b\b 38%\b\b\b\b 39%\b\b\b\b 40%\b\b\b\b 41%\b\b\b\b 42%\b\b\b\b 43%\b\b\b\b 44%\b\b\b\b 45%\b\b\b\b 46%\b\b\b\b 47%\b\b\b\b 48%\b\b\b\b 49%\b\b\b\b 50%\b\b\b\b 51%\b\b\b\b 52%\b\b\b\b 53%\b\b\b\b 54%\b\b\b\b 55%\b\b\b\b 56%\b\b\b\b 57%\b\b\b\b 58%\b\b\b\b 59%\b\b\b\b 60%\b\b\b\b 61%\b\b\b\b 62%\b\b\b\b 63%\b\b\b\b 64%\b\b\b\b 65%\b\b\b\b 66%\b\b\b\b 67%\b\b\b\b 68%\b\b\b\b 69%\b\b\b\b 70%\b\b\b\b 71%\b\b\b\b 72%\b\b\b\b 73%\b\b\b\b 74%\b\b\b\b 75%\b\b\b\b 76%\b\b\b\b 77%\b\b\b\b 78%\b\b\b\b 79%\b\b\b\b 80%\b\b\b\b 81%\b\b\b\b 82%\b\b\b\b 83%\b\b\b\b 84%\b\b\b\b 85%\b\b\b\b 86%\b\b\b\b 87%\b\b\b\b 88%\b\b\b\b 89%\b\b\b\b 90%\b\b\b\b 91%\b\b\b\b 92%\b\b\b\b 93%\b\b\b\b 94%\b\b\b\b 95%\b\b\b\b 96%\b\b\b\b 97%\b\b\b\b 98%\b\b\b\b 99%\b\b\b\b\b  OK \n",
            "All OK\n"
          ]
        }
      ]
    },
    {
      "cell_type": "code",
      "metadata": {
        "id": "xKTrCNecqv45"
      },
      "source": [
        "file = open('/content/Spad/ferdowsi-data.txt', 'r')\n",
        "df = pd.DataFrame()\n",
        "\n",
        "#persian_punc = frozenset(string.punctuation + \"،؟\")\n",
        "#bool(set(\"test?\") & test_characters)\n",
        "\n",
        "\n",
        "\n",
        "NUM_ENTRIES = 1000 #number of entries to fetch \n"
      ],
      "execution_count": null,
      "outputs": []
    },
    {
      "cell_type": "code",
      "metadata": {
        "id": "Mszbvy0bq_q0"
      },
      "source": [
        "cnt = 0\n",
        "cur_entry = ''\n",
        "\n",
        "for _ in range(NUM_ENTRIES*16):\n",
        "    cnt += 1\n",
        "    line = file.readline()\n",
        "    cur_entry += line\n",
        "    try:\n",
        "        if cnt % 16 == 0:\n",
        "            row = json.loads(cur_entry)\n",
        "            row = row['_source']\n",
        "           #print(row)\n",
        "            df = df.append(row, ignore_index=True)\n",
        "            cur_entry = ''\n",
        "    except:\n",
        "        pass\n",
        "\n",
        "file.close()\n"
      ],
      "execution_count": null,
      "outputs": []
    },
    {
      "cell_type": "code",
      "metadata": {
        "colab": {
          "base_uri": "https://localhost:8080/",
          "height": 589
        },
        "id": "FMGSMukUrLMo",
        "outputId": "32f6d229-5d6b-45cc-d6eb-4c709fabcddf"
      },
      "source": [
        "df"
      ],
      "execution_count": null,
      "outputs": [
        {
          "output_type": "execute_result",
          "data": {
            "text/html": [
              "<div>\n",
              "<style scoped>\n",
              "    .dataframe tbody tr th:only-of-type {\n",
              "        vertical-align: middle;\n",
              "    }\n",
              "\n",
              "    .dataframe tbody tr th {\n",
              "        vertical-align: top;\n",
              "    }\n",
              "\n",
              "    .dataframe thead th {\n",
              "        text-align: right;\n",
              "    }\n",
              "</style>\n",
              "<table border=\"1\" class=\"dataframe\">\n",
              "  <thead>\n",
              "    <tr style=\"text-align: right;\">\n",
              "      <th></th>\n",
              "      <th>agency</th>\n",
              "      <th>category</th>\n",
              "      <th>content</th>\n",
              "      <th>date_created</th>\n",
              "      <th>image</th>\n",
              "      <th>lead</th>\n",
              "      <th>title</th>\n",
              "      <th>url</th>\n",
              "    </tr>\n",
              "  </thead>\n",
              "  <tbody>\n",
              "    <tr>\n",
              "      <th>0</th>\n",
              "      <td>13</td>\n",
              "      <td>15</td>\n",
              "      <td>فهیمه حسن‌میری: اگرچه در هیاهوی انتخابات ریاس...</td>\n",
              "      <td>1.494518e+09</td>\n",
              "      <td>uploads/2017/05/11/1589793661.jpg</td>\n",
              "      <td>جامعه&amp;nbsp;&amp;gt;&amp;nbsp;شهری - میزگردی درباره عمل...</td>\n",
              "      <td>کارهای قالیباف در تهران نمایشی بود- شورای‌شهر ...</td>\n",
              "      <td>http://www.khabaronline.ir/(X(1)S(bud4wg3ebzbx...</td>\n",
              "    </tr>\n",
              "    <tr>\n",
              "      <th>1</th>\n",
              "      <td>1</td>\n",
              "      <td>20</td>\n",
              "      <td>به گزارش خبرگزاری فارس از قم، محمدعلی برزنونی ...</td>\n",
              "      <td>1.494522e+09</td>\n",
              "      <td>uploads/2017/05/11/1713799235.jpg</td>\n",
              "      <td>مدیر مؤسسه علمی و پژوهشی ابن‌سینا در بوسنی گفت...</td>\n",
              "      <td>معنویت در عصر آخرالزمان احیا می‌شود</td>\n",
              "      <td>http://www.farsnews.com/13960221001386</td>\n",
              "    </tr>\n",
              "    <tr>\n",
              "      <th>2</th>\n",
              "      <td>36</td>\n",
              "      <td>5</td>\n",
              "      <td>به گزارش ایرنا، تیم های تراکتورسازی تبریز و...</td>\n",
              "      <td>1.494522e+09</td>\n",
              "      <td>uploads/2017/05/11/2561366787.jpg</td>\n",
              "      <td>تهران - ایرنا - دیدار پایانی جام حذفی باشگاه ه...</td>\n",
              "      <td>فینال جام حذفی؛ وداع البرز حاجی پور از داوری-3...</td>\n",
              "      <td>http://www.irna.ir/fa/News/82525960/</td>\n",
              "    </tr>\n",
              "    <tr>\n",
              "      <th>3</th>\n",
              "      <td>13</td>\n",
              "      <td>8</td>\n",
              "      <td>به گزارش خبرگزاری خبرآنلاین، جمشید مشایخی، هن...</td>\n",
              "      <td>1.494522e+09</td>\n",
              "      <td>uploads/2017/05/11/109987278.jpg</td>\n",
              "      <td>فرهنگ&amp;nbsp;&amp;gt;&amp;nbsp;سینما - جمشید مشایخی، امر...</td>\n",
              "      <td>موضع انتخاباتی جمشید مشایخی روی تخت بیمارستان-...</td>\n",
              "      <td>http://www.khabaronline.ir/(X(1)S(nducmtisxqhw...</td>\n",
              "    </tr>\n",
              "    <tr>\n",
              "      <th>4</th>\n",
              "      <td>13</td>\n",
              "      <td>7</td>\n",
              "      <td>به گزارش خبرآنلاین، پیش‌تر گفته شد سامسونگ و ...</td>\n",
              "      <td>1.494522e+09</td>\n",
              "      <td>uploads/2017/05/11/3295317773.jpg</td>\n",
              "      <td>فناوری اطلاعات&amp;nbsp;&amp;gt;&amp;nbsp;سخت افزار - اسنپ...</td>\n",
              "      <td>مشخصات فنی پردازنده اسنپ دراگون ۸۴۵- رونمایی ا...</td>\n",
              "      <td>http://www.khabaronline.ir/(X(1)S(uupfbn0kvlth...</td>\n",
              "    </tr>\n",
              "    <tr>\n",
              "      <th>...</th>\n",
              "      <td>...</td>\n",
              "      <td>...</td>\n",
              "      <td>...</td>\n",
              "      <td>...</td>\n",
              "      <td>...</td>\n",
              "      <td>...</td>\n",
              "      <td>...</td>\n",
              "      <td>...</td>\n",
              "    </tr>\n",
              "    <tr>\n",
              "      <th>995</th>\n",
              "      <td>2</td>\n",
              "      <td>15</td>\n",
              "      <td>سردار بخشعلی کامرانی صالح روز شنبه درگفت و گو...</td>\n",
              "      <td>1.494660e+09</td>\n",
              "      <td>uploads/2017/05/13/4034459417.jpg</td>\n",
              "      <td>کرج -ایرنا- فرمانده انتظامی استان البرز گفت که...</td>\n",
              "      <td>مبارزه با کالای قاچاق به عزم ملی و مشارکت گستر...</td>\n",
              "      <td>http://www.irna.ir/fa/News/82527216/</td>\n",
              "    </tr>\n",
              "    <tr>\n",
              "      <th>996</th>\n",
              "      <td>33</td>\n",
              "      <td>31</td>\n",
              "      <td>به گزارش خبرگزاری صداوسیما، مرکز خراسان رضوی...</td>\n",
              "      <td>1.494660e+09</td>\n",
              "      <td>False</td>\n",
              "      <td>سفیر استرالیا در ایران گفت: شاهنامه فردوسی از ...</td>\n",
              "      <td>شاهنامه فردوسی نماینده یکی از بزرگترین تمدن ها...</td>\n",
              "      <td>http://www.iribnews.ir/fa/news/1630788/%D8%B4%...</td>\n",
              "    </tr>\n",
              "    <tr>\n",
              "      <th>997</th>\n",
              "      <td>36</td>\n",
              "      <td>5</td>\n",
              "      <td>نسیمی شاد در رشته 50 متر قورباغه با ثبت زما...</td>\n",
              "      <td>1.494661e+09</td>\n",
              "      <td>uploads/2017/05/13/2941477288.jpg</td>\n",
              "      <td>باکو - ایرنا - «آریا نسیمی شاد» شناگر ایرانی د...</td>\n",
              "      <td>بازی های کشورهای اسلامی- نمایندگان شنا، کاراته...</td>\n",
              "      <td>http://www.irna.ir/fa/News/82527314/</td>\n",
              "    </tr>\n",
              "    <tr>\n",
              "      <th>998</th>\n",
              "      <td>33</td>\n",
              "      <td>1</td>\n",
              "      <td>به گزارش خبرنگار خبرگزاری صدا و سیما، نمایندگ...</td>\n",
              "      <td>1.494661e+09</td>\n",
              "      <td>False</td>\n",
              "      <td>جلسه هماهنگی شورای نگهبان با نمایندگان نامزدها...</td>\n",
              "      <td>آغاز جلسه هماهنگی شورای نگهبان با نمایندگان نا...</td>\n",
              "      <td>http://www.iribnews.ir/fa/news/1630875/%D8%A2%...</td>\n",
              "    </tr>\n",
              "    <tr>\n",
              "      <th>999</th>\n",
              "      <td>34</td>\n",
              "      <td>15</td>\n",
              "      <td>به گزارش گروه جامعه خبرگزاری میزان،سردار سعید...</td>\n",
              "      <td>1.494661e+09</td>\n",
              "      <td></td>\n",
              "      <td>خبرگزاری میزان- فرمانده مرزبانی استان سیستان و...</td>\n",
              "      <td>کشف یک تن و 925 کیلو گرم انواع مواد مخدر در مرز</td>\n",
              "      <td>http://www.mizanonline.ir/fa/news/308404/%DA%A...</td>\n",
              "    </tr>\n",
              "  </tbody>\n",
              "</table>\n",
              "<p>1000 rows × 8 columns</p>\n",
              "</div>"
            ],
            "text/plain": [
              "    agency  ...                                                url\n",
              "0       13  ...  http://www.khabaronline.ir/(X(1)S(bud4wg3ebzbx...\n",
              "1        1  ...             http://www.farsnews.com/13960221001386\n",
              "2       36  ...               http://www.irna.ir/fa/News/82525960/\n",
              "3       13  ...  http://www.khabaronline.ir/(X(1)S(nducmtisxqhw...\n",
              "4       13  ...  http://www.khabaronline.ir/(X(1)S(uupfbn0kvlth...\n",
              "..     ...  ...                                                ...\n",
              "995      2  ...               http://www.irna.ir/fa/News/82527216/\n",
              "996     33  ...  http://www.iribnews.ir/fa/news/1630788/%D8%B4%...\n",
              "997     36  ...               http://www.irna.ir/fa/News/82527314/\n",
              "998     33  ...  http://www.iribnews.ir/fa/news/1630875/%D8%A2%...\n",
              "999     34  ...  http://www.mizanonline.ir/fa/news/308404/%DA%A...\n",
              "\n",
              "[1000 rows x 8 columns]"
            ]
          },
          "metadata": {},
          "execution_count": 20
        }
      ]
    },
    {
      "cell_type": "code",
      "metadata": {
        "id": "jl2Ee16lDxvu"
      },
      "source": [
        "reader = csv.reader(open('/content/drive/MyDrive/datasets/categories.csv', 'r'))\n",
        "d = {}\n",
        "for row in reader:\n",
        "   pt1 = row[0].split(';')[0]\n",
        "   pt2 = row[0].split(';')[1].replace('\"',\"\")\n",
        "   d[pt1] = pt2 "
      ],
      "execution_count": null,
      "outputs": []
    },
    {
      "cell_type": "code",
      "metadata": {
        "id": "xLJN9yW_Flcp"
      },
      "source": [
        "df['category'] = df['category'].map(d)"
      ],
      "execution_count": null,
      "outputs": []
    },
    {
      "cell_type": "code",
      "metadata": {
        "id": "XQufb6-YFvRB"
      },
      "source": [
        "df = df[df['category'].isin(['سیاسی', 'بین الملل', 'اقصادی','ورزشی', 'کل اخبار'])] #selecting the five highest categories that were found in the first task"
      ],
      "execution_count": null,
      "outputs": []
    },
    {
      "cell_type": "code",
      "metadata": {
        "colab": {
          "base_uri": "https://localhost:8080/",
          "height": 589
        },
        "id": "XAGUrOvTIx6I",
        "outputId": "42e1dd99-2165-46f1-c5ae-a85df417e36f"
      },
      "source": [
        "df"
      ],
      "execution_count": null,
      "outputs": [
        {
          "output_type": "execute_result",
          "data": {
            "text/html": [
              "<div>\n",
              "<style scoped>\n",
              "    .dataframe tbody tr th:only-of-type {\n",
              "        vertical-align: middle;\n",
              "    }\n",
              "\n",
              "    .dataframe tbody tr th {\n",
              "        vertical-align: top;\n",
              "    }\n",
              "\n",
              "    .dataframe thead th {\n",
              "        text-align: right;\n",
              "    }\n",
              "</style>\n",
              "<table border=\"1\" class=\"dataframe\">\n",
              "  <thead>\n",
              "    <tr style=\"text-align: right;\">\n",
              "      <th></th>\n",
              "      <th>agency</th>\n",
              "      <th>category</th>\n",
              "      <th>content</th>\n",
              "      <th>date_created</th>\n",
              "      <th>image</th>\n",
              "      <th>lead</th>\n",
              "      <th>title</th>\n",
              "      <th>url</th>\n",
              "    </tr>\n",
              "  </thead>\n",
              "  <tbody>\n",
              "    <tr>\n",
              "      <th>2</th>\n",
              "      <td>36</td>\n",
              "      <td>ورزشی</td>\n",
              "      <td>به گزارش ایرنا، تیم های تراکتورسازی تبریز و...</td>\n",
              "      <td>1.494522e+09</td>\n",
              "      <td>uploads/2017/05/11/2561366787.jpg</td>\n",
              "      <td>تهران - ایرنا - دیدار پایانی جام حذفی باشگاه ه...</td>\n",
              "      <td>فینال جام حذفی؛ وداع البرز حاجی پور از داوری-3...</td>\n",
              "      <td>http://www.irna.ir/fa/News/82525960/</td>\n",
              "    </tr>\n",
              "    <tr>\n",
              "      <th>7</th>\n",
              "      <td>31</td>\n",
              "      <td>ورزشی</td>\n",
              "      <td>نیممه اول دیدار فینال جام حذفی باشگاه های کشو...</td>\n",
              "      <td>1.494522e+09</td>\n",
              "      <td>uploads/2017/05/11/2408134753.jpg</td>\n",
              "      <td>نیممه اول دیدار فینال جام حذفی باشگاه های کشور...</td>\n",
              "      <td>تساوی در نیمه اول فینال جام حذفی- تراکتور یک پ...</td>\n",
              "      <td>http://www.qudsonline.ir/news/528606/%D8%AA%D8...</td>\n",
              "    </tr>\n",
              "    <tr>\n",
              "      <th>10</th>\n",
              "      <td>13</td>\n",
              "      <td>سیاسی</td>\n",
              "      <td>حسینعلی امیری در گفت‏‎وگو با خبرآنلاین در واک...</td>\n",
              "      <td>1.494527e+09</td>\n",
              "      <td>uploads/2017/05/11/3710112891.jpg</td>\n",
              "      <td>سیاست&amp;nbsp;&amp;gt;&amp;nbsp;انتخابات - عضو هیأت اجرای...</td>\n",
              "      <td>تکذیب سخنان منتقدان روحانی- امیری: استانداران ...</td>\n",
              "      <td>http://www.khabaronline.ir/(X(1)S(uupfbn0kvlth...</td>\n",
              "    </tr>\n",
              "    <tr>\n",
              "      <th>13</th>\n",
              "      <td>34</td>\n",
              "      <td>ورزشی</td>\n",
              "      <td>به گزارش خبرنگار گروه ورزشی خبرگزاری میزان، ت...</td>\n",
              "      <td>1.494527e+09</td>\n",
              "      <td></td>\n",
              "      <td>خبرگزاری میزان- هواداران تیم فوتبال تراکتورساز...</td>\n",
              "      <td>شعار حیا کن رها کن علیه آجورلو- اشک بازیکنان ت...</td>\n",
              "      <td>http://www.mizanonline.ir/fa/news/308041/%D8%B...</td>\n",
              "    </tr>\n",
              "    <tr>\n",
              "      <th>14</th>\n",
              "      <td>1</td>\n",
              "      <td>ورزشی</td>\n",
              "      <td>به گزارش خبرگزاری فارس، محمد قاضی پس از پیروزی...</td>\n",
              "      <td>1.494527e+09</td>\n",
              "      <td>uploads/2017/05/11/1874774856.jpg</td>\n",
              "      <td>مهاجم تیم فوتبال نفت تهران، گفت: قهرمانی در رق...</td>\n",
              "      <td>قاضی: این قهرمانی را به علی دایی تقدیم می‌کنم</td>\n",
              "      <td>http://www.farsnews.com/newstext.php?nn=139602...</td>\n",
              "    </tr>\n",
              "    <tr>\n",
              "      <th>...</th>\n",
              "      <td>...</td>\n",
              "      <td>...</td>\n",
              "      <td>...</td>\n",
              "      <td>...</td>\n",
              "      <td>...</td>\n",
              "      <td>...</td>\n",
              "      <td>...</td>\n",
              "      <td>...</td>\n",
              "    </tr>\n",
              "    <tr>\n",
              "      <th>983</th>\n",
              "      <td>36</td>\n",
              "      <td>ورزشی</td>\n",
              "      <td>به گزارش روز شنبه ایرنا از تارنمای اخبار ان...</td>\n",
              "      <td>1.494658e+09</td>\n",
              "      <td>uploads/2017/05/13/635622805.jpg</td>\n",
              "      <td>تهران- ایرنا- براساس گزارش رسانه های کلمبیا، ت...</td>\n",
              "      <td>منچستریونایتد بدنبال جذب رودریگز</td>\n",
              "      <td>http://www.irna.ir/fa/News/82527220/</td>\n",
              "    </tr>\n",
              "    <tr>\n",
              "      <th>985</th>\n",
              "      <td>36</td>\n",
              "      <td>ورزشی</td>\n",
              "      <td>به گزارش روز شنبه کمیته ملی پارالمپیک، تیم ...</td>\n",
              "      <td>1.494658e+09</td>\n",
              "      <td>uploads/2017/05/13/2253659869.jpg</td>\n",
              "      <td>تهران - ایرنا - تیم گلبال مردان ایران در جدیدت...</td>\n",
              "      <td>گلبال مردان ایران در جمع 10 تیم برتر جهان قرار...</td>\n",
              "      <td>http://www.irna.ir/fa/News/82527185/</td>\n",
              "    </tr>\n",
              "    <tr>\n",
              "      <th>987</th>\n",
              "      <td>1</td>\n",
              "      <td>سیاسی</td>\n",
              "      <td>به گزارش خبرنگار حوزه انتخابات خبرگزاری فارس، ...</td>\n",
              "      <td>1.494658e+09</td>\n",
              "      <td>uploads/2017/05/13/2907281886.jpg</td>\n",
              "      <td>امروز شنبه (23 اردیبهشت) 4 نامزد دوازدهمین دور...</td>\n",
              "      <td>برنامه‌های امروز (23 اردیبهشت) نامزدهای ریاست ...</td>\n",
              "      <td>http://www.farsnews.com/13960223000165</td>\n",
              "    </tr>\n",
              "    <tr>\n",
              "      <th>997</th>\n",
              "      <td>36</td>\n",
              "      <td>ورزشی</td>\n",
              "      <td>نسیمی شاد در رشته 50 متر قورباغه با ثبت زما...</td>\n",
              "      <td>1.494661e+09</td>\n",
              "      <td>uploads/2017/05/13/2941477288.jpg</td>\n",
              "      <td>باکو - ایرنا - «آریا نسیمی شاد» شناگر ایرانی د...</td>\n",
              "      <td>بازی های کشورهای اسلامی- نمایندگان شنا، کاراته...</td>\n",
              "      <td>http://www.irna.ir/fa/News/82527314/</td>\n",
              "    </tr>\n",
              "    <tr>\n",
              "      <th>998</th>\n",
              "      <td>33</td>\n",
              "      <td>سیاسی</td>\n",
              "      <td>به گزارش خبرنگار خبرگزاری صدا و سیما، نمایندگ...</td>\n",
              "      <td>1.494661e+09</td>\n",
              "      <td>False</td>\n",
              "      <td>جلسه هماهنگی شورای نگهبان با نمایندگان نامزدها...</td>\n",
              "      <td>آغاز جلسه هماهنگی شورای نگهبان با نمایندگان نا...</td>\n",
              "      <td>http://www.iribnews.ir/fa/news/1630875/%D8%A2%...</td>\n",
              "    </tr>\n",
              "  </tbody>\n",
              "</table>\n",
              "<p>310 rows × 8 columns</p>\n",
              "</div>"
            ],
            "text/plain": [
              "    agency  ...                                                url\n",
              "2       36  ...               http://www.irna.ir/fa/News/82525960/\n",
              "7       31  ...  http://www.qudsonline.ir/news/528606/%D8%AA%D8...\n",
              "10      13  ...  http://www.khabaronline.ir/(X(1)S(uupfbn0kvlth...\n",
              "13      34  ...  http://www.mizanonline.ir/fa/news/308041/%D8%B...\n",
              "14       1  ...  http://www.farsnews.com/newstext.php?nn=139602...\n",
              "..     ...  ...                                                ...\n",
              "983     36  ...               http://www.irna.ir/fa/News/82527220/\n",
              "985     36  ...               http://www.irna.ir/fa/News/82527185/\n",
              "987      1  ...             http://www.farsnews.com/13960223000165\n",
              "997     36  ...               http://www.irna.ir/fa/News/82527314/\n",
              "998     33  ...  http://www.iribnews.ir/fa/news/1630875/%D8%A2%...\n",
              "\n",
              "[310 rows x 8 columns]"
            ]
          },
          "metadata": {},
          "execution_count": 24
        }
      ]
    },
    {
      "cell_type": "markdown",
      "metadata": {
        "id": "hPFjYgvPZ6uL"
      },
      "source": [
        "we are looking for a way to get the category of sentences as labels (in order to evaluate our clustering) we do this by adding the category to the end of each \"content\" with a delimiter being between them, and then we make use of this delimiter after tokenizing the sentence  "
      ]
    },
    {
      "cell_type": "code",
      "metadata": {
        "colab": {
          "base_uri": "https://localhost:8080/"
        },
        "id": "hTg7N8-VJFwS",
        "outputId": "663b2460-08e7-4e2c-bffc-0eb99d012893"
      },
      "source": [
        "df['cnt_ctg'] =df['content'] + '#~#' + df['category'] +'.'\n",
        "df.iloc[3]['cnt_ctg'].split(\"#~#\")"
      ],
      "execution_count": null,
      "outputs": [
        {
          "output_type": "stream",
          "name": "stderr",
          "text": [
            "/usr/local/lib/python3.7/dist-packages/ipykernel_launcher.py:1: SettingWithCopyWarning: \n",
            "A value is trying to be set on a copy of a slice from a DataFrame.\n",
            "Try using .loc[row_indexer,col_indexer] = value instead\n",
            "\n",
            "See the caveats in the documentation: https://pandas.pydata.org/pandas-docs/stable/user_guide/indexing.html#returning-a-view-versus-a-copy\n",
            "  \"\"\"Entry point for launching an IPython kernel.\n"
          ]
        },
        {
          "output_type": "execute_result",
          "data": {
            "text/plain": [
              "[' به گزارش خبرنگار گروه ورزشی خبرگزاری میزان، تیم فوتبال تراکتورسازی در دیدار فینال جام حذفی از ساعت 20:30 امشب (پنج\\u200cشنبه) در ورزشگاه نفت و گاز اروندان خرمشهر به مصاف نفت تهران رفت و با یک گل شکست خورد.\\xa0* هواداران تیم فوتبال تراکتورسازی علیه مدیرعامل باشگاه خود شعار دادند.\\xa0* اعضای کادر فنی تراکتورسازی ناراحت روی نیمکت نشسته\\u200cاند.\\xa0* بازیکنان تراکتورسازی بسیار ناراحت هستند و برخی از آنها گریه می\\u200cکنند.\\xa0* علی دایی به شدت توسط هواداران نفت تشویق شد.\\xa0* بازیکنان نفت به شدت وسط زمین مشغول خوشحالی شدند.\\xa0* استیج قهرمانی به سرعت توسط عوامل اجرایی آماده شد.\\xa0* امیر قلعه\\u200cنویی سعی داشت بازیکنانش را آرام کند.\\xa0* برخی از هواداران تراکتورسازی که به شدت از دست آجورلو عصبانی هستند، در ورزشگاه مانده\\u200cاند و اشک می\\u200cریزند. \\xa0انتهای پیام/  ',\n",
              " 'ورزشی.']"
            ]
          },
          "metadata": {},
          "execution_count": 37
        }
      ]
    },
    {
      "cell_type": "code",
      "metadata": {
        "id": "zr-69HsEGCZQ"
      },
      "source": [
        "all_sentences = sent_tokenize(\" \".join(df['cnt_ctg']))\n",
        "df_snt = pd.DataFrame(all_sentences, columns=['sentences'])  \n",
        "df_snt['category'] = np.nan"
      ],
      "execution_count": null,
      "outputs": []
    },
    {
      "cell_type": "code",
      "metadata": {
        "colab": {
          "base_uri": "https://localhost:8080/",
          "height": 419
        },
        "id": "hMkb6d0JOjBP",
        "outputId": "b9ddf8a3-53a6-4990-9e27-cfa4a7674437"
      },
      "source": [
        "#df_snt.loc[1, 'category' ] = 'hola'\n",
        "df_snt"
      ],
      "execution_count": null,
      "outputs": [
        {
          "output_type": "execute_result",
          "data": {
            "text/html": [
              "<div>\n",
              "<style scoped>\n",
              "    .dataframe tbody tr th:only-of-type {\n",
              "        vertical-align: middle;\n",
              "    }\n",
              "\n",
              "    .dataframe tbody tr th {\n",
              "        vertical-align: top;\n",
              "    }\n",
              "\n",
              "    .dataframe thead th {\n",
              "        text-align: right;\n",
              "    }\n",
              "</style>\n",
              "<table border=\"1\" class=\"dataframe\">\n",
              "  <thead>\n",
              "    <tr style=\"text-align: right;\">\n",
              "      <th></th>\n",
              "      <th>sentences</th>\n",
              "      <th>category</th>\n",
              "    </tr>\n",
              "  </thead>\n",
              "  <tbody>\n",
              "    <tr>\n",
              "      <th>0</th>\n",
              "      <td>به گزارش ایرنا، تیم های تراکتورسازی تبریز و نف...</td>\n",
              "      <td>NaN</td>\n",
              "    </tr>\n",
              "    <tr>\n",
              "      <th>1</th>\n",
              "      <td>«مسعود سلطانی فر» وزیر ورزش و جوانان این دیدار...</td>\n",
              "      <td>NaN</td>\n",
              "    </tr>\n",
              "    <tr>\n",
              "      <th>2</th>\n",
              "      <td>«البرز حاجی پور» از داوران باتجربه کشورمان که ...</td>\n",
              "      <td>NaN</td>\n",
              "    </tr>\n",
              "    <tr>\n",
              "      <th>3</th>\n",
              "      <td>گرمای شدید هوای خرمشهر موجب شده تا هواداران با...</td>\n",
              "      <td>NaN</td>\n",
              "    </tr>\n",
              "    <tr>\n",
              "      <th>4</th>\n",
              "      <td>با وجود تلاش فراوان برای برطرف کردن مشکلات موج...</td>\n",
              "      <td>NaN</td>\n",
              "    </tr>\n",
              "    <tr>\n",
              "      <th>...</th>\n",
              "      <td>...</td>\n",
              "      <td>...</td>\n",
              "    </tr>\n",
              "    <tr>\n",
              "      <th>4509</th>\n",
              "      <td>برای آگاهی از آخرین اخبار ورزش ایران و جهان با...</td>\n",
              "      <td>NaN</td>\n",
              "    </tr>\n",
              "    <tr>\n",
              "      <th>4510</th>\n",
              "      <td>ورزشی**9250**1067**خبرنگار: گلی سفیدزاده ا نتش...</td>\n",
              "      <td>NaN</td>\n",
              "    </tr>\n",
              "    <tr>\n",
              "      <th>4511</th>\n",
              "      <td>به گزارش خبرنگار خبرگزاری صدا و سیما، نمایندگا...</td>\n",
              "      <td>NaN</td>\n",
              "    </tr>\n",
              "    <tr>\n",
              "      <th>4512</th>\n",
              "      <td>سیامک ره پیک عضو هیئت مرکزی نظارت بر انتخابات ...</td>\n",
              "      <td>NaN</td>\n",
              "    </tr>\n",
              "    <tr>\n",
              "      <th>4513</th>\n",
              "      <td>#~#سیاسی.</td>\n",
              "      <td>NaN</td>\n",
              "    </tr>\n",
              "  </tbody>\n",
              "</table>\n",
              "<p>4514 rows × 2 columns</p>\n",
              "</div>"
            ],
            "text/plain": [
              "                                              sentences  category\n",
              "0     به گزارش ایرنا، تیم های تراکتورسازی تبریز و نف...       NaN\n",
              "1     «مسعود سلطانی فر» وزیر ورزش و جوانان این دیدار...       NaN\n",
              "2     «البرز حاجی پور» از داوران باتجربه کشورمان که ...       NaN\n",
              "3     گرمای شدید هوای خرمشهر موجب شده تا هواداران با...       NaN\n",
              "4     با وجود تلاش فراوان برای برطرف کردن مشکلات موج...       NaN\n",
              "...                                                 ...       ...\n",
              "4509  برای آگاهی از آخرین اخبار ورزش ایران و جهان با...       NaN\n",
              "4510  ورزشی**9250**1067**خبرنگار: گلی سفیدزاده ا نتش...       NaN\n",
              "4511  به گزارش خبرنگار خبرگزاری صدا و سیما، نمایندگا...       NaN\n",
              "4512  سیامک ره پیک عضو هیئت مرکزی نظارت بر انتخابات ...       NaN\n",
              "4513                                          #~#سیاسی.       NaN\n",
              "\n",
              "[4514 rows x 2 columns]"
            ]
          },
          "metadata": {},
          "execution_count": 39
        }
      ]
    },
    {
      "cell_type": "code",
      "metadata": {
        "id": "5XkIiK8pOJD_"
      },
      "source": [
        "old_index = 0\n",
        "for i, snt in enumerate(df_snt['sentences']): \n",
        "  try: \n",
        "    cat = snt.split(\"#~#\")[1]\n",
        "    df_snt.loc[old_index:i+1, 'category' ] = cat\n",
        "    df_snt.loc[i,'sentences'] = snt.split(\"#~#\")[0]\n",
        "    old_index = i+1\n",
        "    #print(old_index)\n",
        "  except IndexError: \n",
        "    continue \n",
        "\n",
        "df_snt = df_snt[df_snt['sentences'].str.strip().astype(bool)]"
      ],
      "execution_count": null,
      "outputs": []
    },
    {
      "cell_type": "code",
      "metadata": {
        "colab": {
          "base_uri": "https://localhost:8080/",
          "height": 419
        },
        "id": "hKNMD2O3MfrA",
        "outputId": "807b00ef-6a34-485a-bc0f-b5cf0e0549d7"
      },
      "source": [
        "df_snt = df_snt.sample(n=1000,replace=False) #get the 1000 random sentences \n",
        "df_snt['category'] = pd.factorize(df_snt.category)[0] #convert categorical column to numerical \n",
        "df_snt"
      ],
      "execution_count": null,
      "outputs": [
        {
          "output_type": "execute_result",
          "data": {
            "text/html": [
              "<div>\n",
              "<style scoped>\n",
              "    .dataframe tbody tr th:only-of-type {\n",
              "        vertical-align: middle;\n",
              "    }\n",
              "\n",
              "    .dataframe tbody tr th {\n",
              "        vertical-align: top;\n",
              "    }\n",
              "\n",
              "    .dataframe thead th {\n",
              "        text-align: right;\n",
              "    }\n",
              "</style>\n",
              "<table border=\"1\" class=\"dataframe\">\n",
              "  <thead>\n",
              "    <tr style=\"text-align: right;\">\n",
              "      <th></th>\n",
              "      <th>sentences</th>\n",
              "      <th>category</th>\n",
              "    </tr>\n",
              "  </thead>\n",
              "  <tbody>\n",
              "    <tr>\n",
              "      <th>254</th>\n",
              "      <td>واضح است که وقتی وارد باشگاهی جدید می شوید، تم...</td>\n",
              "      <td>0</td>\n",
              "    </tr>\n",
              "    <tr>\n",
              "      <th>2046</th>\n",
              "      <td>دیدید در این 37 سال یک نقطه سیاه نیست.</td>\n",
              "      <td>1</td>\n",
              "    </tr>\n",
              "    <tr>\n",
              "      <th>516</th>\n",
              "      <td>روز گذشته هم بازی منطقی انجام دادیم و در نهایت...</td>\n",
              "      <td>0</td>\n",
              "    </tr>\n",
              "    <tr>\n",
              "      <th>943</th>\n",
              "      <td>با توجه به تفاوت رویکردها در قبال برجام می توا...</td>\n",
              "      <td>2</td>\n",
              "    </tr>\n",
              "    <tr>\n",
              "      <th>739</th>\n",
              "      <td>بیرانوند بارها و بارها با پرتاب دست های بلند خ...</td>\n",
              "      <td>0</td>\n",
              "    </tr>\n",
              "    <tr>\n",
              "      <th>...</th>\n",
              "      <td>...</td>\n",
              "      <td>...</td>\n",
              "    </tr>\n",
              "    <tr>\n",
              "      <th>3472</th>\n",
              "      <td>اگر کسی بگوید تقلب شد باید جواب خدا را بدهد.س:...</td>\n",
              "      <td>1</td>\n",
              "    </tr>\n",
              "    <tr>\n",
              "      <th>228</th>\n",
              "      <td>بازگشت به جایگاه مشاور قریب به دو دهه است که ن...</td>\n",
              "      <td>1</td>\n",
              "    </tr>\n",
              "    <tr>\n",
              "      <th>3468</th>\n",
              "      <td>این را به آقای هاشمی گفتم اما از این حرف ناراح...</td>\n",
              "      <td>1</td>\n",
              "    </tr>\n",
              "    <tr>\n",
              "      <th>2914</th>\n",
              "      <td>به این ترتیب رویای اسرائیل بزرگ از نیل تا فرات...</td>\n",
              "      <td>2</td>\n",
              "    </tr>\n",
              "    <tr>\n",
              "      <th>3285</th>\n",
              "      <td>مردم درگیر قصه پر غصه هفت گنبد افلاک برای امرا...</td>\n",
              "      <td>1</td>\n",
              "    </tr>\n",
              "  </tbody>\n",
              "</table>\n",
              "<p>1000 rows × 2 columns</p>\n",
              "</div>"
            ],
            "text/plain": [
              "                                              sentences  category\n",
              "254   واضح است که وقتی وارد باشگاهی جدید می شوید، تم...         0\n",
              "2046             دیدید در این 37 سال یک نقطه سیاه نیست.         1\n",
              "516   روز گذشته هم بازی منطقی انجام دادیم و در نهایت...         0\n",
              "943   با توجه به تفاوت رویکردها در قبال برجام می توا...         2\n",
              "739   بیرانوند بارها و بارها با پرتاب دست های بلند خ...         0\n",
              "...                                                 ...       ...\n",
              "3472  اگر کسی بگوید تقلب شد باید جواب خدا را بدهد.س:...         1\n",
              "228   بازگشت به جایگاه مشاور قریب به دو دهه است که ن...         1\n",
              "3468  این را به آقای هاشمی گفتم اما از این حرف ناراح...         1\n",
              "2914  به این ترتیب رویای اسرائیل بزرگ از نیل تا فرات...         2\n",
              "3285  مردم درگیر قصه پر غصه هفت گنبد افلاک برای امرا...         1\n",
              "\n",
              "[1000 rows x 2 columns]"
            ]
          },
          "metadata": {},
          "execution_count": 41
        }
      ]
    },
    {
      "cell_type": "code",
      "metadata": {
        "id": "DACE6ChmnTW1"
      },
      "source": [
        "stemmer = Stemmer()\n",
        "normalizer = Normalizer()\n",
        "lemmatizer = Lemmatizer()"
      ],
      "execution_count": null,
      "outputs": []
    },
    {
      "cell_type": "code",
      "metadata": {
        "id": "6DKaLtcsvLZU"
      },
      "source": [
        "df_snt['sentences'] = df_snt['sentences'].apply(lambda x: normalizer.normalize(x)) #making sure half spaces correct"
      ],
      "execution_count": null,
      "outputs": []
    },
    {
      "cell_type": "code",
      "metadata": {
        "id": "xj0pKdOvxXAC"
      },
      "source": [
        "def lemmatize_sentence(sentence):\n",
        "  s = ''\n",
        "  for word in word_tokenize(sentence):\n",
        "    #s += stemmer.stem(word)+ \" \"\n",
        "    try: \n",
        "      s +=  lemmatizer.lemmatize(word).split(\"#\")[1]+ \" \"\n",
        "    except: \n",
        "      s +=  lemmatizer.lemmatize(word).split(\"#\")[0]+ \" \"\n",
        "  return s\n"
      ],
      "execution_count": null,
      "outputs": []
    },
    {
      "cell_type": "code",
      "metadata": {
        "id": "DO-8qyUbreHY"
      },
      "source": [
        "document = Document('/content/drive/MyDrive/datasets/stopwords-Farsi1.docx')\n",
        "persian_stopwords = []\n",
        "for para in document.paragraphs:\n",
        "    persian_stopwords.append(para.text)\n",
        "\n",
        "def remove_stopwords(sentence):\n",
        "  querywords = sentence.split()\n",
        "  resultwords  = [word for word in querywords if word not in persian_stopwords]\n",
        "  return ' '.join(resultwords)"
      ],
      "execution_count": null,
      "outputs": []
    },
    {
      "cell_type": "code",
      "metadata": {
        "id": "_d6PDuba56Fr"
      },
      "source": [
        "'''lets remove their puncuation'''\n",
        "\n",
        "punc_table = str.maketrans(dict.fromkeys(string.punctuation + \"؟،«»؛\"))\n",
        "df_snt['sentences_normalized'] = df_snt['sentences'].apply(lambda x: x.translate(punc_table))\n",
        "\n",
        "\n",
        "'''removing the stopwords...'''\n",
        "\n",
        "df_snt['sentences_normalized'] = df_snt['sentences_normalized'].apply(lambda x: remove_stopwords(x))\n",
        "\n",
        "\n",
        "'''Now for the lemmatizing!'''\n",
        "\n",
        "df_snt['sentences_normalized'] = df_snt['sentences_normalized'].apply(lambda x: lemmatize_sentence(x))"
      ],
      "execution_count": null,
      "outputs": []
    },
    {
      "cell_type": "code",
      "metadata": {
        "colab": {
          "base_uri": "https://localhost:8080/",
          "height": 419
        },
        "id": "tqT3j1v2vHr9",
        "outputId": "c4d75d5d-f1fb-4e94-fd5e-f1b6c40b6e3f"
      },
      "source": [
        "df_snt"
      ],
      "execution_count": null,
      "outputs": [
        {
          "output_type": "execute_result",
          "data": {
            "text/html": [
              "<div>\n",
              "<style scoped>\n",
              "    .dataframe tbody tr th:only-of-type {\n",
              "        vertical-align: middle;\n",
              "    }\n",
              "\n",
              "    .dataframe tbody tr th {\n",
              "        vertical-align: top;\n",
              "    }\n",
              "\n",
              "    .dataframe thead th {\n",
              "        text-align: right;\n",
              "    }\n",
              "</style>\n",
              "<table border=\"1\" class=\"dataframe\">\n",
              "  <thead>\n",
              "    <tr style=\"text-align: right;\">\n",
              "      <th></th>\n",
              "      <th>sentences</th>\n",
              "      <th>category</th>\n",
              "      <th>sentences_normalized</th>\n",
              "    </tr>\n",
              "  </thead>\n",
              "  <tbody>\n",
              "    <tr>\n",
              "      <th>254</th>\n",
              "      <td>واضح است که وقتی وارد باشگاهی جدید می‌شوید، تم...</td>\n",
              "      <td>0</td>\n",
              "      <td>وقت وارد باشگاه جدید شو تمایل حضور طولانی مدت ...</td>\n",
              "    </tr>\n",
              "    <tr>\n",
              "      <th>2046</th>\n",
              "      <td>دیدید در این ۳۷ سال یک نقطه سیاه نیست.</td>\n",
              "      <td>1</td>\n",
              "      <td>بین ۳۷ سال نقطه سیاه نیست</td>\n",
              "    </tr>\n",
              "    <tr>\n",
              "      <th>516</th>\n",
              "      <td>روز گذشته هم بازی منطقی انجام دادیم و در نهایت...</td>\n",
              "      <td>0</td>\n",
              "      <td>گذشته بازی منطق انجام ده نهایت برنده شو افتخار...</td>\n",
              "    </tr>\n",
              "    <tr>\n",
              "      <th>943</th>\n",
              "      <td>با توجه به تفاوت رویکردها در قبال برجام می‌توا...</td>\n",
              "      <td>2</td>\n",
              "      <td>توجه رویکرد قبال برجا می‌توان انتظار داشت موضو...</td>\n",
              "    </tr>\n",
              "    <tr>\n",
              "      <th>739</th>\n",
              "      <td>بیرانوند بارها و بارها با پرتاب دست‌های بلند خ...</td>\n",
              "      <td>0</td>\n",
              "      <td>بیرانوند پرتاب دست بلند مهاجم موقعیت گلزنی داده</td>\n",
              "    </tr>\n",
              "    <tr>\n",
              "      <th>...</th>\n",
              "      <td>...</td>\n",
              "      <td>...</td>\n",
              "      <td>...</td>\n",
              "    </tr>\n",
              "    <tr>\n",
              "      <th>3472</th>\n",
              "      <td>اگر کسی بگوید تقلب شد باید جواب خدا را بدهد. س...</td>\n",
              "      <td>1</td>\n",
              "      <td>کس گو تقلب جواب خدا ده سال ۸۸ فکر کن چیز تقلب ...</td>\n",
              "    </tr>\n",
              "    <tr>\n",
              "      <th>228</th>\n",
              "      <td>بازگشت به جایگاه مشاور قریب به دو دهه است که ن...</td>\n",
              "      <td>1</td>\n",
              "      <td>بازگشت جایگاه مشاور قریب دهه نامزد اصلح جامعتی...</td>\n",
              "    </tr>\n",
              "    <tr>\n",
              "      <th>3468</th>\n",
              "      <td>این را به آقای هاشمی گفتم اما از این حرف ناراح...</td>\n",
              "      <td>1</td>\n",
              "      <td>آقا هاشم گو ناراحت شو</td>\n",
              "    </tr>\n",
              "    <tr>\n",
              "      <th>2914</th>\n",
              "      <td>به این ترتیب رویای اسرائیل بزرگ از نیل تا فرات...</td>\n",
              "      <td>2</td>\n",
              "      <td>ترتیب رویای اسرائیل بزرگ نیل فرات پایان رسید د...</td>\n",
              "    </tr>\n",
              "    <tr>\n",
              "      <th>3285</th>\n",
              "      <td>مردم درگیر قصه پر غصه هفت گنبد افلاک برای امرا...</td>\n",
              "      <td>1</td>\n",
              "      <td>مردم درگیر قصه پر غصه گنبد افلاک امرار معاش مش...</td>\n",
              "    </tr>\n",
              "  </tbody>\n",
              "</table>\n",
              "<p>1000 rows × 3 columns</p>\n",
              "</div>"
            ],
            "text/plain": [
              "                                              sentences  ...                               sentences_normalized\n",
              "254   واضح است که وقتی وارد باشگاهی جدید می‌شوید، تم...  ...  وقت وارد باشگاه جدید شو تمایل حضور طولانی مدت ...\n",
              "2046             دیدید در این ۳۷ سال یک نقطه سیاه نیست.  ...                         بین ۳۷ سال نقطه سیاه نیست \n",
              "516   روز گذشته هم بازی منطقی انجام دادیم و در نهایت...  ...  گذشته بازی منطق انجام ده نهایت برنده شو افتخار...\n",
              "943   با توجه به تفاوت رویکردها در قبال برجام می‌توا...  ...  توجه رویکرد قبال برجا می‌توان انتظار داشت موضو...\n",
              "739   بیرانوند بارها و بارها با پرتاب دست‌های بلند خ...  ...   بیرانوند پرتاب دست بلند مهاجم موقعیت گلزنی داده \n",
              "...                                                 ...  ...                                                ...\n",
              "3472  اگر کسی بگوید تقلب شد باید جواب خدا را بدهد. س...  ...  کس گو تقلب جواب خدا ده سال ۸۸ فکر کن چیز تقلب ...\n",
              "228   بازگشت به جایگاه مشاور قریب به دو دهه است که ن...  ...  بازگشت جایگاه مشاور قریب دهه نامزد اصلح جامعتی...\n",
              "3468  این را به آقای هاشمی گفتم اما از این حرف ناراح...  ...                             آقا هاشم گو ناراحت شو \n",
              "2914  به این ترتیب رویای اسرائیل بزرگ از نیل تا فرات...  ...  ترتیب رویای اسرائیل بزرگ نیل فرات پایان رسید د...\n",
              "3285  مردم درگیر قصه پر غصه هفت گنبد افلاک برای امرا...  ...  مردم درگیر قصه پر غصه گنبد افلاک امرار معاش مش...\n",
              "\n",
              "[1000 rows x 3 columns]"
            ]
          },
          "metadata": {},
          "execution_count": 47
        }
      ]
    },
    {
      "cell_type": "markdown",
      "metadata": {
        "id": "cM-aoH9ffftK"
      },
      "source": [
        "Before we move to each of the parts, we will define functions which will be useful for evaluating and visualizing our model"
      ]
    },
    {
      "cell_type": "code",
      "metadata": {
        "id": "EDZykTz-PpvQ"
      },
      "source": [
        "def purity_score(y_true, y_pred):\n",
        "    # compute contingency matrix (also called confusion matrix)\n",
        "    contingency_matrix = metrics.cluster.contingency_matrix(y_true, y_pred)\n",
        "    # return purity\n",
        "    return np.sum(np.amax(contingency_matrix, axis=0)) / np.sum(contingency_matrix) "
      ],
      "execution_count": null,
      "outputs": []
    },
    {
      "cell_type": "code",
      "metadata": {
        "id": "pcKASV2TfnAs"
      },
      "source": [
        "def find_optimal_clusters(data, max_k):\n",
        "    iters = range(2, max_k+1, 2)\n",
        "    \n",
        "    sse = []\n",
        "    for k in iters:\n",
        "        sse.append(MiniBatchKMeans(n_clusters=k, init_size=1024, batch_size=2048, random_state=20).fit(data).inertia_)\n",
        "        #print('Fit {} clusters'.format(k))\n",
        "        \n",
        "    f, ax = plt.subplots(1, 1)\n",
        "    ax.plot(iters, sse, marker='o')\n",
        "    ax.set_xlabel('Cluster Centers')\n",
        "    ax.set_xticks(iters)\n",
        "    ax.set_xticklabels(iters)\n",
        "    ax.set_ylabel('SSE')\n",
        "    ax.set_title('SSE by Cluster Center Plot')"
      ],
      "execution_count": null,
      "outputs": []
    },
    {
      "cell_type": "code",
      "metadata": {
        "id": "QXsGQ6CSgC9j"
      },
      "source": [
        "def plot_tsne_pca(data, labels):\n",
        "    max_label = max(labels)\n",
        "    max_items = np.random.choice(range(data.shape[0]), size=500, replace=False)\n",
        "    try:\n",
        "      pca = PCA(n_components=2).fit_transform(data[max_items,:].todense())\n",
        "      tsne = TSNE().fit_transform(PCA(n_components=50).fit_transform(data[max_items,:].todense()))\n",
        "\n",
        "    except: \n",
        "      pca = PCA(n_components=2).fit_transform(data[max_items,:])\n",
        "      tsne = TSNE().fit_transform(PCA(n_components=50).fit_transform(data[max_items,:]))\n",
        "\n",
        "    \n",
        "    \n",
        "    idx = np.random.choice(range(pca.shape[0]), size=300, replace=False)\n",
        "    label_subset = labels[max_items]\n",
        "    label_subset = [cm.hsv(i/max_label) for i in label_subset[idx]]\n",
        "    \n",
        "    f, ax = plt.subplots(1, 2, figsize=(14, 6))\n",
        "    \n",
        "    ax[0].scatter(pca[idx, 0], pca[idx, 1], c=label_subset)\n",
        "    ax[0].set_title('PCA Cluster Plot')\n",
        "    \n",
        "    ax[1].scatter(tsne[idx, 0], tsne[idx, 1], c=label_subset)\n",
        "    ax[1].set_title('TSNE Cluster Plot')"
      ],
      "execution_count": null,
      "outputs": []
    },
    {
      "cell_type": "markdown",
      "metadata": {
        "id": "UHbFz-gGnEKL"
      },
      "source": [
        "in order to evaluate the clusters, what we do is, keep the category as the \"labels\", and then find the purity and rand_index metrics between the found clusters and the category labels we have at hand!"
      ]
    },
    {
      "cell_type": "markdown",
      "metadata": {
        "id": "AU86RovIWA99"
      },
      "source": [
        "# **PART 1 -- BOW**"
      ]
    },
    {
      "cell_type": "code",
      "metadata": {
        "id": "atIta1-iYBmV"
      },
      "source": [
        "wordfreq = {}\n",
        "for sentence in df_snt['sentences_normalized']:\n",
        "    tokens = word_tokenize(sentence)\n",
        "    for token in tokens:\n",
        "        if token not in wordfreq.keys():\n",
        "            wordfreq[token] = 1\n",
        "        else:\n",
        "            wordfreq[token] += 1"
      ],
      "execution_count": null,
      "outputs": []
    },
    {
      "cell_type": "code",
      "metadata": {
        "colab": {
          "base_uri": "https://localhost:8080/"
        },
        "id": "Fe-53hg4ZZOr",
        "outputId": "85921a38-49bc-4f61-d0e9-bbdac53ae64e"
      },
      "source": [
        "len(wordfreq) "
      ],
      "execution_count": null,
      "outputs": [
        {
          "output_type": "execute_result",
          "data": {
            "text/plain": [
              "4237"
            ]
          },
          "metadata": {},
          "execution_count": 52
        }
      ]
    },
    {
      "cell_type": "markdown",
      "metadata": {
        "id": "a6xZr-s3aqlQ"
      },
      "source": [
        "there are 4400 words. lets just consider the top 3000"
      ]
    },
    {
      "cell_type": "code",
      "metadata": {
        "id": "kHSs1zUIYN_u"
      },
      "source": [
        "most_freq = heapq.nlargest(3000, wordfreq, key=wordfreq.get)"
      ],
      "execution_count": null,
      "outputs": []
    },
    {
      "cell_type": "code",
      "metadata": {
        "id": "WwJG0vxoa891"
      },
      "source": [
        "snt_bow = []\n",
        "for sentence in df_snt['sentences_normalized']:\n",
        "    sentence_tokens = word_tokenize(sentence)\n",
        "    sent_vec = []\n",
        "    for token in most_freq:\n",
        "        if token in sentence_tokens:\n",
        "            sent_vec.append(1)\n",
        "        else:\n",
        "            sent_vec.append(0)\n",
        "    snt_bow.append(sent_vec)\n",
        "snt_bow = np.asarray(snt_bow) "
      ],
      "execution_count": null,
      "outputs": []
    },
    {
      "cell_type": "code",
      "metadata": {
        "colab": {
          "base_uri": "https://localhost:8080/"
        },
        "id": "f1tIoGtnsQhs",
        "outputId": "07c3877b-0b7a-4cd4-ecd0-f28a28938b58"
      },
      "source": [
        ""
      ],
      "execution_count": null,
      "outputs": [
        {
          "output_type": "execute_result",
          "data": {
            "text/plain": [
              "array([[0, 0, 0, ..., 0, 0, 0],\n",
              "       [0, 0, 0, ..., 0, 0, 0],\n",
              "       [0, 0, 0, ..., 0, 0, 0],\n",
              "       ...,\n",
              "       [0, 0, 0, ..., 0, 0, 0],\n",
              "       [0, 0, 0, ..., 0, 0, 0],\n",
              "       [1, 0, 0, ..., 0, 0, 0]])"
            ]
          },
          "metadata": {},
          "execution_count": 96
        }
      ]
    },
    {
      "cell_type": "markdown",
      "metadata": {
        "id": "abhMjQHObbfl"
      },
      "source": [
        "now we have the bag of words we are looking to use!"
      ]
    },
    {
      "cell_type": "code",
      "metadata": {
        "colab": {
          "base_uri": "https://localhost:8080/",
          "height": 295
        },
        "id": "fgCflpCzblHt",
        "outputId": "2eeeb381-a9ec-4902-defc-b33c466bf064"
      },
      "source": [
        "find_optimal_clusters(snt_bow, 100)"
      ],
      "execution_count": null,
      "outputs": [
        {
          "output_type": "display_data",
          "data": {
            "image/png": "[encoded data removed]",
            "text/plain": [
              "<Figure size 432x288 with 1 Axes>"
            ]
          },
          "metadata": {
            "needs_background": "light"
          }
        }
      ]
    },
    {
      "cell_type": "markdown",
      "metadata": {
        "id": "qXSbBv94dsTw"
      },
      "source": [
        "it seems the more clusters we're using the more the error is going down.. let's go for 70 clusters for now "
      ]
    },
    {
      "cell_type": "code",
      "metadata": {
        "id": "5Y0X3uVMd2XA"
      },
      "source": [
        "clusters = MiniBatchKMeans(n_clusters=70, init_size=1024, batch_size=2048, random_state=20).fit_predict(snt_bow)"
      ],
      "execution_count": null,
      "outputs": []
    },
    {
      "cell_type": "code",
      "metadata": {
        "colab": {
          "base_uri": "https://localhost:8080/",
          "height": 390
        },
        "id": "JDpY6R3HeRLy",
        "outputId": "6edde169-4b5b-4d4c-f303-290ae2146442"
      },
      "source": [
        "plot_tsne_pca(snt_bow, clusters)"
      ],
      "execution_count": null,
      "outputs": [
        {
          "output_type": "display_data",
          "data": {
            "image/png": "[encoded data removed]",
            "text/plain": [
              "<Figure size 1008x432 with 2 Axes>"
            ]
          },
          "metadata": {
            "needs_background": "light"
          }
        }
      ]
    },
    {
      "cell_type": "code",
      "metadata": {
        "colab": {
          "base_uri": "https://localhost:8080/"
        },
        "id": "bm19xf4NeABQ",
        "outputId": "b5429220-6a68-454f-a4b3-ce0f48729640"
      },
      "source": [
        "print(\"#### BOW ####\")\n",
        "print(f\"PURITY SCORE: {purity_score(df_snt['category'], clusters)}\")\n",
        "print(f\"RAND_INDEX SCORE: {rand_score(df_snt['category'], clusters)}\")"
      ],
      "execution_count": null,
      "outputs": [
        {
          "output_type": "stream",
          "name": "stdout",
          "text": [
            "#### BOW ####\n",
            "PURITY SCORE: 0.733\n",
            "RAND_INDEX SCORE: 0.5323283283283283\n"
          ]
        }
      ]
    },
    {
      "cell_type": "markdown",
      "metadata": {
        "id": "XDi-r0LgJStl"
      },
      "source": [
        "# **PART 2 -- TFIDF**"
      ]
    },
    {
      "cell_type": "code",
      "metadata": {
        "id": "enZwpuf8JaXG"
      },
      "source": [
        "tfidf_vectorizer = TfidfVectorizer(max_df=0.8, max_features=10000)"
      ],
      "execution_count": null,
      "outputs": []
    },
    {
      "cell_type": "code",
      "metadata": {
        "id": "Hy6QkYE-ITfG"
      },
      "source": [
        " tfidf = TfidfVectorizer(\n",
        "    min_df = 5,\n",
        "    max_df = 0.95,\n",
        "    max_features = 8000,\n",
        ")\n",
        "tfidf.fit(df_snt['sentences_normalized'])\n",
        "snt_tfidf = tfidf.transform(df_snt['sentences_normalized'])\n",
        " \n",
        " #OR  \n",
        " #snt_tfidf = tfidf_vectorizer.fit_transform(df_snt['sentences_normalized']) \n",
        " #csr_matrix.sort_indices(snt_tfidf)"
      ],
      "execution_count": null,
      "outputs": []
    },
    {
      "cell_type": "code",
      "metadata": {
        "colab": {
          "base_uri": "https://localhost:8080/",
          "height": 295
        },
        "id": "XR2UvXJzKWeD",
        "outputId": "9d2a777d-eebb-42a6-8a1c-57435fc9029b"
      },
      "source": [
        "find_optimal_clusters(snt_tfidf, 100)"
      ],
      "execution_count": null,
      "outputs": [
        {
          "output_type": "display_data",
          "data": {
            "image/png": "[encoded data removed]",
            "text/plain": [
              "<Figure size 432x288 with 1 Axes>"
            ]
          },
          "metadata": {
            "needs_background": "light"
          }
        }
      ]
    },
    {
      "cell_type": "code",
      "metadata": {
        "id": "dIiAwWMJR-BW"
      },
      "source": [
        "clusters = MiniBatchKMeans(n_clusters=50, init_size=1024, batch_size=2048, random_state=20).fit_predict(snt_tfidf)"
      ],
      "execution_count": null,
      "outputs": []
    },
    {
      "cell_type": "code",
      "metadata": {
        "colab": {
          "base_uri": "https://localhost:8080/",
          "height": 390
        },
        "id": "xelCLiocSlPm",
        "outputId": "9fafb55d-b282-45aa-9200-fb34101d7b5e"
      },
      "source": [
        "plot_tsne_pca(snt_tfidf, clusters)"
      ],
      "execution_count": null,
      "outputs": [
        {
          "output_type": "display_data",
          "data": {
            "image/png": "[encoded data removed]",
            "text/plain": [
              "<Figure size 1008x432 with 2 Axes>"
            ]
          },
          "metadata": {
            "needs_background": "light"
          }
        }
      ]
    },
    {
      "cell_type": "code",
      "metadata": {
        "colab": {
          "base_uri": "https://localhost:8080/"
        },
        "id": "okKZc7txOIN4",
        "outputId": "f870843c-00c7-4c06-e895-9c60ac6ee00e"
      },
      "source": [
        "print(\"#### TF-IDF ####\")\n",
        "print(f\"PURITY SCORE: {purity_score(df_snt['category'], clusters)}\")\n",
        "print(f\"RAND_INDEX SCORE: {rand_score(df_snt['category'], clusters)}\")\n"
      ],
      "execution_count": null,
      "outputs": [
        {
          "output_type": "stream",
          "name": "stdout",
          "text": [
            "#### TF-IDF ####\n",
            "PURITY SCORE: 0.701\n",
            "RAND_INDEX SCORE: 0.46518918918918917\n"
          ]
        }
      ]
    },
    {
      "cell_type": "markdown",
      "metadata": {
        "id": "iF4u_vdyq0al"
      },
      "source": [
        "# **PART 3 -- FastText**"
      ]
    },
    {
      "cell_type": "code",
      "metadata": {
        "id": "KpZ4VyPCqyAt"
      },
      "source": [
        "sentence_vectors = df_snt['sentences_normalized'].apply(lambda x: ft.get_sentence_vector(x))\n",
        "snt_ft = np.stack(sentence_vectors)"
      ],
      "execution_count": null,
      "outputs": []
    },
    {
      "cell_type": "code",
      "metadata": {
        "colab": {
          "base_uri": "https://localhost:8080/"
        },
        "id": "n4VLpUD2rzkI",
        "outputId": "ba8bc06d-0c31-4cf1-8df5-1b99d2b0fe6f"
      },
      "source": [
        "snt_ft"
      ],
      "execution_count": null,
      "outputs": [
        {
          "output_type": "execute_result",
          "data": {
            "text/plain": [
              "array([[ 0.03615098,  0.06632061, -0.03796776, ...,  0.00096274,\n",
              "         0.01460484,  0.00585384],\n",
              "       [ 0.027032  ,  0.05920049, -0.04572147, ..., -0.00115591,\n",
              "        -0.02493825, -0.02289231],\n",
              "       [ 0.04690801,  0.06039116, -0.03699015, ...,  0.03125066,\n",
              "        -0.02323242, -0.01552556],\n",
              "       ...,\n",
              "       [-0.04347663,  0.05161397, -0.0470673 , ...,  0.05783105,\n",
              "         0.03640178,  0.04170388],\n",
              "       [ 0.06333905,  0.0959629 , -0.04322641, ...,  0.02614916,\n",
              "         0.0189699 , -0.00999104],\n",
              "       [ 0.05032296,  0.05193703, -0.01253954, ...,  0.01681017,\n",
              "         0.01898043, -0.00445402]], dtype=float32)"
            ]
          },
          "metadata": {},
          "execution_count": 118
        }
      ]
    },
    {
      "cell_type": "code",
      "metadata": {
        "colab": {
          "base_uri": "https://localhost:8080/",
          "height": 295
        },
        "id": "8vumHa8vtBVi",
        "outputId": "3acb85c3-25be-4085-ad8f-a5d21e3dce95"
      },
      "source": [
        "find_optimal_clusters(snt_ft, 30)"
      ],
      "execution_count": null,
      "outputs": [
        {
          "output_type": "display_data",
          "data": {
            "image/png": "[encoded data removed]",
            "text/plain": [
              "<Figure size 432x288 with 1 Axes>"
            ]
          },
          "metadata": {
            "needs_background": "light"
          }
        }
      ]
    },
    {
      "cell_type": "code",
      "metadata": {
        "id": "J5qsQ44ctXUP"
      },
      "source": [
        "clusters = MiniBatchKMeans(n_clusters=16, init_size=1024, batch_size=2048, random_state=20).fit_predict(snt_ft)"
      ],
      "execution_count": null,
      "outputs": []
    },
    {
      "cell_type": "code",
      "metadata": {
        "colab": {
          "base_uri": "https://localhost:8080/",
          "height": 390
        },
        "id": "NQp2gnQgteCo",
        "outputId": "e314af91-74a7-4656-b191-d8c66049da24"
      },
      "source": [
        "plot_tsne_pca(snt_ft, clusters)"
      ],
      "execution_count": null,
      "outputs": [
        {
          "output_type": "display_data",
          "data": {
            "image/png": "[encoded data removed]",
            "text/plain": [
              "<Figure size 1008x432 with 2 Axes>"
            ]
          },
          "metadata": {
            "needs_background": "light"
          }
        }
      ]
    },
    {
      "cell_type": "code",
      "metadata": {
        "colab": {
          "base_uri": "https://localhost:8080/"
        },
        "id": "br27b2LrtjQk",
        "outputId": "560933a9-da95-4d36-807c-1616e09acfd0"
      },
      "source": [
        "print(\"#### FAST TEXT ####\")\n",
        "print(f\"PURITY SCORE: {purity_score(df_snt['category'], clusters)}\")\n",
        "print(f\"RAND_INDEX SCORE: {rand_score(df_snt['category'], clusters)}\")"
      ],
      "execution_count": null,
      "outputs": [
        {
          "output_type": "stream",
          "name": "stdout",
          "text": [
            "#### FAST TEXT ####\n",
            "PURITY SCORE: 0.826\n",
            "RAND_INDEX SCORE: 0.5362362362362363\n"
          ]
        }
      ]
    },
    {
      "cell_type": "markdown",
      "metadata": {
        "id": "jP2WBCCit3Jz"
      },
      "source": [
        "As it can be seen, we are getting the best results by using Fast-Text + KMeans, over the other two methods. This is mainly due to the algorithm finding a better representation for the sentences, however, this we seem to be getting more outliers than when we used the BoW method"
      ]
    }
  ]
}