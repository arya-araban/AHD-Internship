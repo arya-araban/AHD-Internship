{
  "nbformat": 4,
  "nbformat_minor": 0,
  "metadata": {
    "colab": {
      "name": "AHD_1.ipynb",
      "provenance": [],
      "collapsed_sections": []
    },
    "kernelspec": {
      "name": "python3",
      "display_name": "Python 3"
    },
    "language_info": {
      "name": "python"
    }
  },
  "cells": [
    {
      "cell_type": "code",
      "metadata": {
        "id": "eLHjObsbqy-m"
      },
      "source": [
        "import pandas as pd\n",
        "import json\n",
        "import csv\n",
        "import matplotlib.pyplot as plt\n",
        "import time \n",
        "import re\n",
        "import seaborn as sns\n",
        "from matplotlib.pyplot import figure\n",
        "import numpy as np"
      ],
      "execution_count": null,
      "outputs": []
    },
    {
      "cell_type": "code",
      "metadata": {
        "colab": {
          "base_uri": "https://localhost:8080/"
        },
        "id": "QfyIuWoVvlYd",
        "outputId": "332a31a3-cd43-40a5-9c65-a7b9ee419742"
      },
      "source": [
        "!pip install arabic_reshaper\n",
        "!pip install python-bidi\n",
        "!pip install mplcursors\n",
        "from bidi.algorithm import get_display\n",
        "import arabic_reshaper\n",
        "import mplcursors"
      ],
      "execution_count": null,
      "outputs": [
        {
          "output_type": "stream",
          "text": [
            "Collecting arabic_reshaper\n",
            "  Downloading arabic_reshaper-2.1.3-py3-none-any.whl (20 kB)\n",
            "Requirement already satisfied: future in /usr/local/lib/python3.7/dist-packages (from arabic_reshaper) (0.16.0)\n",
            "Requirement already satisfied: setuptools in /usr/local/lib/python3.7/dist-packages (from arabic_reshaper) (57.2.0)\n",
            "Installing collected packages: arabic-reshaper\n",
            "Successfully installed arabic-reshaper-2.1.3\n",
            "Collecting python-bidi\n",
            "  Downloading python_bidi-0.4.2-py2.py3-none-any.whl (30 kB)\n",
            "Requirement already satisfied: six in /usr/local/lib/python3.7/dist-packages (from python-bidi) (1.15.0)\n",
            "Installing collected packages: python-bidi\n",
            "Successfully installed python-bidi-0.4.2\n",
            "Collecting mplcursors\n",
            "  Downloading mplcursors-0.4.tar.gz (86 kB)\n",
            "\u001b[K     |████████████████████████████████| 86 kB 2.9 MB/s \n",
            "\u001b[?25hRequirement already satisfied: matplotlib>=3.1 in /usr/local/lib/python3.7/dist-packages (from mplcursors) (3.2.2)\n",
            "Requirement already satisfied: python-dateutil>=2.1 in /usr/local/lib/python3.7/dist-packages (from matplotlib>=3.1->mplcursors) (2.8.1)\n",
            "Requirement already satisfied: kiwisolver>=1.0.1 in /usr/local/lib/python3.7/dist-packages (from matplotlib>=3.1->mplcursors) (1.3.1)\n",
            "Requirement already satisfied: cycler>=0.10 in /usr/local/lib/python3.7/dist-packages (from matplotlib>=3.1->mplcursors) (0.10.0)\n",
            "Requirement already satisfied: numpy>=1.11 in /usr/local/lib/python3.7/dist-packages (from matplotlib>=3.1->mplcursors) (1.19.5)\n",
            "Requirement already satisfied: pyparsing!=2.0.4,!=2.1.2,!=2.1.6,>=2.0.1 in /usr/local/lib/python3.7/dist-packages (from matplotlib>=3.1->mplcursors) (2.4.7)\n",
            "Requirement already satisfied: six in /usr/local/lib/python3.7/dist-packages (from cycler>=0.10->matplotlib>=3.1->mplcursors) (1.15.0)\n",
            "Building wheels for collected packages: mplcursors\n",
            "  Building wheel for mplcursors (setup.py) ... \u001b[?25l\u001b[?25hdone\n",
            "  Created wheel for mplcursors: filename=mplcursors-0.4-py3-none-any.whl size=19983 sha256=146781a176c0d65f555883db9488176c938a2ff2cf4effc56a8772f8ae98011e\n",
            "  Stored in directory: /root/.cache/pip/wheels/09/8a/90/32b30a664f7c3c4b0062f2cc5593696d1d82e758dc54d5cc1f\n",
            "Successfully built mplcursors\n",
            "Installing collected packages: mplcursors\n",
            "Successfully installed mplcursors-0.4\n"
          ],
          "name": "stdout"
        }
      ]
    },
    {
      "cell_type": "code",
      "metadata": {
        "colab": {
          "base_uri": "https://localhost:8080/"
        },
        "id": "HKA_hmpAonmg",
        "outputId": "6d954116-82e1-4682-d325-9043ef9e0199"
      },
      "source": [
        "from google.colab import drive\n",
        "drive.mount('/content/drive')"
      ],
      "execution_count": null,
      "outputs": [
        {
          "output_type": "stream",
          "text": [
            "Drive already mounted at /content/drive; to attempt to forcibly remount, call drive.mount(\"/content/drive\", force_remount=True).\n"
          ],
          "name": "stdout"
        }
      ]
    },
    {
      "cell_type": "code",
      "metadata": {
        "colab": {
          "base_uri": "https://localhost:8080/"
        },
        "id": "NXYN5RDHpCbR",
        "outputId": "34d1cf8d-dbed-4cb8-a6c7-108fafa25e30"
      },
      "source": [
        "!unrar x \"/content/drive/MyDrive/ferdowsi-data.rar\""
      ],
      "execution_count": null,
      "outputs": [
        {
          "output_type": "stream",
          "text": [
            "\n",
            "UNRAR 5.50 freeware      Copyright (c) 1993-2017 Alexander Roshal\n",
            "\n",
            "\n",
            "Extracting from /content/drive/MyDrive/ferdowsi-data.rar\n",
            "\n",
            "Creating    Spad                                                      OK\n",
            "Extracting  Spad/ferdowsi-data.txt                                       \b\b\b\b  0%\b\b\b\b  1%\b\b\b\b  2%\b\b\b\b  3%\b\b\b\b  4%\b\b\b\b  5%\b\b\b\b  6%\b\b\b\b  7%\b\b\b\b  8%\b\b\b\b  9%\b\b\b\b 10%\b\b\b\b 11%\b\b\b\b 12%\b\b\b\b 13%\b\b\b\b 14%\b\b\b\b 15%\b\b\b\b 16%\b\b\b\b 17%\b\b\b\b 18%\b\b\b\b 19%\b\b\b\b 20%\b\b\b\b 21%\b\b\b\b 22%\b\b\b\b 23%\b\b\b\b 24%\b\b\b\b 25%\b\b\b\b 26%\b\b\b\b 27%\b\b\b\b 28%\b\b\b\b 29%\b\b\b\b 30%\b\b\b\b 31%\b\b\b\b 32%\b\b\b\b 33%\b\b\b\b 34%\b\b\b\b 35%\b\b\b\b 36%\b\b\b\b 37%\b\b\b\b 38%\b\b\b\b 39%\b\b\b\b 40%\b\b\b\b 41%\b\b\b\b 42%\b\b\b\b 43%\b\b\b\b 44%\b\b\b\b 45%\b\b\b\b 46%\b\b\b\b 47%\b\b\b\b 48%\b\b\b\b 49%\b\b\b\b 50%\b\b\b\b 51%\b\b\b\b 52%\b\b\b\b 53%\b\b\b\b 54%\b\b\b\b 55%\b\b\b\b 56%\b\b\b\b 57%\b\b\b\b 58%\b\b\b\b 59%\b\b\b\b 60%\b\b\b\b 61%\b\b\b\b 62%\b\b\b\b 63%\b\b\b\b 64%\b\b\b\b 65%\b\b\b\b 66%\b\b\b\b 67%\b\b\b\b 68%\b\b\b\b 69%\b\b\b\b 70%\b\b\b\b 71%\b\b\b\b 72%\b\b\b\b 73%\b\b\b\b 74%\b\b\b\b 75%\b\b\b\b 76%\b\b\b\b 77%\b\b\b\b 78%\b\b\b\b 79%\b\b\b\b 80%\b\b\b\b 81%\b\b\b\b 82%\b\b\b\b 83%\b\b\b\b 84%\b\b\b\b 85%\b\b\b\b 86%\b\b\b\b 87%\b\b\b\b 88%\b\b\b\b 89%\b\b\b\b 90%\b\b\b\b 91%\b\b\b\b 92%\b\b\b\b 93%\b\b\b\b 94%\b\b\b\b 95%\b\b\b\b 96%\b\b\b\b 97%\b\b\b\b 98%\b\b\b\b 99%\b\b\b\b\b  OK \n",
            "All OK\n"
          ],
          "name": "stdout"
        }
      ]
    },
    {
      "cell_type": "code",
      "metadata": {
        "id": "xKTrCNecqv45"
      },
      "source": [
        "file = open('/content/Spad/ferdowsi-data.txt', 'r')\n",
        "df = pd.DataFrame()\n",
        "\n",
        "\n",
        "NUM_ENTRIES = 10000 #number of entries to fetch \n"
      ],
      "execution_count": null,
      "outputs": []
    },
    {
      "cell_type": "code",
      "metadata": {
        "id": "Mszbvy0bq_q0"
      },
      "source": [
        "cnt = 0\n",
        "cur_entry = ''\n",
        "\n",
        "for _ in range(NUM_ENTRIES*16):\n",
        "    cnt += 1\n",
        "    line = file.readline()\n",
        "    cur_entry += line\n",
        "    try:\n",
        "        if cnt % 16 == 0:\n",
        "            row = json.loads(cur_entry)\n",
        "            row = row['_source']\n",
        "           #print(row)\n",
        "            df = df.append(row, ignore_index=True)\n",
        "            cur_entry = ''\n",
        "    except:\n",
        "        pass\n",
        "\n",
        "file.close()\n"
      ],
      "execution_count": null,
      "outputs": []
    },
    {
      "cell_type": "code",
      "metadata": {
        "colab": {
          "base_uri": "https://localhost:8080/",
          "height": 419
        },
        "id": "FMGSMukUrLMo",
        "outputId": "daecd84e-d11e-4634-c28b-0c0c099664d8"
      },
      "source": [
        "#dt_created_bckp = df['date_created']\t\n",
        "\n",
        "df"
      ],
      "execution_count": null,
      "outputs": [
        {
          "output_type": "execute_result",
          "data": {
            "text/html": [
              "<div>\n",
              "<style scoped>\n",
              "    .dataframe tbody tr th:only-of-type {\n",
              "        vertical-align: middle;\n",
              "    }\n",
              "\n",
              "    .dataframe tbody tr th {\n",
              "        vertical-align: top;\n",
              "    }\n",
              "\n",
              "    .dataframe thead th {\n",
              "        text-align: right;\n",
              "    }\n",
              "</style>\n",
              "<table border=\"1\" class=\"dataframe\">\n",
              "  <thead>\n",
              "    <tr style=\"text-align: right;\">\n",
              "      <th></th>\n",
              "      <th>agency</th>\n",
              "      <th>category</th>\n",
              "      <th>content</th>\n",
              "      <th>date_created</th>\n",
              "      <th>image</th>\n",
              "      <th>lead</th>\n",
              "      <th>title</th>\n",
              "      <th>url</th>\n",
              "    </tr>\n",
              "  </thead>\n",
              "  <tbody>\n",
              "    <tr>\n",
              "      <th>0</th>\n",
              "      <td>13</td>\n",
              "      <td>15</td>\n",
              "      <td>فهیمه حسن‌میری: اگرچه در هیاهوی انتخابات ریاس...</td>\n",
              "      <td>1.494518e+09</td>\n",
              "      <td>uploads/2017/05/11/1589793661.jpg</td>\n",
              "      <td>جامعه&amp;nbsp;&amp;gt;&amp;nbsp;شهری - میزگردی درباره عمل...</td>\n",
              "      <td>کارهای قالیباف در تهران نمایشی بود- شورای‌شهر ...</td>\n",
              "      <td>http://www.khabaronline.ir/(X(1)S(bud4wg3ebzbx...</td>\n",
              "    </tr>\n",
              "    <tr>\n",
              "      <th>1</th>\n",
              "      <td>1</td>\n",
              "      <td>20</td>\n",
              "      <td>به گزارش خبرگزاری فارس از قم، محمدعلی برزنونی ...</td>\n",
              "      <td>1.494522e+09</td>\n",
              "      <td>uploads/2017/05/11/1713799235.jpg</td>\n",
              "      <td>مدیر مؤسسه علمی و پژوهشی ابن‌سینا در بوسنی گفت...</td>\n",
              "      <td>معنویت در عصر آخرالزمان احیا می‌شود</td>\n",
              "      <td>http://www.farsnews.com/13960221001386</td>\n",
              "    </tr>\n",
              "    <tr>\n",
              "      <th>2</th>\n",
              "      <td>36</td>\n",
              "      <td>5</td>\n",
              "      <td>به گزارش ایرنا، تیم های تراکتورسازی تبریز و...</td>\n",
              "      <td>1.494522e+09</td>\n",
              "      <td>uploads/2017/05/11/2561366787.jpg</td>\n",
              "      <td>تهران - ایرنا - دیدار پایانی جام حذفی باشگاه ه...</td>\n",
              "      <td>فینال جام حذفی؛ وداع البرز حاجی پور از داوری-3...</td>\n",
              "      <td>http://www.irna.ir/fa/News/82525960/</td>\n",
              "    </tr>\n",
              "    <tr>\n",
              "      <th>3</th>\n",
              "      <td>13</td>\n",
              "      <td>8</td>\n",
              "      <td>به گزارش خبرگزاری خبرآنلاین، جمشید مشایخی، هن...</td>\n",
              "      <td>1.494522e+09</td>\n",
              "      <td>uploads/2017/05/11/109987278.jpg</td>\n",
              "      <td>فرهنگ&amp;nbsp;&amp;gt;&amp;nbsp;سینما - جمشید مشایخی، امر...</td>\n",
              "      <td>موضع انتخاباتی جمشید مشایخی روی تخت بیمارستان-...</td>\n",
              "      <td>http://www.khabaronline.ir/(X(1)S(nducmtisxqhw...</td>\n",
              "    </tr>\n",
              "    <tr>\n",
              "      <th>4</th>\n",
              "      <td>13</td>\n",
              "      <td>7</td>\n",
              "      <td>به گزارش خبرآنلاین، پیش‌تر گفته شد سامسونگ و ...</td>\n",
              "      <td>1.494522e+09</td>\n",
              "      <td>uploads/2017/05/11/3295317773.jpg</td>\n",
              "      <td>فناوری اطلاعات&amp;nbsp;&amp;gt;&amp;nbsp;سخت افزار - اسنپ...</td>\n",
              "      <td>مشخصات فنی پردازنده اسنپ دراگون ۸۴۵- رونمایی ا...</td>\n",
              "      <td>http://www.khabaronline.ir/(X(1)S(uupfbn0kvlth...</td>\n",
              "    </tr>\n",
              "    <tr>\n",
              "      <th>...</th>\n",
              "      <td>...</td>\n",
              "      <td>...</td>\n",
              "      <td>...</td>\n",
              "      <td>...</td>\n",
              "      <td>...</td>\n",
              "      <td>...</td>\n",
              "      <td>...</td>\n",
              "      <td>...</td>\n",
              "    </tr>\n",
              "    <tr>\n",
              "      <th>9995</th>\n",
              "      <td>21</td>\n",
              "      <td>78</td>\n",
              "      <td>به گزارش خبرنگار  گروه استان های باشگاه خبرن...</td>\n",
              "      <td>1.495290e+09</td>\n",
              "      <td>uploads/2017/05/20/2665703450.jpg</td>\n",
              "      <td>فریدون همتی استاندار قزوین با صدور پیامی خلق ح...</td>\n",
              "      <td>پیام تبریک استاندار برای خلق حماسه سیاسی</td>\n",
              "      <td>http://www.yjc.ir/fa/news/6095495/%D9%BE%DB%8C...</td>\n",
              "    </tr>\n",
              "    <tr>\n",
              "      <th>9996</th>\n",
              "      <td>21</td>\n",
              "      <td>64</td>\n",
              "      <td>به گزارش  گروه استان های باشگاه خبرنگاران جوا...</td>\n",
              "      <td>1.495290e+09</td>\n",
              "      <td>uploads/2017/05/20/264666546.jpg</td>\n",
              "      <td>استاندار اصفهان با صدور پیامی با تقدیر از هموط...</td>\n",
              "      <td>تقدیر استاندار اصفهان از حضور پرشور مردم اصفها...</td>\n",
              "      <td>http://www.yjc.ir/fa/news/6095498/%D8%AA%D9%82...</td>\n",
              "    </tr>\n",
              "    <tr>\n",
              "      <th>9997</th>\n",
              "      <td>2</td>\n",
              "      <td>15</td>\n",
              "      <td>سرهنگ کشواد بهروزی زاده در گفت و گو با خبرنگا...</td>\n",
              "      <td>1.495290e+09</td>\n",
              "      <td>uploads/2017/05/20/1678039667.jpg</td>\n",
              "      <td>زاهدان - ایرنا - فرمانده پلیس راه شمال سیستان ...</td>\n",
              "      <td>بروز 2 فقره تصادف در سیستان و بلوچستان 4 کشته ...</td>\n",
              "      <td>http://www.irna.ir/fa/News/82538677/</td>\n",
              "    </tr>\n",
              "    <tr>\n",
              "      <th>9998</th>\n",
              "      <td>256</td>\n",
              "      <td>101</td>\n",
              "      <td>به گزارش خبرگزاری اهل‌بیت(ع) ـ ابنا ـ امیر کوی...</td>\n",
              "      <td>1.495290e+09</td>\n",
              "      <td>False</td>\n",
              "      <td></td>\n",
              "      <td>پیام تبریک امیر کویت و رؤسای جمهوری سوریه و رو...</td>\n",
              "      <td>http://fa.abna24.com/news/%d8%a7%d8%ae%d8%a8%d...</td>\n",
              "    </tr>\n",
              "    <tr>\n",
              "      <th>9999</th>\n",
              "      <td>14</td>\n",
              "      <td>1</td>\n",
              "      <td>پس از گذشت ۳۸ سال از انقلاب اسلامی ایران، تجر...</td>\n",
              "      <td>1.495290e+09</td>\n",
              "      <td></td>\n",
              "      <td></td>\n",
              "      <td>مقایسه آرای دور دوم روسای جمهور ایران</td>\n",
              "      <td>http://www.asriran.com/fa/news/540053/%D9%85%D...</td>\n",
              "    </tr>\n",
              "  </tbody>\n",
              "</table>\n",
              "<p>10000 rows × 8 columns</p>\n",
              "</div>"
            ],
            "text/plain": [
              "     agency  ...                                                url\n",
              "0        13  ...  http://www.khabaronline.ir/(X(1)S(bud4wg3ebzbx...\n",
              "1         1  ...             http://www.farsnews.com/13960221001386\n",
              "2        36  ...               http://www.irna.ir/fa/News/82525960/\n",
              "3        13  ...  http://www.khabaronline.ir/(X(1)S(nducmtisxqhw...\n",
              "4        13  ...  http://www.khabaronline.ir/(X(1)S(uupfbn0kvlth...\n",
              "...     ...  ...                                                ...\n",
              "9995     21  ...  http://www.yjc.ir/fa/news/6095495/%D9%BE%DB%8C...\n",
              "9996     21  ...  http://www.yjc.ir/fa/news/6095498/%D8%AA%D9%82...\n",
              "9997      2  ...               http://www.irna.ir/fa/News/82538677/\n",
              "9998    256  ...  http://fa.abna24.com/news/%d8%a7%d8%ae%d8%a8%d...\n",
              "9999     14  ...  http://www.asriran.com/fa/news/540053/%D9%85%D...\n",
              "\n",
              "[10000 rows x 8 columns]"
            ]
          },
          "metadata": {
            "tags": []
          },
          "execution_count": 46
        }
      ]
    },
    {
      "cell_type": "code",
      "metadata": {
        "id": "nfoNxvjG3MmD"
      },
      "source": [
        "def epoch_to_date(epoch_seconds):\n",
        "  #return time.strftime('%Y-%m-%d %H:%M:%S', time.localtime(epoch_seconds)) to have the exact time \n",
        "  return time.strftime('%Y-%m-%d', time.localtime(epoch_seconds))"
      ],
      "execution_count": null,
      "outputs": []
    },
    {
      "cell_type": "code",
      "metadata": {
        "id": "ba_wffXA-h_E"
      },
      "source": [
        "df['date_created'] = df['date_created'].apply(lambda x: epoch_to_date(x))"
      ],
      "execution_count": null,
      "outputs": []
    },
    {
      "cell_type": "code",
      "metadata": {
        "id": "5mqfA23l_WYB",
        "colab": {
          "base_uri": "https://localhost:8080/",
          "height": 589
        },
        "outputId": "e9d6128c-0089-477c-cfc7-2666cbba61d4"
      },
      "source": [
        "df"
      ],
      "execution_count": null,
      "outputs": [
        {
          "output_type": "execute_result",
          "data": {
            "text/html": [
              "<div>\n",
              "<style scoped>\n",
              "    .dataframe tbody tr th:only-of-type {\n",
              "        vertical-align: middle;\n",
              "    }\n",
              "\n",
              "    .dataframe tbody tr th {\n",
              "        vertical-align: top;\n",
              "    }\n",
              "\n",
              "    .dataframe thead th {\n",
              "        text-align: right;\n",
              "    }\n",
              "</style>\n",
              "<table border=\"1\" class=\"dataframe\">\n",
              "  <thead>\n",
              "    <tr style=\"text-align: right;\">\n",
              "      <th></th>\n",
              "      <th>agency</th>\n",
              "      <th>category</th>\n",
              "      <th>content</th>\n",
              "      <th>date_created</th>\n",
              "      <th>image</th>\n",
              "      <th>lead</th>\n",
              "      <th>title</th>\n",
              "      <th>url</th>\n",
              "      <th>agency_name</th>\n",
              "    </tr>\n",
              "  </thead>\n",
              "  <tbody>\n",
              "    <tr>\n",
              "      <th>0</th>\n",
              "      <td>13</td>\n",
              "      <td>اجتماعی</td>\n",
              "      <td>فهیمه حسن‌میری: اگرچه در هیاهوی انتخابات ریاس...</td>\n",
              "      <td>2017-05-11</td>\n",
              "      <td>uploads/2017/05/11/1589793661.jpg</td>\n",
              "      <td>جامعه&amp;nbsp;&amp;gt;&amp;nbsp;شهری - میزگردی درباره عمل...</td>\n",
              "      <td>کارهای قالیباف در تهران نمایشی بود- شورای‌شهر ...</td>\n",
              "      <td>http://www.khabaronline.ir/(X(1)S(bud4wg3ebzbx...</td>\n",
              "      <td>khabaronline</td>\n",
              "    </tr>\n",
              "    <tr>\n",
              "      <th>1</th>\n",
              "      <td>1</td>\n",
              "      <td>استانها</td>\n",
              "      <td>به گزارش خبرگزاری فارس از قم، محمدعلی برزنونی ...</td>\n",
              "      <td>2017-05-11</td>\n",
              "      <td>uploads/2017/05/11/1713799235.jpg</td>\n",
              "      <td>مدیر مؤسسه علمی و پژوهشی ابن‌سینا در بوسنی گفت...</td>\n",
              "      <td>معنویت در عصر آخرالزمان احیا می‌شود</td>\n",
              "      <td>http://www.farsnews.com/13960221001386</td>\n",
              "      <td>farsnews</td>\n",
              "    </tr>\n",
              "    <tr>\n",
              "      <th>2</th>\n",
              "      <td>36</td>\n",
              "      <td>ورزشی</td>\n",
              "      <td>به گزارش ایرنا، تیم های تراکتورسازی تبریز و...</td>\n",
              "      <td>2017-05-11</td>\n",
              "      <td>uploads/2017/05/11/2561366787.jpg</td>\n",
              "      <td>تهران - ایرنا - دیدار پایانی جام حذفی باشگاه ه...</td>\n",
              "      <td>فینال جام حذفی؛ وداع البرز حاجی پور از داوری-3...</td>\n",
              "      <td>http://www.irna.ir/fa/News/82525960/</td>\n",
              "      <td>irna</td>\n",
              "    </tr>\n",
              "    <tr>\n",
              "      <th>3</th>\n",
              "      <td>13</td>\n",
              "      <td>فرهنگی</td>\n",
              "      <td>به گزارش خبرگزاری خبرآنلاین، جمشید مشایخی، هن...</td>\n",
              "      <td>2017-05-11</td>\n",
              "      <td>uploads/2017/05/11/109987278.jpg</td>\n",
              "      <td>فرهنگ&amp;nbsp;&amp;gt;&amp;nbsp;سینما - جمشید مشایخی، امر...</td>\n",
              "      <td>موضع انتخاباتی جمشید مشایخی روی تخت بیمارستان-...</td>\n",
              "      <td>http://www.khabaronline.ir/(X(1)S(nducmtisxqhw...</td>\n",
              "      <td>khabaronline</td>\n",
              "    </tr>\n",
              "    <tr>\n",
              "      <th>4</th>\n",
              "      <td>13</td>\n",
              "      <td>فناوری اطلاعات</td>\n",
              "      <td>به گزارش خبرآنلاین، پیش‌تر گفته شد سامسونگ و ...</td>\n",
              "      <td>2017-05-11</td>\n",
              "      <td>uploads/2017/05/11/3295317773.jpg</td>\n",
              "      <td>فناوری اطلاعات&amp;nbsp;&amp;gt;&amp;nbsp;سخت افزار - اسنپ...</td>\n",
              "      <td>مشخصات فنی پردازنده اسنپ دراگون ۸۴۵- رونمایی ا...</td>\n",
              "      <td>http://www.khabaronline.ir/(X(1)S(uupfbn0kvlth...</td>\n",
              "      <td>khabaronline</td>\n",
              "    </tr>\n",
              "    <tr>\n",
              "      <th>...</th>\n",
              "      <td>...</td>\n",
              "      <td>...</td>\n",
              "      <td>...</td>\n",
              "      <td>...</td>\n",
              "      <td>...</td>\n",
              "      <td>...</td>\n",
              "      <td>...</td>\n",
              "      <td>...</td>\n",
              "      <td>...</td>\n",
              "    </tr>\n",
              "    <tr>\n",
              "      <th>9995</th>\n",
              "      <td>21</td>\n",
              "      <td>قزوین</td>\n",
              "      <td>به گزارش خبرنگار  گروه استان های باشگاه خبرن...</td>\n",
              "      <td>2017-05-20</td>\n",
              "      <td>uploads/2017/05/20/2665703450.jpg</td>\n",
              "      <td>فریدون همتی استاندار قزوین با صدور پیامی خلق ح...</td>\n",
              "      <td>پیام تبریک استاندار برای خلق حماسه سیاسی</td>\n",
              "      <td>http://www.yjc.ir/fa/news/6095495/%D9%BE%DB%8C...</td>\n",
              "      <td>yjc</td>\n",
              "    </tr>\n",
              "    <tr>\n",
              "      <th>9996</th>\n",
              "      <td>21</td>\n",
              "      <td>اصفهان</td>\n",
              "      <td>به گزارش  گروه استان های باشگاه خبرنگاران جوا...</td>\n",
              "      <td>2017-05-20</td>\n",
              "      <td>uploads/2017/05/20/264666546.jpg</td>\n",
              "      <td>استاندار اصفهان با صدور پیامی با تقدیر از هموط...</td>\n",
              "      <td>تقدیر استاندار اصفهان از حضور پرشور مردم اصفها...</td>\n",
              "      <td>http://www.yjc.ir/fa/news/6095498/%D8%AA%D9%82...</td>\n",
              "      <td>yjc</td>\n",
              "    </tr>\n",
              "    <tr>\n",
              "      <th>9997</th>\n",
              "      <td>2</td>\n",
              "      <td>اجتماعی</td>\n",
              "      <td>سرهنگ کشواد بهروزی زاده در گفت و گو با خبرنگا...</td>\n",
              "      <td>2017-05-20</td>\n",
              "      <td>uploads/2017/05/20/1678039667.jpg</td>\n",
              "      <td>زاهدان - ایرنا - فرمانده پلیس راه شمال سیستان ...</td>\n",
              "      <td>بروز 2 فقره تصادف در سیستان و بلوچستان 4 کشته ...</td>\n",
              "      <td>http://www.irna.ir/fa/News/82538677/</td>\n",
              "      <td>irna</td>\n",
              "    </tr>\n",
              "    <tr>\n",
              "      <th>9998</th>\n",
              "      <td>256</td>\n",
              "      <td>کل اخبار</td>\n",
              "      <td>به گزارش خبرگزاری اهل‌بیت(ع) ـ ابنا ـ امیر کوی...</td>\n",
              "      <td>2017-05-20</td>\n",
              "      <td>False</td>\n",
              "      <td></td>\n",
              "      <td>پیام تبریک امیر کویت و رؤسای جمهوری سوریه و رو...</td>\n",
              "      <td>http://fa.abna24.com/news/%d8%a7%d8%ae%d8%a8%d...</td>\n",
              "      <td>fa</td>\n",
              "    </tr>\n",
              "    <tr>\n",
              "      <th>9999</th>\n",
              "      <td>14</td>\n",
              "      <td>سیاسی</td>\n",
              "      <td>پس از گذشت ۳۸ سال از انقلاب اسلامی ایران، تجر...</td>\n",
              "      <td>2017-05-20</td>\n",
              "      <td></td>\n",
              "      <td></td>\n",
              "      <td>مقایسه آرای دور دوم روسای جمهور ایران</td>\n",
              "      <td>http://www.asriran.com/fa/news/540053/%D9%85%D...</td>\n",
              "      <td>asriran</td>\n",
              "    </tr>\n",
              "  </tbody>\n",
              "</table>\n",
              "<p>10000 rows × 9 columns</p>\n",
              "</div>"
            ],
            "text/plain": [
              "     agency  ...   agency_name\n",
              "0        13  ...  khabaronline\n",
              "1         1  ...      farsnews\n",
              "2        36  ...          irna\n",
              "3        13  ...  khabaronline\n",
              "4        13  ...  khabaronline\n",
              "...     ...  ...           ...\n",
              "9995     21  ...           yjc\n",
              "9996     21  ...           yjc\n",
              "9997      2  ...          irna\n",
              "9998    256  ...            fa\n",
              "9999     14  ...       asriran\n",
              "\n",
              "[10000 rows x 9 columns]"
            ]
          },
          "metadata": {
            "tags": []
          },
          "execution_count": 22
        }
      ]
    },
    {
      "cell_type": "markdown",
      "metadata": {
        "id": "IKHK5YE0vYGB"
      },
      "source": [
        "now, we're looking to map the values from categories from numbers to string (using the csv file at hand)"
      ]
    },
    {
      "cell_type": "code",
      "metadata": {
        "colab": {
          "base_uri": "https://localhost:8080/"
        },
        "id": "SQbBKhnSvW3W",
        "outputId": "7b0cb271-6e81-4ab7-fc31-1c61f13f26f2"
      },
      "source": [
        "reader = csv.reader(open('/content/drive/MyDrive/datasets/categories.csv', 'r'))\n",
        "d = {}\n",
        "for row in reader:\n",
        "   pt1 = row[0].split(';')[0]\n",
        "   pt2 = row[0].split(';')[1].replace('\"',\"\")\n",
        "   d[pt1] = pt2 \n",
        "\n",
        "d"
      ],
      "execution_count": null,
      "outputs": [
        {
          "output_type": "execute_result",
          "data": {
            "text/plain": [
              "{'1': 'سیاسی',\n",
              " '10': 'بین الملل',\n",
              " '100': 'آستان قدس',\n",
              " '101': 'کل اخبار',\n",
              " '102': 'انتخابات',\n",
              " '103': 'ایثار و شهادت',\n",
              " '104': 'دولت',\n",
              " '105': 'صنعت',\n",
              " '106': 'شبکه های سیما',\n",
              " '107': 'روزنامه',\n",
              " '108': 'هیات های ورزشی',\n",
              " '109': 'اداره کل ورزش و جوانان',\n",
              " '11': 'جامعه',\n",
              " '110': 'ادارات شهرستانها',\n",
              " '111': 'اخبار اسلایدر',\n",
              " '112': 'دسته\\u200cبندی نشده',\n",
              " '113': 'معاونت ورزش بانوان',\n",
              " '114': 'ورزش قهرمانی',\n",
              " '115': 'ورزش همگانی',\n",
              " '116': 'وزارت ورزش و جوانان',\n",
              " '117': 'کشتی باچوخه',\n",
              " '118': 'پیشکسوتان',\n",
              " '119': 'نشست های خبری',\n",
              " '12': 'حوزه و دانشگاه',\n",
              " '120': 'فرهنگی و امور جوانان',\n",
              " '121': 'باشگاه های ورزشی',\n",
              " '122': 'محیط زیست',\n",
              " '123': 'کشاورزی',\n",
              " '124': 'پتروشیمی',\n",
              " '125': 'توسعه فردی',\n",
              " '126': 'یادداشت',\n",
              " '127': 'مناطق',\n",
              " '128': 'اخبار کوتاه',\n",
              " '129': 'بازار',\n",
              " '13': 'سلامت',\n",
              " '130': 'مقاله',\n",
              " '131': 'مدیریت دولتی',\n",
              " '14': 'بیداری اسلامی',\n",
              " '15': 'اجتماعی',\n",
              " '16': 'رسانه ها',\n",
              " '20': 'استانها',\n",
              " '21': 'تاریخ',\n",
              " '22': 'دانستنی ها',\n",
              " '23': 'اخبار ویژه',\n",
              " '24': 'فضای مجازی',\n",
              " '25': 'حماسه و مقاومت',\n",
              " '27': 'تحولات خاورمیانه',\n",
              " '28': 'فرهنگ و هنر',\n",
              " '29': 'علمی',\n",
              " '30': 'شهروند خبرنگار',\n",
              " '31': 'خراسان رضوی',\n",
              " '32': 'اخبار',\n",
              " '33': 'شهر',\n",
              " '34': 'گفتگو',\n",
              " '35': 'حقوق و قضا',\n",
              " '36': 'فعالیت های قرآنی',\n",
              " '37': 'سیاست و اقتصاد',\n",
              " '38': 'معارف',\n",
              " '39': 'روابط عمومی',\n",
              " '40': 'حوادث',\n",
              " '41': 'کتاب و نشر',\n",
              " '42': 'آموزش و پژوهش',\n",
              " '43': 'طنز',\n",
              " '44': 'استخدام',\n",
              " '45': 'دین و اندیشه',\n",
              " '46': 'چندرسانه ای',\n",
              " '47': 'گردشگری',\n",
              " '48': 'سرگرمی',\n",
              " '49': 'مهدویت',\n",
              " '5': 'ورزشی',\n",
              " '50': 'اخلاق و عرفان',\n",
              " '51': 'کسب و کار',\n",
              " '52': 'موفقیت',\n",
              " '53': 'بازاریابی اینترنتی',\n",
              " '54': 'چهره ها',\n",
              " '55': 'جالب و شگفت انگیز',\n",
              " '56': 'سینما',\n",
              " '57': 'برترین ها',\n",
              " '58': 'اینترنتی',\n",
              " '59': 'مجلس',\n",
              " '60': 'قیمت ها',\n",
              " '61': 'بدون دسته بندی',\n",
              " '62': 'آذربایجان غربی',\n",
              " '63': 'آذربایجان شرقی',\n",
              " '64': 'اصفهان',\n",
              " '65': 'اردبیل',\n",
              " '66': 'البرز',\n",
              " '67': 'ایلام',\n",
              " '68': 'بوشهر',\n",
              " '69': 'تهران',\n",
              " '7': 'فناوری اطلاعات',\n",
              " '70': 'چهارمحال و بختیاری',\n",
              " '71': 'خراسان جنوبی',\n",
              " '72': 'خراسان شمالی',\n",
              " '73': 'خوزستان',\n",
              " '74': 'زنجان',\n",
              " '75': 'سمنان',\n",
              " '76': 'سیستان و بلوچستان',\n",
              " '77': 'فارس',\n",
              " '78': 'قزوین',\n",
              " '79': 'قم',\n",
              " '8': 'فرهنگی',\n",
              " '80': 'کردستان',\n",
              " '81': 'کرمان',\n",
              " '82': 'کرمانشاه',\n",
              " '83': 'کهگیلویه و بویراحمد',\n",
              " '84': 'گلستان',\n",
              " '85': 'گیلان',\n",
              " '86': 'لرستان',\n",
              " '87': 'مازندران',\n",
              " '88': 'مرکزی',\n",
              " '89': 'هرمزگان',\n",
              " '9': 'اقتصادی',\n",
              " '90': 'همدان',\n",
              " '91': 'یزد',\n",
              " '92': 'مناطق آزاد',\n",
              " '93': 'گردشگری ایران',\n",
              " '94': 'شهرستان ها',\n",
              " '95': 'تبریز',\n",
              " '96': 'صفحه اول روزنامه',\n",
              " '97': 'رویدادها',\n",
              " '98': 'زاهدان',\n",
              " '99': 'مشهد'}"
            ]
          },
          "metadata": {
            "tags": []
          },
          "execution_count": 10
        }
      ]
    },
    {
      "cell_type": "code",
      "metadata": {
        "id": "cIBfKl3PzAsc"
      },
      "source": [
        "df['category'] = df['category'].map(d) "
      ],
      "execution_count": null,
      "outputs": []
    },
    {
      "cell_type": "code",
      "metadata": {
        "colab": {
          "base_uri": "https://localhost:8080/",
          "height": 487
        },
        "id": "3UH3sKhsq6Uq",
        "outputId": "92f18802-89af-41a3-dc3e-3a762004aaec"
      },
      "source": [
        "df"
      ],
      "execution_count": null,
      "outputs": [
        {
          "output_type": "execute_result",
          "data": {
            "text/html": [
              "<div>\n",
              "<style scoped>\n",
              "    .dataframe tbody tr th:only-of-type {\n",
              "        vertical-align: middle;\n",
              "    }\n",
              "\n",
              "    .dataframe tbody tr th {\n",
              "        vertical-align: top;\n",
              "    }\n",
              "\n",
              "    .dataframe thead th {\n",
              "        text-align: right;\n",
              "    }\n",
              "</style>\n",
              "<table border=\"1\" class=\"dataframe\">\n",
              "  <thead>\n",
              "    <tr style=\"text-align: right;\">\n",
              "      <th></th>\n",
              "      <th>agency</th>\n",
              "      <th>category</th>\n",
              "      <th>content</th>\n",
              "      <th>date_created</th>\n",
              "      <th>image</th>\n",
              "      <th>lead</th>\n",
              "      <th>title</th>\n",
              "      <th>url</th>\n",
              "    </tr>\n",
              "  </thead>\n",
              "  <tbody>\n",
              "    <tr>\n",
              "      <th>0</th>\n",
              "      <td>13</td>\n",
              "      <td>اجتماعی</td>\n",
              "      <td>فهیمه حسن‌میری: اگرچه در هیاهوی انتخابات ریاس...</td>\n",
              "      <td>2017-05-11</td>\n",
              "      <td>uploads/2017/05/11/1589793661.jpg</td>\n",
              "      <td>جامعه&amp;nbsp;&amp;gt;&amp;nbsp;شهری - میزگردی درباره عمل...</td>\n",
              "      <td>کارهای قالیباف در تهران نمایشی بود- شورای‌شهر ...</td>\n",
              "      <td>http://www.khabaronline.ir/(X(1)S(bud4wg3ebzbx...</td>\n",
              "    </tr>\n",
              "    <tr>\n",
              "      <th>1</th>\n",
              "      <td>1</td>\n",
              "      <td>استانها</td>\n",
              "      <td>به گزارش خبرگزاری فارس از قم، محمدعلی برزنونی ...</td>\n",
              "      <td>2017-05-11</td>\n",
              "      <td>uploads/2017/05/11/1713799235.jpg</td>\n",
              "      <td>مدیر مؤسسه علمی و پژوهشی ابن‌سینا در بوسنی گفت...</td>\n",
              "      <td>معنویت در عصر آخرالزمان احیا می‌شود</td>\n",
              "      <td>http://www.farsnews.com/13960221001386</td>\n",
              "    </tr>\n",
              "    <tr>\n",
              "      <th>2</th>\n",
              "      <td>36</td>\n",
              "      <td>ورزشی</td>\n",
              "      <td>به گزارش ایرنا، تیم های تراکتورسازی تبریز و...</td>\n",
              "      <td>2017-05-11</td>\n",
              "      <td>uploads/2017/05/11/2561366787.jpg</td>\n",
              "      <td>تهران - ایرنا - دیدار پایانی جام حذفی باشگاه ه...</td>\n",
              "      <td>فینال جام حذفی؛ وداع البرز حاجی پور از داوری-3...</td>\n",
              "      <td>http://www.irna.ir/fa/News/82525960/</td>\n",
              "    </tr>\n",
              "    <tr>\n",
              "      <th>3</th>\n",
              "      <td>13</td>\n",
              "      <td>فرهنگی</td>\n",
              "      <td>به گزارش خبرگزاری خبرآنلاین، جمشید مشایخی، هن...</td>\n",
              "      <td>2017-05-11</td>\n",
              "      <td>uploads/2017/05/11/109987278.jpg</td>\n",
              "      <td>فرهنگ&amp;nbsp;&amp;gt;&amp;nbsp;سینما - جمشید مشایخی، امر...</td>\n",
              "      <td>موضع انتخاباتی جمشید مشایخی روی تخت بیمارستان-...</td>\n",
              "      <td>http://www.khabaronline.ir/(X(1)S(nducmtisxqhw...</td>\n",
              "    </tr>\n",
              "    <tr>\n",
              "      <th>4</th>\n",
              "      <td>13</td>\n",
              "      <td>فناوری اطلاعات</td>\n",
              "      <td>به گزارش خبرآنلاین، پیش‌تر گفته شد سامسونگ و ...</td>\n",
              "      <td>2017-05-11</td>\n",
              "      <td>uploads/2017/05/11/3295317773.jpg</td>\n",
              "      <td>فناوری اطلاعات&amp;nbsp;&amp;gt;&amp;nbsp;سخت افزار - اسنپ...</td>\n",
              "      <td>مشخصات فنی پردازنده اسنپ دراگون ۸۴۵- رونمایی ا...</td>\n",
              "      <td>http://www.khabaronline.ir/(X(1)S(uupfbn0kvlth...</td>\n",
              "    </tr>\n",
              "    <tr>\n",
              "      <th>...</th>\n",
              "      <td>...</td>\n",
              "      <td>...</td>\n",
              "      <td>...</td>\n",
              "      <td>...</td>\n",
              "      <td>...</td>\n",
              "      <td>...</td>\n",
              "      <td>...</td>\n",
              "      <td>...</td>\n",
              "    </tr>\n",
              "    <tr>\n",
              "      <th>9995</th>\n",
              "      <td>21</td>\n",
              "      <td>قزوین</td>\n",
              "      <td>به گزارش خبرنگار  گروه استان های باشگاه خبرن...</td>\n",
              "      <td>2017-05-20</td>\n",
              "      <td>uploads/2017/05/20/2665703450.jpg</td>\n",
              "      <td>فریدون همتی استاندار قزوین با صدور پیامی خلق ح...</td>\n",
              "      <td>پیام تبریک استاندار برای خلق حماسه سیاسی</td>\n",
              "      <td>http://www.yjc.ir/fa/news/6095495/%D9%BE%DB%8C...</td>\n",
              "    </tr>\n",
              "    <tr>\n",
              "      <th>9996</th>\n",
              "      <td>21</td>\n",
              "      <td>اصفهان</td>\n",
              "      <td>به گزارش  گروه استان های باشگاه خبرنگاران جوا...</td>\n",
              "      <td>2017-05-20</td>\n",
              "      <td>uploads/2017/05/20/264666546.jpg</td>\n",
              "      <td>استاندار اصفهان با صدور پیامی با تقدیر از هموط...</td>\n",
              "      <td>تقدیر استاندار اصفهان از حضور پرشور مردم اصفها...</td>\n",
              "      <td>http://www.yjc.ir/fa/news/6095498/%D8%AA%D9%82...</td>\n",
              "    </tr>\n",
              "    <tr>\n",
              "      <th>9997</th>\n",
              "      <td>2</td>\n",
              "      <td>اجتماعی</td>\n",
              "      <td>سرهنگ کشواد بهروزی زاده در گفت و گو با خبرنگا...</td>\n",
              "      <td>2017-05-20</td>\n",
              "      <td>uploads/2017/05/20/1678039667.jpg</td>\n",
              "      <td>زاهدان - ایرنا - فرمانده پلیس راه شمال سیستان ...</td>\n",
              "      <td>بروز 2 فقره تصادف در سیستان و بلوچستان 4 کشته ...</td>\n",
              "      <td>http://www.irna.ir/fa/News/82538677/</td>\n",
              "    </tr>\n",
              "    <tr>\n",
              "      <th>9998</th>\n",
              "      <td>256</td>\n",
              "      <td>کل اخبار</td>\n",
              "      <td>به گزارش خبرگزاری اهل‌بیت(ع) ـ ابنا ـ امیر کوی...</td>\n",
              "      <td>2017-05-20</td>\n",
              "      <td>False</td>\n",
              "      <td></td>\n",
              "      <td>پیام تبریک امیر کویت و رؤسای جمهوری سوریه و رو...</td>\n",
              "      <td>http://fa.abna24.com/news/%d8%a7%d8%ae%d8%a8%d...</td>\n",
              "    </tr>\n",
              "    <tr>\n",
              "      <th>9999</th>\n",
              "      <td>14</td>\n",
              "      <td>سیاسی</td>\n",
              "      <td>پس از گذشت ۳۸ سال از انقلاب اسلامی ایران، تجر...</td>\n",
              "      <td>2017-05-20</td>\n",
              "      <td></td>\n",
              "      <td></td>\n",
              "      <td>مقایسه آرای دور دوم روسای جمهور ایران</td>\n",
              "      <td>http://www.asriran.com/fa/news/540053/%D9%85%D...</td>\n",
              "    </tr>\n",
              "  </tbody>\n",
              "</table>\n",
              "<p>10000 rows × 8 columns</p>\n",
              "</div>"
            ],
            "text/plain": [
              "     agency  ...                                                url\n",
              "0        13  ...  http://www.khabaronline.ir/(X(1)S(bud4wg3ebzbx...\n",
              "1         1  ...             http://www.farsnews.com/13960221001386\n",
              "2        36  ...               http://www.irna.ir/fa/News/82525960/\n",
              "3        13  ...  http://www.khabaronline.ir/(X(1)S(nducmtisxqhw...\n",
              "4        13  ...  http://www.khabaronline.ir/(X(1)S(uupfbn0kvlth...\n",
              "...     ...  ...                                                ...\n",
              "9995     21  ...  http://www.yjc.ir/fa/news/6095495/%D9%BE%DB%8C...\n",
              "9996     21  ...  http://www.yjc.ir/fa/news/6095498/%D8%AA%D9%82...\n",
              "9997      2  ...               http://www.irna.ir/fa/News/82538677/\n",
              "9998    256  ...  http://fa.abna24.com/news/%d8%a7%d8%ae%d8%a8%d...\n",
              "9999     14  ...  http://www.asriran.com/fa/news/540053/%D9%85%D...\n",
              "\n",
              "[10000 rows x 8 columns]"
            ]
          },
          "metadata": {
            "tags": []
          },
          "execution_count": 64
        }
      ]
    },
    {
      "cell_type": "code",
      "metadata": {
        "colab": {
          "base_uri": "https://localhost:8080/"
        },
        "id": "TRWWdnc5ra0G",
        "outputId": "c959a194-09c7-4733-da15-aff189a8144e"
      },
      "source": [
        "df.isna().sum()"
      ],
      "execution_count": null,
      "outputs": [
        {
          "output_type": "execute_result",
          "data": {
            "text/plain": [
              "agency          0\n",
              "category        0\n",
              "content         0\n",
              "date_created    0\n",
              "image           0\n",
              "lead            0\n",
              "title           0\n",
              "url             0\n",
              "dtype: int64"
            ]
          },
          "metadata": {
            "tags": []
          },
          "execution_count": 65
        }
      ]
    },
    {
      "cell_type": "markdown",
      "metadata": {
        "id": "-37BlBmK6ljT"
      },
      "source": [
        "Note that for the three parts below, we are using the first ten thousand rows of our data"
      ]
    },
    {
      "cell_type": "markdown",
      "metadata": {
        "id": "HrcPHdvO22hN"
      },
      "source": [
        "**Part 1 -- Plotting most frequent categories**"
      ]
    },
    {
      "cell_type": "code",
      "metadata": {
        "colab": {
          "base_uri": "https://localhost:8080/",
          "height": 339
        },
        "id": "5hUB1tpurj4F",
        "outputId": "4a5576d7-e96b-4a91-a777-16c5f94323d5"
      },
      "source": [
        "df['category'].apply(lambda x: get_display(arabic_reshaper.reshape(x))).value_counts()[0:10].plot(kind='bar') #the arabic reshaping on the column is to show the persian names correclty"
      ],
      "execution_count": null,
      "outputs": [
        {
          "output_type": "execute_result",
          "data": {
            "text/plain": [
              "<matplotlib.axes._subplots.AxesSubplot at 0x7f11a1f05310>"
            ]
          },
          "metadata": {
            "tags": []
          },
          "execution_count": 12
        },
        {
          "output_type": "display_data",
          "data": {
            "image/png": "[encoded data removed]",
            "text/plain": [
              "<Figure size 432x288 with 1 Axes>"
            ]
          },
          "metadata": {
            "tags": [],
            "needs_background": "light"
          }
        }
      ]
    },
    {
      "cell_type": "markdown",
      "metadata": {
        "id": "qZF3qV-f7fRd"
      },
      "source": [
        "**Part 2 -- Plotting count of news articles by date**"
      ]
    },
    {
      "cell_type": "code",
      "metadata": {
        "colab": {
          "base_uri": "https://localhost:8080/",
          "height": 330
        },
        "id": "Idm4-X3WzPpD",
        "outputId": "a82f9805-de78-412f-fb25-47131c2ec5b2"
      },
      "source": [
        "df['date_created'].value_counts().sort_index(ascending=True).plot(kind='bar') #the sort_index(ascending=True) makes sure to sort by name (which in our case, in order of date increasing)"
      ],
      "execution_count": null,
      "outputs": [
        {
          "output_type": "execute_result",
          "data": {
            "text/plain": [
              "<matplotlib.axes._subplots.AxesSubplot at 0x7f118832b7d0>"
            ]
          },
          "metadata": {
            "tags": []
          },
          "execution_count": 23
        },
        {
          "output_type": "display_data",
          "data": {
            "image/png": "[encoded data removed]",
            "text/plain": [
              "<Figure size 432x288 with 1 Axes>"
            ]
          },
          "metadata": {
            "tags": [],
            "needs_background": "light"
          }
        }
      ]
    },
    {
      "cell_type": "markdown",
      "metadata": {
        "id": "Ajtl4Mtx7rXA"
      },
      "source": [
        "**Part 3 -- Plotting count of news articles by date**"
      ]
    },
    {
      "cell_type": "code",
      "metadata": {
        "id": "IOmhR9j188ED"
      },
      "source": [
        "def domain_name(url):\n",
        "    return url.split(\"www.\")[-1].split(\"//\")[-1].split(\".\")[0]"
      ],
      "execution_count": null,
      "outputs": []
    },
    {
      "cell_type": "code",
      "metadata": {
        "id": "2qNcCqNeE7ar"
      },
      "source": [
        "df['agency_name'] = df['url'].apply(lambda x: domain_name(x))"
      ],
      "execution_count": null,
      "outputs": []
    },
    {
      "cell_type": "code",
      "metadata": {
        "colab": {
          "base_uri": "https://localhost:8080/"
        },
        "id": "tMBOFcZ0FggA",
        "outputId": "989d6d74-a32a-4732-8cb1-e34363314b40"
      },
      "source": [
        "print(df['agency_name'].unique())\n",
        "print(f\"\\n\\n number of unique domain names: {df['agency_name'].nunique()}\")"
      ],
      "execution_count": null,
      "outputs": [
        {
          "output_type": "stream",
          "text": [
            "['khabaronline' 'farsnews' 'irna' 'qudsonline' 'qumpress' 'mizanonline'\n",
            " 'asre-eghtesad' 'iribnews' 'mehrnews' 'markazi' 'isna' 'lorestan' 'qom'\n",
            " 'ilna' 'asriran' 'iqna' 'tabnakmazani' 'tasnimnews' 'farhangnews' 'yjc'\n",
            " 'bultannews' 'news' 'sobheqazvin' 'tabasomnews' 'snn' 'zanjan' 'gilan'\n",
            " 'qomnews' 'hamshahrionline' 'tabriz' 'javanonline' 'parsine' 'fa'\n",
            " 'esfahanshargh' 'tabnak' 'khorasannews' 'hidoctor' 'donya-e-eqtesad'\n",
            " 'boeinmiandasht' 'jamnews' 'isaar' 'borujerdema' 'bartarinha'\n",
            " 'khabarnema' 'ilamnews' 'bornanews' 'khalijefars' 'tabnakalborz'\n",
            " 'tabnak4mahal' 'tabnakkermanshah' 'golestan' 'tabnakjazireh' 'qomna'\n",
            " 'ibna' 'sabalaneh' 'shana' 'rajanews' 'tabnakazargharbi' 'tabnakzanjan'\n",
            " 'tabnakyazd' 'tabnakrazavi' 'tabnakhamadan' 'tabasnews' 'abnews'\n",
            " 'shahrekord' 'khorasan' 'isfahan' 'tabnaksemnan' 'eghtesadonline'\n",
            " 'aftabnews' 'kurdistan' 'nakhostnews' 'jamejamonline' 'tabnakkohkiluye'\n",
            " 'alborz' 'qazvin' 'tabnakbushehr' 'tabnakgilan' 'sahebnews' 'shara'\n",
            " 'ardabil' 'vatanemrooz' 'fararu' 'sistanbaloochestan' 'khorasanrazavi'\n",
            " 'hourgan' 'tabnakardebil' 'tabnakkerman' 'rivasjonoob' 'birjand' 'ilam'\n",
            " 'shora' 'oxinpress' 'orumiyeh' 'bojnourd' 'kerman' 'borkhar' 'ashkhane'\n",
            " 'khorasnshomali' 'khorasanvarzeshi' 'tabnakghazvin' 'avayerodkof'\n",
            " 'tabnakqom' 'atraknews' 'shahraraonline' 'tabnaktehran' 'gornanews'\n",
            " 'khorasanjonobi' 'nasrnews' 'khouzestan' 'tabnakesfahan' 'avayerasht'\n",
            " 'fars' 'tabnaklorestan' 'tabnakazarsharghi' 'polimali' 'akharinkhabar'\n",
            " 'tabnakfars' 'seratnews' 'yazd' 'rasanews' 'tabnakilam' 'tabnakgolestan'\n",
            " 'icana' 'hafeznews' 'armantabriz' 'hamedan' 'barghnews' 'nabzema' 'anaj'\n",
            " 'sobhtoos' 'kashan' 'tabnaksistanbaluchestan' 'yasouj' 'semnan'\n",
            " 'mashhadtribune' 'boushehr24' 'haje' 'asrtabriz' 'aranbidgol'\n",
            " 'mazandaran' 'tabnakmarkazi' 'tabnakskhorasan' 'tabnaknkhorasan' 'lenjan'\n",
            " 'asre-iranian' 'mashhadomran' 'sazehnews' 'albf' 'golpayegan'\n",
            " 'najafabadnews' 'fereydan' 'mashhadpayam' 'tabnakkhozestan' 'sobhmashhad'\n",
            " 'khansar' 'tabnakkordestan' 'armaghannews' 'salamdelfan' 'hezarmasooleh'\n",
            " 'mobarakeh' 'sabzevarnews' 'tabnakbato']\n",
            "\n",
            "\n",
            " number of unique domain names: 163\n"
          ],
          "name": "stdout"
        }
      ]
    },
    {
      "cell_type": "code",
      "metadata": {
        "colab": {
          "base_uri": "https://localhost:8080/",
          "height": 419
        },
        "id": "ldhRffrTGlXK",
        "outputId": "b0b7ba17-bf74-4279-8a02-2c8229949990"
      },
      "source": [
        "df_agency = df['agency_name'].value_counts().to_frame(name='count').reset_index().sort_values('index').reset_index(drop=True)\n",
        "df_agency"
      ],
      "execution_count": null,
      "outputs": [
        {
          "output_type": "execute_result",
          "data": {
            "text/html": [
              "<div>\n",
              "<style scoped>\n",
              "    .dataframe tbody tr th:only-of-type {\n",
              "        vertical-align: middle;\n",
              "    }\n",
              "\n",
              "    .dataframe tbody tr th {\n",
              "        vertical-align: top;\n",
              "    }\n",
              "\n",
              "    .dataframe thead th {\n",
              "        text-align: right;\n",
              "    }\n",
              "</style>\n",
              "<table border=\"1\" class=\"dataframe\">\n",
              "  <thead>\n",
              "    <tr style=\"text-align: right;\">\n",
              "      <th></th>\n",
              "      <th>index</th>\n",
              "      <th>count</th>\n",
              "    </tr>\n",
              "  </thead>\n",
              "  <tbody>\n",
              "    <tr>\n",
              "      <th>0</th>\n",
              "      <td>abnews</td>\n",
              "      <td>3</td>\n",
              "    </tr>\n",
              "    <tr>\n",
              "      <th>1</th>\n",
              "      <td>aftabnews</td>\n",
              "      <td>35</td>\n",
              "    </tr>\n",
              "    <tr>\n",
              "      <th>2</th>\n",
              "      <td>akharinkhabar</td>\n",
              "      <td>578</td>\n",
              "    </tr>\n",
              "    <tr>\n",
              "      <th>3</th>\n",
              "      <td>albf</td>\n",
              "      <td>1</td>\n",
              "    </tr>\n",
              "    <tr>\n",
              "      <th>4</th>\n",
              "      <td>alborz</td>\n",
              "      <td>5</td>\n",
              "    </tr>\n",
              "    <tr>\n",
              "      <th>...</th>\n",
              "      <td>...</td>\n",
              "      <td>...</td>\n",
              "    </tr>\n",
              "    <tr>\n",
              "      <th>158</th>\n",
              "      <td>vatanemrooz</td>\n",
              "      <td>46</td>\n",
              "    </tr>\n",
              "    <tr>\n",
              "      <th>159</th>\n",
              "      <td>yasouj</td>\n",
              "      <td>3</td>\n",
              "    </tr>\n",
              "    <tr>\n",
              "      <th>160</th>\n",
              "      <td>yazd</td>\n",
              "      <td>11</td>\n",
              "    </tr>\n",
              "    <tr>\n",
              "      <th>161</th>\n",
              "      <td>yjc</td>\n",
              "      <td>993</td>\n",
              "    </tr>\n",
              "    <tr>\n",
              "      <th>162</th>\n",
              "      <td>zanjan</td>\n",
              "      <td>18</td>\n",
              "    </tr>\n",
              "  </tbody>\n",
              "</table>\n",
              "<p>163 rows × 2 columns</p>\n",
              "</div>"
            ],
            "text/plain": [
              "             index  count\n",
              "0           abnews      3\n",
              "1        aftabnews     35\n",
              "2    akharinkhabar    578\n",
              "3             albf      1\n",
              "4           alborz      5\n",
              "..             ...    ...\n",
              "158    vatanemrooz     46\n",
              "159         yasouj      3\n",
              "160           yazd     11\n",
              "161            yjc    993\n",
              "162         zanjan     18\n",
              "\n",
              "[163 rows x 2 columns]"
            ]
          },
          "metadata": {
            "tags": []
          },
          "execution_count": 30
        }
      ]
    },
    {
      "cell_type": "code",
      "metadata": {
        "id": "nrF8Lc93TiTe"
      },
      "source": [
        "x = np.arange(1, df_agency.shape[0]+1)\n",
        "y = df_agency['count'].to_numpy()"
      ],
      "execution_count": null,
      "outputs": []
    },
    {
      "cell_type": "code",
      "metadata": {
        "colab": {
          "base_uri": "https://localhost:8080/",
          "height": 295
        },
        "id": "WzEsab-NX5k_",
        "outputId": "b63bbfa0-01ee-40a7-d34b-751554e48743"
      },
      "source": [
        "plt.title(\"Agency(alphabetically sorted) - count ratio\")\n",
        "plt.xlabel(\"agency\")\n",
        "plt.ylabel(\"count\")\n",
        "plt.plot(x, y, color =\"green\")\n",
        "plt.show()"
      ],
      "execution_count": null,
      "outputs": [
        {
          "output_type": "display_data",
          "data": {
            "image/png": "[encoded data removed]",
            "text/plain": [
              "<Figure size 432x288 with 1 Axes>"
            ]
          },
          "metadata": {
            "tags": [],
            "needs_background": "light"
          }
        }
      ]
    }
  ]
}