{
  "nbformat": 4,
  "nbformat_minor": 0,
  "metadata": {
    "colab": {
      "name": "AHD_HW2.ipynb",
      "provenance": [],
      "collapsed_sections": []
    },
    "kernelspec": {
      "name": "python3",
      "display_name": "Python 3"
    },
    "language_info": {
      "name": "python"
    }
  },
  "cells": [
    {
      "cell_type": "code",
      "metadata": {
        "id": "eLHjObsbqy-m"
      },
      "source": [
        "import pandas as pd\n",
        "import json\n",
        "import csv\n",
        "import matplotlib.pyplot as plt\n",
        "import string\n",
        "import unicodedata as ud\n",
        "import nltk\n",
        "from collections import Counter\n",
        "from nltk import ngrams\n"
      ],
      "execution_count": null,
      "outputs": []
    },
    {
      "cell_type": "code",
      "metadata": {
        "colab": {
          "base_uri": "https://localhost:8080/"
        },
        "id": "q2JBiK4ClHa4",
        "outputId": "d1866008-3656-48c7-87a9-52b19dc424f9"
      },
      "source": [
        "!pip install hazm\n",
        "!pip install python-docx \n",
        "\n",
        "from docx import Document\n",
        "from hazm import *"
      ],
      "execution_count": null,
      "outputs": [
        {
          "output_type": "stream",
          "text": [
            "Requirement already satisfied: hazm in /usr/local/lib/python3.7/dist-packages (0.7.0)\n",
            "Requirement already satisfied: libwapiti>=0.2.1 in /usr/local/lib/python3.7/dist-packages (from hazm) (0.2.1)\n",
            "Requirement already satisfied: nltk==3.3 in /usr/local/lib/python3.7/dist-packages (from hazm) (3.3)\n",
            "Requirement already satisfied: six in /usr/local/lib/python3.7/dist-packages (from nltk==3.3->hazm) (1.15.0)\n",
            "Requirement already satisfied: python-docx in /usr/local/lib/python3.7/dist-packages (0.8.11)\n",
            "Requirement already satisfied: lxml>=2.3.2 in /usr/local/lib/python3.7/dist-packages (from python-docx) (4.2.6)\n"
          ],
          "name": "stdout"
        }
      ]
    },
    {
      "cell_type": "code",
      "metadata": {
        "colab": {
          "base_uri": "https://localhost:8080/"
        },
        "id": "HKA_hmpAonmg",
        "outputId": "7cb79e62-6a1a-44d7-9490-2981993c21df"
      },
      "source": [
        "from google.colab import drive\n",
        "drive.mount('/content/drive')"
      ],
      "execution_count": null,
      "outputs": [
        {
          "output_type": "stream",
          "text": [
            "Drive already mounted at /content/drive; to attempt to forcibly remount, call drive.mount(\"/content/drive\", force_remount=True).\n"
          ],
          "name": "stdout"
        }
      ]
    },
    {
      "cell_type": "code",
      "metadata": {
        "colab": {
          "base_uri": "https://localhost:8080/"
        },
        "id": "NXYN5RDHpCbR",
        "outputId": "f56e8ece-b627-4b78-885b-f2c757d3a806"
      },
      "source": [
        "!unrar x \"/content/drive/MyDrive/ferdowsi-data.rar\""
      ],
      "execution_count": null,
      "outputs": [
        {
          "output_type": "stream",
          "text": [
            "\n",
            "UNRAR 5.50 freeware      Copyright (c) 1993-2017 Alexander Roshal\n",
            "\n",
            "\n",
            "Extracting from /content/drive/MyDrive/ferdowsi-data.rar\n",
            "\n",
            "Creating    Spad                                                      OK\n",
            "Extracting  Spad/ferdowsi-data.txt                                       \b\b\b\b  0%\b\b\b\b  1%\b\b\b\b  2%\b\b\b\b  3%\b\b\b\b  4%\b\b\b\b  5%\b\b\b\b  6%\b\b\b\b  7%\b\b\b\b  8%\b\b\b\b  9%\b\b\b\b 10%\b\b\b\b 11%\b\b\b\b 12%\b\b\b\b 13%\b\b\b\b 14%\b\b\b\b 15%\b\b\b\b 16%\b\b\b\b 17%\b\b\b\b 18%\b\b\b\b 19%\b\b\b\b 20%\b\b\b\b 21%\b\b\b\b 22%\b\b\b\b 23%\b\b\b\b 24%\b\b\b\b 25%\b\b\b\b 26%\b\b\b\b 27%\b\b\b\b 28%\b\b\b\b 29%\b\b\b\b 30%\b\b\b\b 31%\b\b\b\b 32%\b\b\b\b 33%\b\b\b\b 34%\b\b\b\b 35%\b\b\b\b 36%\b\b\b\b 37%\b\b\b\b 38%\b\b\b\b 39%\b\b\b\b 40%\b\b\b\b 41%\b\b\b\b 42%\b\b\b\b 43%\b\b\b\b 44%\b\b\b\b 45%\b\b\b\b 46%\b\b\b\b 47%\b\b\b\b 48%\b\b\b\b 49%\b\b\b\b 50%\b\b\b\b 51%\b\b\b\b 52%\b\b\b\b 53%\b\b\b\b 54%\b\b\b\b 55%\b\b\b\b 56%\b\b\b\b 57%\b\b\b\b 58%\b\b\b\b 59%\b\b\b\b 60%\b\b\b\b 61%\b\b\b\b 62%\b\b\b\b 63%\b\b\b\b 64%\b\b\b\b 65%\b\b\b\b 66%\b\b\b\b 67%\b\b\b\b 68%\b\b\b\b 69%\b\b\b\b 70%\b\b\b\b 71%\b\b\b\b 72%\b\b\b\b 73%\b\b\b\b 74%\b\b\b\b 75%\b\b\b\b 76%\b\b\b\b 77%\b\b\b\b 78%\b\b\b\b 79%\b\b\b\b 80%\b\b\b\b 81%\b\b\b\b 82%\b\b\b\b 83%\b\b\b\b 84%\b\b\b\b 85%\b\b\b\b 86%\b\b\b\b 87%\b\b\b\b 88%\b\b\b\b 89%\b\b\b\b 90%\b\b\b\b 91%\b\b\b\b 92%\b\b\b\b 93%\b\b\b\b 94%\b\b\b\b 95%\b\b\b\b 96%\b\b\b\b 97%\b\b\b\b 98%\b\b\b\b 99%\b\b\b\b\b  OK \n",
            "All OK\n"
          ],
          "name": "stdout"
        }
      ]
    },
    {
      "cell_type": "code",
      "metadata": {
        "id": "xKTrCNecqv45"
      },
      "source": [
        "file = open('/content/Spad/ferdowsi-data.txt', 'r')\n",
        "df = pd.DataFrame()\n",
        "\n",
        "#persian_punc = frozenset(string.punctuation + \"،؟\")\n",
        "#bool(set(\"test?\") & test_characters)\n",
        "\n",
        "\n",
        "\n",
        "\n",
        "NUM_ENTRIES = 1000 #number of entries to fetch \n"
      ],
      "execution_count": null,
      "outputs": []
    },
    {
      "cell_type": "code",
      "metadata": {
        "id": "Mszbvy0bq_q0"
      },
      "source": [
        "cnt = 0\n",
        "cur_entry = ''\n",
        "\n",
        "for _ in range(NUM_ENTRIES*16):\n",
        "    cnt += 1\n",
        "    line = file.readline()\n",
        "    cur_entry += line\n",
        "    try:\n",
        "        if cnt % 16 == 0:\n",
        "            row = json.loads(cur_entry)\n",
        "            row = row['_source']\n",
        "           #print(row)\n",
        "            df = df.append(row, ignore_index=True)\n",
        "            cur_entry = ''\n",
        "    except:\n",
        "        pass\n",
        "\n",
        "file.close()\n"
      ],
      "execution_count": null,
      "outputs": []
    },
    {
      "cell_type": "code",
      "metadata": {
        "colab": {
          "base_uri": "https://localhost:8080/",
          "height": 635
        },
        "id": "FMGSMukUrLMo",
        "outputId": "b44aa1d6-4582-4dc7-e630-ad076af7791d"
      },
      "source": [
        "df"
      ],
      "execution_count": null,
      "outputs": [
        {
          "output_type": "execute_result",
          "data": {
            "text/html": [
              "<div>\n",
              "<style scoped>\n",
              "    .dataframe tbody tr th:only-of-type {\n",
              "        vertical-align: middle;\n",
              "    }\n",
              "\n",
              "    .dataframe tbody tr th {\n",
              "        vertical-align: top;\n",
              "    }\n",
              "\n",
              "    .dataframe thead th {\n",
              "        text-align: right;\n",
              "    }\n",
              "</style>\n",
              "<table border=\"1\" class=\"dataframe\">\n",
              "  <thead>\n",
              "    <tr style=\"text-align: right;\">\n",
              "      <th></th>\n",
              "      <th>agency</th>\n",
              "      <th>category</th>\n",
              "      <th>content</th>\n",
              "      <th>date_created</th>\n",
              "      <th>image</th>\n",
              "      <th>lead</th>\n",
              "      <th>title</th>\n",
              "      <th>url</th>\n",
              "    </tr>\n",
              "  </thead>\n",
              "  <tbody>\n",
              "    <tr>\n",
              "      <th>0</th>\n",
              "      <td>13</td>\n",
              "      <td>15</td>\n",
              "      <td>فهیمه حسن‌میری: اگرچه در هیاهوی انتخابات ریاس...</td>\n",
              "      <td>1.494518e+09</td>\n",
              "      <td>uploads/2017/05/11/1589793661.jpg</td>\n",
              "      <td>جامعه&amp;nbsp;&amp;gt;&amp;nbsp;شهری - میزگردی درباره عمل...</td>\n",
              "      <td>کارهای قالیباف در تهران نمایشی بود- شورای‌شهر ...</td>\n",
              "      <td>http://www.khabaronline.ir/(X(1)S(bud4wg3ebzbx...</td>\n",
              "    </tr>\n",
              "    <tr>\n",
              "      <th>1</th>\n",
              "      <td>1</td>\n",
              "      <td>20</td>\n",
              "      <td>به گزارش خبرگزاری فارس از قم، محمدعلی برزنونی ...</td>\n",
              "      <td>1.494522e+09</td>\n",
              "      <td>uploads/2017/05/11/1713799235.jpg</td>\n",
              "      <td>مدیر مؤسسه علمی و پژوهشی ابن‌سینا در بوسنی گفت...</td>\n",
              "      <td>معنویت در عصر آخرالزمان احیا می‌شود</td>\n",
              "      <td>http://www.farsnews.com/13960221001386</td>\n",
              "    </tr>\n",
              "    <tr>\n",
              "      <th>2</th>\n",
              "      <td>36</td>\n",
              "      <td>5</td>\n",
              "      <td>به گزارش ایرنا، تیم های تراکتورسازی تبریز و...</td>\n",
              "      <td>1.494522e+09</td>\n",
              "      <td>uploads/2017/05/11/2561366787.jpg</td>\n",
              "      <td>تهران - ایرنا - دیدار پایانی جام حذفی باشگاه ه...</td>\n",
              "      <td>فینال جام حذفی؛ وداع البرز حاجی پور از داوری-3...</td>\n",
              "      <td>http://www.irna.ir/fa/News/82525960/</td>\n",
              "    </tr>\n",
              "    <tr>\n",
              "      <th>3</th>\n",
              "      <td>13</td>\n",
              "      <td>8</td>\n",
              "      <td>به گزارش خبرگزاری خبرآنلاین، جمشید مشایخی، هن...</td>\n",
              "      <td>1.494522e+09</td>\n",
              "      <td>uploads/2017/05/11/109987278.jpg</td>\n",
              "      <td>فرهنگ&amp;nbsp;&amp;gt;&amp;nbsp;سینما - جمشید مشایخی، امر...</td>\n",
              "      <td>موضع انتخاباتی جمشید مشایخی روی تخت بیمارستان-...</td>\n",
              "      <td>http://www.khabaronline.ir/(X(1)S(nducmtisxqhw...</td>\n",
              "    </tr>\n",
              "    <tr>\n",
              "      <th>4</th>\n",
              "      <td>13</td>\n",
              "      <td>7</td>\n",
              "      <td>به گزارش خبرآنلاین، پیش‌تر گفته شد سامسونگ و ...</td>\n",
              "      <td>1.494522e+09</td>\n",
              "      <td>uploads/2017/05/11/3295317773.jpg</td>\n",
              "      <td>فناوری اطلاعات&amp;nbsp;&amp;gt;&amp;nbsp;سخت افزار - اسنپ...</td>\n",
              "      <td>مشخصات فنی پردازنده اسنپ دراگون ۸۴۵- رونمایی ا...</td>\n",
              "      <td>http://www.khabaronline.ir/(X(1)S(uupfbn0kvlth...</td>\n",
              "    </tr>\n",
              "    <tr>\n",
              "      <th>...</th>\n",
              "      <td>...</td>\n",
              "      <td>...</td>\n",
              "      <td>...</td>\n",
              "      <td>...</td>\n",
              "      <td>...</td>\n",
              "      <td>...</td>\n",
              "      <td>...</td>\n",
              "      <td>...</td>\n",
              "    </tr>\n",
              "    <tr>\n",
              "      <th>995</th>\n",
              "      <td>2</td>\n",
              "      <td>15</td>\n",
              "      <td>سردار بخشعلی کامرانی صالح روز شنبه درگفت و گو...</td>\n",
              "      <td>1.494660e+09</td>\n",
              "      <td>uploads/2017/05/13/4034459417.jpg</td>\n",
              "      <td>کرج -ایرنا- فرمانده انتظامی استان البرز گفت که...</td>\n",
              "      <td>مبارزه با کالای قاچاق به عزم ملی و مشارکت گستر...</td>\n",
              "      <td>http://www.irna.ir/fa/News/82527216/</td>\n",
              "    </tr>\n",
              "    <tr>\n",
              "      <th>996</th>\n",
              "      <td>33</td>\n",
              "      <td>31</td>\n",
              "      <td>به گزارش خبرگزاری صداوسیما، مرکز خراسان رضوی...</td>\n",
              "      <td>1.494660e+09</td>\n",
              "      <td>False</td>\n",
              "      <td>سفیر استرالیا در ایران گفت: شاهنامه فردوسی از ...</td>\n",
              "      <td>شاهنامه فردوسی نماینده یکی از بزرگترین تمدن ها...</td>\n",
              "      <td>http://www.iribnews.ir/fa/news/1630788/%D8%B4%...</td>\n",
              "    </tr>\n",
              "    <tr>\n",
              "      <th>997</th>\n",
              "      <td>36</td>\n",
              "      <td>5</td>\n",
              "      <td>نسیمی شاد در رشته 50 متر قورباغه با ثبت زما...</td>\n",
              "      <td>1.494661e+09</td>\n",
              "      <td>uploads/2017/05/13/2941477288.jpg</td>\n",
              "      <td>باکو - ایرنا - «آریا نسیمی شاد» شناگر ایرانی د...</td>\n",
              "      <td>بازی های کشورهای اسلامی- نمایندگان شنا، کاراته...</td>\n",
              "      <td>http://www.irna.ir/fa/News/82527314/</td>\n",
              "    </tr>\n",
              "    <tr>\n",
              "      <th>998</th>\n",
              "      <td>33</td>\n",
              "      <td>1</td>\n",
              "      <td>به گزارش خبرنگار خبرگزاری صدا و سیما، نمایندگ...</td>\n",
              "      <td>1.494661e+09</td>\n",
              "      <td>False</td>\n",
              "      <td>جلسه هماهنگی شورای نگهبان با نمایندگان نامزدها...</td>\n",
              "      <td>آغاز جلسه هماهنگی شورای نگهبان با نمایندگان نا...</td>\n",
              "      <td>http://www.iribnews.ir/fa/news/1630875/%D8%A2%...</td>\n",
              "    </tr>\n",
              "    <tr>\n",
              "      <th>999</th>\n",
              "      <td>34</td>\n",
              "      <td>15</td>\n",
              "      <td>به گزارش گروه جامعه خبرگزاری میزان،سردار سعید...</td>\n",
              "      <td>1.494661e+09</td>\n",
              "      <td></td>\n",
              "      <td>خبرگزاری میزان- فرمانده مرزبانی استان سیستان و...</td>\n",
              "      <td>کشف یک تن و 925 کیلو گرم انواع مواد مخدر در مرز</td>\n",
              "      <td>http://www.mizanonline.ir/fa/news/308404/%DA%A...</td>\n",
              "    </tr>\n",
              "  </tbody>\n",
              "</table>\n",
              "<p>1000 rows × 8 columns</p>\n",
              "</div>"
            ],
            "text/plain": [
              "    agency  ...                                                url\n",
              "0       13  ...  http://www.khabaronline.ir/(X(1)S(bud4wg3ebzbx...\n",
              "1        1  ...             http://www.farsnews.com/13960221001386\n",
              "2       36  ...               http://www.irna.ir/fa/News/82525960/\n",
              "3       13  ...  http://www.khabaronline.ir/(X(1)S(nducmtisxqhw...\n",
              "4       13  ...  http://www.khabaronline.ir/(X(1)S(uupfbn0kvlth...\n",
              "..     ...  ...                                                ...\n",
              "995      2  ...               http://www.irna.ir/fa/News/82527216/\n",
              "996     33  ...  http://www.iribnews.ir/fa/news/1630788/%D8%B4%...\n",
              "997     36  ...               http://www.irna.ir/fa/News/82527314/\n",
              "998     33  ...  http://www.iribnews.ir/fa/news/1630875/%D8%A2%...\n",
              "999     34  ...  http://www.mizanonline.ir/fa/news/308404/%DA%A...\n",
              "\n",
              "[1000 rows x 8 columns]"
            ]
          },
          "metadata": {
            "tags": []
          },
          "execution_count": 165
        }
      ]
    },
    {
      "cell_type": "code",
      "metadata": {
        "id": "DACE6ChmnTW1"
      },
      "source": [
        "stemmer = Stemmer()\n",
        "normalizer = Normalizer()\n",
        "lemmatizer = Lemmatizer()"
      ],
      "execution_count": null,
      "outputs": []
    },
    {
      "cell_type": "markdown",
      "metadata": {
        "id": "vWKeyQNXKRD_"
      },
      "source": [
        "**Part 1 -- Normalizing & finding most frequent words & bigrams (including stop words)**"
      ]
    },
    {
      "cell_type": "code",
      "metadata": {
        "id": "6DKaLtcsvLZU"
      },
      "source": [
        "df['content'] = df['content'].apply(lambda x: normalizer.normalize(x)) #making sure half spaces correct"
      ],
      "execution_count": null,
      "outputs": []
    },
    {
      "cell_type": "code",
      "metadata": {
        "id": "xj0pKdOvxXAC"
      },
      "source": [
        "def lemmatize_sentence(sentence):\n",
        "  s = ''\n",
        "  for word in word_tokenize(sentence):\n",
        "    #s += stemmer.stem(word)+ \" \"\n",
        "    try: \n",
        "      s +=  lemmatizer.lemmatize(word).split(\"#\")[1]+ \" \"\n",
        "    except: \n",
        "      s +=  lemmatizer.lemmatize(word).split(\"#\")[0]+ \" \"\n",
        "  return s\n"
      ],
      "execution_count": null,
      "outputs": []
    },
    {
      "cell_type": "code",
      "metadata": {
        "id": "_d6PDuba56Fr"
      },
      "source": [
        "'''before we lemmatize each of the sentences, lets remove their puncuation'''\n",
        "\n",
        "punc_table = str.maketrans(dict.fromkeys(string.punctuation + \"؟،«»؛\"))\n",
        "df['content_normalized'] = df['content'].apply(lambda x: x.translate(punc_table))\n",
        "\n",
        "\n",
        "\n",
        "'''Now for the lemmatizing!'''\n",
        "\n",
        "df['content_normalized'] = df['content_normalized'].apply(lambda x: lemmatize_sentence(x))"
      ],
      "execution_count": null,
      "outputs": []
    },
    {
      "cell_type": "code",
      "metadata": {
        "id": "AX6AhDaE_YOp"
      },
      "source": [
        "tokenized_words_list = word_tokenize(\" \".join(df['content_normalized'])) #the \" \".join part is to get all into one giant string"
      ],
      "execution_count": null,
      "outputs": []
    },
    {
      "cell_type": "markdown",
      "metadata": {
        "id": "HgxI9zXdC8UA"
      },
      "source": [
        "Finding most common words and bigrams (without removing stopwords):"
      ]
    },
    {
      "cell_type": "code",
      "metadata": {
        "colab": {
          "base_uri": "https://localhost:8080/"
        },
        "id": "JNVSChnK63mb",
        "outputId": "1c0187f7-92f5-43d6-90e3-814d73e9a946"
      },
      "source": [
        "Counter(tokenized_words_list).most_common(10)"
      ],
      "execution_count": null,
      "outputs": [
        {
          "output_type": "execute_result",
          "data": {
            "text/plain": [
              "[('و', 20174),\n",
              " ('در', 15879),\n",
              " ('به', 13579),\n",
              " ('از', 9616),\n",
              " ('که', 9235),\n",
              " ('این', 8472),\n",
              " ('کن', 7880),\n",
              " ('را', 7522),\n",
              " ('با', 6412),\n",
              " ('شو', 5835)]"
            ]
          },
          "metadata": {
            "tags": []
          },
          "execution_count": 173
        }
      ]
    },
    {
      "cell_type": "code",
      "metadata": {
        "id": "Hk2Tayu891wi",
        "colab": {
          "base_uri": "https://localhost:8080/"
        },
        "outputId": "5e7b58cc-dc84-4942-f669-f82255a249b1"
      },
      "source": [
        "bigram_counts = Counter(ngrams(tokenized_words_list, 2))\n",
        "bigram_counts.most_common(10)"
      ],
      "execution_count": null,
      "outputs": [
        {
          "output_type": "execute_result",
          "data": {
            "text/plain": [
              "[(('است', 'که'), 1368),\n",
              " (('در', 'این'), 1302),\n",
              " (('کن', 'و'), 1057),\n",
              " (('که', 'در'), 1029),\n",
              " (('را', 'به'), 931),\n",
              " (('به', 'گزارش'), 789),\n",
              " (('شو', 'و'), 727),\n",
              " (('و', 'در'), 665),\n",
              " (('را', 'در'), 650),\n",
              " (('کن', 'که'), 636)]"
            ]
          },
          "metadata": {
            "tags": []
          },
          "execution_count": 174
        }
      ]
    },
    {
      "cell_type": "markdown",
      "metadata": {
        "id": "34-BEOQnNlQI"
      },
      "source": [
        "**Part 2**"
      ]
    },
    {
      "cell_type": "markdown",
      "metadata": {
        "id": "vGm7aj7tO93Y"
      },
      "source": [
        "persian stopwords source: [link1](https://bigdata-ir.com/ایست‌واژه‌ها-یا-stop-word-در-زبان-فارسی/) (stopwords-Farsi1) and [link2](https://github.com/kharazi/persian-stopwords/blob/master/persian) (stopwords-Farsi2)"
      ]
    },
    {
      "cell_type": "code",
      "metadata": {
        "id": "LhuaPFTlNpWv"
      },
      "source": [
        "document = Document('/content/drive/MyDrive/datasets/stopwords-Farsi2.docx')\n",
        "\n",
        "persian_stopwords = []\n",
        "\n",
        "for para in document.paragraphs:\n",
        "    persian_stopwords.append(para.text)"
      ],
      "execution_count": null,
      "outputs": []
    },
    {
      "cell_type": "code",
      "metadata": {
        "id": "pl3pfB42SvFF"
      },
      "source": [
        "def remove_stopwords(sentence):\n",
        "  querywords = sentence.split()\n",
        "  resultwords  = [word for word in querywords if word not in persian_stopwords]\n",
        "  return ' '.join(resultwords)"
      ],
      "execution_count": null,
      "outputs": []
    },
    {
      "cell_type": "code",
      "metadata": {
        "id": "TwiKmV1vOu_y"
      },
      "source": [
        "'''lets remove their puncuation'''\n",
        "\n",
        "punc_table = str.maketrans(dict.fromkeys(string.punctuation + \"؟،«»؛\"))\n",
        "df['content_normalized'] = df['content'].apply(lambda x: x.translate(punc_table))\n",
        "\n",
        "\n",
        "'''removing the stopwords...'''\n",
        "\n",
        "df['content_normalized'] = df['content_normalized'].apply(lambda x: remove_stopwords(x))\n",
        "\n",
        "\n",
        "'''Now for the lemmatizing!'''\n",
        "\n",
        "df['content_normalized'] = df['content_normalized'].apply(lambda x: lemmatize_sentence(x))"
      ],
      "execution_count": null,
      "outputs": []
    },
    {
      "cell_type": "code",
      "metadata": {
        "id": "s6xphoMBZQc1"
      },
      "source": [
        "tokenized_words_list = word_tokenize(\" \".join(df['content_normalized'])) #the \" \".join part is to get all into one giant string"
      ],
      "execution_count": null,
      "outputs": []
    },
    {
      "cell_type": "code",
      "metadata": {
        "colab": {
          "base_uri": "https://localhost:8080/"
        },
        "id": "YPk3h9NrUp_V",
        "outputId": "2200bdb7-79b6-4d8c-dd19-7ded363c07d8"
      },
      "source": [
        "txt = df['content_normalized']\n",
        "Counter(tokenized_words_list).most_common(10)"
      ],
      "execution_count": null,
      "outputs": [
        {
          "output_type": "execute_result",
          "data": {
            "text/plain": [
              "[('کشور', 2157),\n",
              " ('سال', 1847),\n",
              " ('دولت', 1804),\n",
              " ('ایران', 1389),\n",
              " ('کن', 1360),\n",
              " ('کار', 1287),\n",
              " ('اقتصاد', 1244),\n",
              " ('شهر', 1077),\n",
              " ('انتخابات', 1066),\n",
              " ('گزارش', 996)]"
            ]
          },
          "metadata": {
            "tags": []
          },
          "execution_count": 180
        }
      ]
    },
    {
      "cell_type": "code",
      "metadata": {
        "colab": {
          "base_uri": "https://localhost:8080/"
        },
        "id": "bBuwwSbTkXnV",
        "outputId": "dc598ef2-7e4e-4815-8bdf-ddd73411f8fa"
      },
      "source": [
        "bigram_counts = Counter(ngrams(tokenized_words_list, 2))\n",
        "bigram_counts.most_common(10)"
      ],
      "execution_count": null,
      "outputs": [
        {
          "output_type": "execute_result",
          "data": {
            "text/plain": [
              "[(('ریاست', 'جمهوری'), 437),\n",
              " (('انتخابات', 'ریاست'), 288),\n",
              " (('شورا', 'شهر'), 265),\n",
              " (('دولت', 'یازدهم'), 222),\n",
              " (('انتهای', 'پیام'), 185),\n",
              " (('رئیس', 'جمهور'), 170),\n",
              " (('گزارش', 'خبرنگار'), 162),\n",
              " (('فرزند', 'محمد'), 160),\n",
              " (('شورا', 'اسلام'), 155),\n",
              " (('اقتصاد', 'مقاومت'), 146)]"
            ]
          },
          "metadata": {
            "tags": []
          },
          "execution_count": 181
        }
      ]
    },
    {
      "cell_type": "markdown",
      "metadata": {
        "id": "R7E9aK_aksUT"
      },
      "source": [
        "seems like we're getting good results :)"
      ]
    },
    {
      "cell_type": "markdown",
      "metadata": {
        "id": "qDZ7jcxrmbxi"
      },
      "source": [
        "**Part 3**"
      ]
    },
    {
      "cell_type": "code",
      "metadata": {
        "id": "cV2ykIlImpqs"
      },
      "source": [
        "df['num_sentences'] = df['content'].apply(lambda x: len(sent_tokenize(x)))"
      ],
      "execution_count": null,
      "outputs": []
    },
    {
      "cell_type": "code",
      "metadata": {
        "colab": {
          "base_uri": "https://localhost:8080/",
          "height": 1000
        },
        "id": "t4yBAWFlzOMM",
        "outputId": "7318223e-9644-4c57-a250-b51daaa40fd0"
      },
      "source": [
        "df"
      ],
      "execution_count": null,
      "outputs": [
        {
          "output_type": "execute_result",
          "data": {
            "text/html": [
              "<div>\n",
              "<style scoped>\n",
              "    .dataframe tbody tr th:only-of-type {\n",
              "        vertical-align: middle;\n",
              "    }\n",
              "\n",
              "    .dataframe tbody tr th {\n",
              "        vertical-align: top;\n",
              "    }\n",
              "\n",
              "    .dataframe thead th {\n",
              "        text-align: right;\n",
              "    }\n",
              "</style>\n",
              "<table border=\"1\" class=\"dataframe\">\n",
              "  <thead>\n",
              "    <tr style=\"text-align: right;\">\n",
              "      <th></th>\n",
              "      <th>agency</th>\n",
              "      <th>category</th>\n",
              "      <th>content</th>\n",
              "      <th>date_created</th>\n",
              "      <th>image</th>\n",
              "      <th>lead</th>\n",
              "      <th>title</th>\n",
              "      <th>url</th>\n",
              "      <th>content_normalized</th>\n",
              "      <th>num_sentences</th>\n",
              "    </tr>\n",
              "  </thead>\n",
              "  <tbody>\n",
              "    <tr>\n",
              "      <th>0</th>\n",
              "      <td>13</td>\n",
              "      <td>15</td>\n",
              "      <td>فهیمه حسن‌میری: اگرچه در هیاهوی انتخابات ریاس...</td>\n",
              "      <td>1.494518e+09</td>\n",
              "      <td>uploads/2017/05/11/1589793661.jpg</td>\n",
              "      <td>جامعه&amp;nbsp;&amp;gt;&amp;nbsp;شهری - میزگردی درباره عمل...</td>\n",
              "      <td>کارهای قالیباف در تهران نمایشی بود- شورای‌شهر ...</td>\n",
              "      <td>http://www.khabaronline.ir/(X(1)S(bud4wg3ebzbx...</td>\n",
              "      <td>فهیمه حسن‌میری هیاهو انتخابات ریاست جمهوری موض...</td>\n",
              "      <td>150</td>\n",
              "    </tr>\n",
              "    <tr>\n",
              "      <th>1</th>\n",
              "      <td>1</td>\n",
              "      <td>20</td>\n",
              "      <td>به گزارش خبرگزاری فارس از قم، محمدعلی برزنونی ...</td>\n",
              "      <td>1.494522e+09</td>\n",
              "      <td>uploads/2017/05/11/1713799235.jpg</td>\n",
              "      <td>مدیر مؤسسه علمی و پژوهشی ابن‌سینا در بوسنی گفت...</td>\n",
              "      <td>معنویت در عصر آخرالزمان احیا می‌شود</td>\n",
              "      <td>http://www.farsnews.com/13960221001386</td>\n",
              "      <td>گزارش خبرگزاری فارس قم محمدعلی برزنونی عصر کمی...</td>\n",
              "      <td>11</td>\n",
              "    </tr>\n",
              "    <tr>\n",
              "      <th>2</th>\n",
              "      <td>36</td>\n",
              "      <td>5</td>\n",
              "      <td>به گزارش ایرنا، تیم‌های تراکتورسازی تبریز و ن...</td>\n",
              "      <td>1.494522e+09</td>\n",
              "      <td>uploads/2017/05/11/2561366787.jpg</td>\n",
              "      <td>تهران - ایرنا - دیدار پایانی جام حذفی باشگاه ه...</td>\n",
              "      <td>فینال جام حذفی؛ وداع البرز حاجی پور از داوری-3...</td>\n",
              "      <td>http://www.irna.ir/fa/News/82525960/</td>\n",
              "      <td>گزارش ایرنا تیم‌های تراکتورسازی تبریز نفت تهرا...</td>\n",
              "      <td>13</td>\n",
              "    </tr>\n",
              "    <tr>\n",
              "      <th>3</th>\n",
              "      <td>13</td>\n",
              "      <td>8</td>\n",
              "      <td>به گزارش خبرگزاری خبرآنلاین، جمشید مشایخی، هن...</td>\n",
              "      <td>1.494522e+09</td>\n",
              "      <td>uploads/2017/05/11/109987278.jpg</td>\n",
              "      <td>فرهنگ&amp;nbsp;&amp;gt;&amp;nbsp;سینما - جمشید مشایخی، امر...</td>\n",
              "      <td>موضع انتخاباتی جمشید مشایخی روی تخت بیمارستان-...</td>\n",
              "      <td>http://www.khabaronline.ir/(X(1)S(nducmtisxqhw...</td>\n",
              "      <td>گزارش خبرگزاری خبرآنلاین جمشید مشایخ هنرمند پی...</td>\n",
              "      <td>15</td>\n",
              "    </tr>\n",
              "    <tr>\n",
              "      <th>4</th>\n",
              "      <td>13</td>\n",
              "      <td>7</td>\n",
              "      <td>به گزارش خبرآنلاین، پیش‌تر گفته شد سامسونگ و ...</td>\n",
              "      <td>1.494522e+09</td>\n",
              "      <td>uploads/2017/05/11/3295317773.jpg</td>\n",
              "      <td>فناوری اطلاعات&amp;nbsp;&amp;gt;&amp;nbsp;سخت افزار - اسنپ...</td>\n",
              "      <td>مشخصات فنی پردازنده اسنپ دراگون ۸۴۵- رونمایی ا...</td>\n",
              "      <td>http://www.khabaronline.ir/(X(1)S(uupfbn0kvlth...</td>\n",
              "      <td>گزارش خبرآنلاین پیش سامسونگ TSMC تایوان قصد سا...</td>\n",
              "      <td>8</td>\n",
              "    </tr>\n",
              "    <tr>\n",
              "      <th>...</th>\n",
              "      <td>...</td>\n",
              "      <td>...</td>\n",
              "      <td>...</td>\n",
              "      <td>...</td>\n",
              "      <td>...</td>\n",
              "      <td>...</td>\n",
              "      <td>...</td>\n",
              "      <td>...</td>\n",
              "      <td>...</td>\n",
              "      <td>...</td>\n",
              "    </tr>\n",
              "    <tr>\n",
              "      <th>995</th>\n",
              "      <td>2</td>\n",
              "      <td>15</td>\n",
              "      <td>سردار بخشعلی کامرانی صالح روز شنبه درگفت و گو...</td>\n",
              "      <td>1.494660e+09</td>\n",
              "      <td>uploads/2017/05/13/4034459417.jpg</td>\n",
              "      <td>کرج -ایرنا- فرمانده انتظامی استان البرز گفت که...</td>\n",
              "      <td>مبارزه با کالای قاچاق به عزم ملی و مشارکت گستر...</td>\n",
              "      <td>http://www.irna.ir/fa/News/82527216/</td>\n",
              "      <td>سردار بخشعلی کامران صالح شنبه درگفت خبرنگار ای...</td>\n",
              "      <td>5</td>\n",
              "    </tr>\n",
              "    <tr>\n",
              "      <th>996</th>\n",
              "      <td>33</td>\n",
              "      <td>31</td>\n",
              "      <td>به گزارش خبرگزاری صداوسیما، مرکز خراسان رضوی،...</td>\n",
              "      <td>1.494660e+09</td>\n",
              "      <td>False</td>\n",
              "      <td>سفیر استرالیا در ایران گفت: شاهنامه فردوسی از ...</td>\n",
              "      <td>شاهنامه فردوسی نماینده یکی از بزرگترین تمدن ها...</td>\n",
              "      <td>http://www.iribnews.ir/fa/news/1630788/%D8%B4%...</td>\n",
              "      <td>گزارش خبرگزاری صداوسیما مرکز خراسان رضوی ایان ...</td>\n",
              "      <td>4</td>\n",
              "    </tr>\n",
              "    <tr>\n",
              "      <th>997</th>\n",
              "      <td>36</td>\n",
              "      <td>5</td>\n",
              "      <td>نسیمی شاد در رشته ۵۰ متر قورباغه با ثبت زمان ...</td>\n",
              "      <td>1.494661e+09</td>\n",
              "      <td>uploads/2017/05/13/2941477288.jpg</td>\n",
              "      <td>باکو - ایرنا - «آریا نسیمی شاد» شناگر ایرانی د...</td>\n",
              "      <td>بازی های کشورهای اسلامی- نمایندگان شنا، کاراته...</td>\n",
              "      <td>http://www.irna.ir/fa/News/82527314/</td>\n",
              "      <td>نسیم شاد ۵۰ متر قورباغه ثبت ۲۹ ثانیه ۵۸ صدم ثا...</td>\n",
              "      <td>12</td>\n",
              "    </tr>\n",
              "    <tr>\n",
              "      <th>998</th>\n",
              "      <td>33</td>\n",
              "      <td>1</td>\n",
              "      <td>به گزارش خبرنگار خبرگزاری صدا و سیما، نمایندگ...</td>\n",
              "      <td>1.494661e+09</td>\n",
              "      <td>False</td>\n",
              "      <td>جلسه هماهنگی شورای نگهبان با نمایندگان نامزدها...</td>\n",
              "      <td>آغاز جلسه هماهنگی شورای نگهبان با نمایندگان نا...</td>\n",
              "      <td>http://www.iribnews.ir/fa/news/1630875/%D8%A2%...</td>\n",
              "      <td>گزارش خبرنگار خبرگزاری صدا سیما نمایندگان جلسه...</td>\n",
              "      <td>2</td>\n",
              "    </tr>\n",
              "    <tr>\n",
              "      <th>999</th>\n",
              "      <td>34</td>\n",
              "      <td>15</td>\n",
              "      <td>به گزارش گروه جامعه خبرگزاری میزان، سردار سعی...</td>\n",
              "      <td>1.494661e+09</td>\n",
              "      <td></td>\n",
              "      <td>خبرگزاری میزان- فرمانده مرزبانی استان سیستان و...</td>\n",
              "      <td>کشف یک تن و 925 کیلو گرم انواع مواد مخدر در مرز</td>\n",
              "      <td>http://www.mizanonline.ir/fa/news/308404/%DA%A...</td>\n",
              "      <td>گزارش گروه جامعه خبرگزاری سردار سعید کمیل اظها...</td>\n",
              "      <td>6</td>\n",
              "    </tr>\n",
              "  </tbody>\n",
              "</table>\n",
              "<p>1000 rows × 10 columns</p>\n",
              "</div>"
            ],
            "text/plain": [
              "    agency  ... num_sentences\n",
              "0       13  ...           150\n",
              "1        1  ...            11\n",
              "2       36  ...            13\n",
              "3       13  ...            15\n",
              "4       13  ...             8\n",
              "..     ...  ...           ...\n",
              "995      2  ...             5\n",
              "996     33  ...             4\n",
              "997     36  ...            12\n",
              "998     33  ...             2\n",
              "999     34  ...             6\n",
              "\n",
              "[1000 rows x 10 columns]"
            ]
          },
          "metadata": {
            "tags": []
          },
          "execution_count": 183
        }
      ]
    }
  ]
}